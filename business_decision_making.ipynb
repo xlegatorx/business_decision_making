{
 "cells": [
  {
   "cell_type": "markdown",
   "metadata": {},
   "source": [
    "### Часть. Приоритизация гипотез."
   ]
  },
  {
   "cell_type": "code",
   "execution_count": 1,
   "metadata": {},
   "outputs": [],
   "source": [
    "import pandas as pd\n",
    "import datetime as dt\n",
    "import numpy as np\n",
    "import matplotlib.pyplot as plt\n",
    "from pandas.plotting import register_matplotlib_converters\n",
    "import scipy.stats as st\n",
    "import math\n",
    "import warnings\n",
    "register_matplotlib_converters()"
   ]
  },
  {
   "cell_type": "code",
   "execution_count": 2,
   "metadata": {},
   "outputs": [],
   "source": [
    "data = pd.read_csv('/datasets/hypothesis.csv')"
   ]
  },
  {
   "cell_type": "code",
   "execution_count": 3,
   "metadata": {
    "scrolled": false
   },
   "outputs": [
    {
     "name": "stdout",
     "output_type": "stream",
     "text": [
      "Ознакомление с датафреймом\n",
      "\n"
     ]
    },
    {
     "data": {
      "text/html": [
       "<div>\n",
       "<style scoped>\n",
       "    .dataframe tbody tr th:only-of-type {\n",
       "        vertical-align: middle;\n",
       "    }\n",
       "\n",
       "    .dataframe tbody tr th {\n",
       "        vertical-align: top;\n",
       "    }\n",
       "\n",
       "    .dataframe thead th {\n",
       "        text-align: right;\n",
       "    }\n",
       "</style>\n",
       "<table border=\"1\" class=\"dataframe\">\n",
       "  <thead>\n",
       "    <tr style=\"text-align: right;\">\n",
       "      <th></th>\n",
       "      <th>Hypothesis</th>\n",
       "      <th>Reach</th>\n",
       "      <th>Impact</th>\n",
       "      <th>Confidence</th>\n",
       "      <th>Efforts</th>\n",
       "    </tr>\n",
       "  </thead>\n",
       "  <tbody>\n",
       "    <tr>\n",
       "      <th>0</th>\n",
       "      <td>Добавить два новых канала привлечения трафика,...</td>\n",
       "      <td>3</td>\n",
       "      <td>10</td>\n",
       "      <td>8</td>\n",
       "      <td>6</td>\n",
       "    </tr>\n",
       "    <tr>\n",
       "      <th>1</th>\n",
       "      <td>Запустить собственную службу доставки, что сок...</td>\n",
       "      <td>2</td>\n",
       "      <td>5</td>\n",
       "      <td>4</td>\n",
       "      <td>10</td>\n",
       "    </tr>\n",
       "    <tr>\n",
       "      <th>2</th>\n",
       "      <td>Добавить блоки рекомендаций товаров на сайт ин...</td>\n",
       "      <td>8</td>\n",
       "      <td>3</td>\n",
       "      <td>7</td>\n",
       "      <td>3</td>\n",
       "    </tr>\n",
       "    <tr>\n",
       "      <th>3</th>\n",
       "      <td>Изменить структура категорий, что увеличит кон...</td>\n",
       "      <td>8</td>\n",
       "      <td>3</td>\n",
       "      <td>3</td>\n",
       "      <td>8</td>\n",
       "    </tr>\n",
       "    <tr>\n",
       "      <th>4</th>\n",
       "      <td>Изменить цвет фона главной страницы, чтобы уве...</td>\n",
       "      <td>3</td>\n",
       "      <td>1</td>\n",
       "      <td>1</td>\n",
       "      <td>1</td>\n",
       "    </tr>\n",
       "    <tr>\n",
       "      <th>5</th>\n",
       "      <td>Добавить страницу отзывов клиентов о магазине,...</td>\n",
       "      <td>3</td>\n",
       "      <td>2</td>\n",
       "      <td>2</td>\n",
       "      <td>3</td>\n",
       "    </tr>\n",
       "    <tr>\n",
       "      <th>6</th>\n",
       "      <td>Показать на главной странице баннеры с актуаль...</td>\n",
       "      <td>5</td>\n",
       "      <td>3</td>\n",
       "      <td>8</td>\n",
       "      <td>3</td>\n",
       "    </tr>\n",
       "    <tr>\n",
       "      <th>7</th>\n",
       "      <td>Добавить форму подписки на все основные страни...</td>\n",
       "      <td>10</td>\n",
       "      <td>7</td>\n",
       "      <td>8</td>\n",
       "      <td>5</td>\n",
       "    </tr>\n",
       "    <tr>\n",
       "      <th>8</th>\n",
       "      <td>Запустить акцию, дающую скидку на товар в день...</td>\n",
       "      <td>1</td>\n",
       "      <td>9</td>\n",
       "      <td>9</td>\n",
       "      <td>5</td>\n",
       "    </tr>\n",
       "  </tbody>\n",
       "</table>\n",
       "</div>"
      ],
      "text/plain": [
       "                                          Hypothesis  Reach  Impact  \\\n",
       "0  Добавить два новых канала привлечения трафика,...      3      10   \n",
       "1  Запустить собственную службу доставки, что сок...      2       5   \n",
       "2  Добавить блоки рекомендаций товаров на сайт ин...      8       3   \n",
       "3  Изменить структура категорий, что увеличит кон...      8       3   \n",
       "4  Изменить цвет фона главной страницы, чтобы уве...      3       1   \n",
       "5  Добавить страницу отзывов клиентов о магазине,...      3       2   \n",
       "6  Показать на главной странице баннеры с актуаль...      5       3   \n",
       "7  Добавить форму подписки на все основные страни...     10       7   \n",
       "8  Запустить акцию, дающую скидку на товар в день...      1       9   \n",
       "\n",
       "   Confidence  Efforts  \n",
       "0           8        6  \n",
       "1           4       10  \n",
       "2           7        3  \n",
       "3           3        8  \n",
       "4           1        1  \n",
       "5           2        3  \n",
       "6           8        3  \n",
       "7           8        5  \n",
       "8           9        5  "
      ]
     },
     "metadata": {},
     "output_type": "display_data"
    },
    {
     "name": "stdout",
     "output_type": "stream",
     "text": [
      "Получены все 10 строк датафрейма\n",
      "\n",
      "Общее количество столбцов в датафрейме: 5 Количество строк в датафрейме 9\n",
      "\n",
      "<class 'pandas.core.frame.DataFrame'>\n",
      "RangeIndex: 9 entries, 0 to 8\n",
      "Data columns (total 5 columns):\n",
      " #   Column      Non-Null Count  Dtype \n",
      "---  ------      --------------  ----- \n",
      " 0   Hypothesis  9 non-null      object\n",
      " 1   Reach       9 non-null      int64 \n",
      " 2   Impact      9 non-null      int64 \n",
      " 3   Confidence  9 non-null      int64 \n",
      " 4   Efforts     9 non-null      int64 \n",
      "dtypes: int64(4), object(1)\n",
      "memory usage: 488.0+ bytes\n",
      "None\n",
      "Получена основная информация о датафрейме\n",
      "\n",
      "Количество пропущенных в каждом столбце:\n",
      "Hypothesis    0\n",
      "Reach         0\n",
      "Impact        0\n",
      "Confidence    0\n",
      "Efforts       0\n",
      "dtype: int64\n",
      "\n",
      "Количество полностью дублирующихся строк: 0, в процентах 0\n"
     ]
    }
   ],
   "source": [
    "def total_info(data):\n",
    "    print('Ознакомление с датафреймом')\n",
    "    print('')\n",
    "    \n",
    "    \n",
    "    display(data.head(10))\n",
    "    print('Получены все 10 строк датафрейма')\n",
    "    print('')\n",
    "    \n",
    "    size = 'Общее количество столбцов в датафрейме: {cols} Количество строк в датафрейме {rows}'\n",
    "    size = size.format(cols = data.shape[1], rows = data.shape[0])\n",
    "    print(size)\n",
    "    print('')\n",
    "    \n",
    "    print(data.info())\n",
    "    print('Получена основная информация о датафрейме')\n",
    "    print('')\n",
    "    \n",
    "    print('Количество пропущенных в каждом столбце:')\n",
    "    print(data.isna().sum())\n",
    "    print('')\n",
    "    \n",
    "    duplicated = 'Количество полностью дублирующихся строк: {duplicate}, в процентах {percent}'\n",
    "    duplicated = duplicated.format(duplicate = data.duplicated().sum(),\\\n",
    "                                   percent = int(data.duplicated().sum() / data.shape[0]))\n",
    "    print(duplicated)\n",
    "\n",
    "total_info(data)"
   ]
  },
  {
   "cell_type": "markdown",
   "metadata": {},
   "source": [
    "- Reach — скольких пользователей затронет изменение, которое вы хотите внести;\n",
    "- Impact — насколько сильно изменение повлияет на пользователей, их опыт и удовлетворение от продукта;\n",
    "- Confidence — насколько вы уверены, что это изменение повлияет на пользователей именно так; \n",
    "- Efforts — сколько стоит протестировать эту гипотезу. "
   ]
  },
  {
   "cell_type": "markdown",
   "metadata": {},
   "source": [
    "#### Примените фреймворк ICE для приоритизации гипотез. Отсортируйте их по убыванию приоритета."
   ]
  },
  {
   "cell_type": "code",
   "execution_count": 4,
   "metadata": {},
   "outputs": [],
   "source": [
    "data['ICE'] = (data['Impact'] * data['Confidence']) / data['Efforts']"
   ]
  },
  {
   "cell_type": "code",
   "execution_count": 5,
   "metadata": {
    "scrolled": true
   },
   "outputs": [
    {
     "data": {
      "text/html": [
       "<div>\n",
       "<style scoped>\n",
       "    .dataframe tbody tr th:only-of-type {\n",
       "        vertical-align: middle;\n",
       "    }\n",
       "\n",
       "    .dataframe tbody tr th {\n",
       "        vertical-align: top;\n",
       "    }\n",
       "\n",
       "    .dataframe thead th {\n",
       "        text-align: right;\n",
       "    }\n",
       "</style>\n",
       "<table border=\"1\" class=\"dataframe\">\n",
       "  <thead>\n",
       "    <tr style=\"text-align: right;\">\n",
       "      <th></th>\n",
       "      <th>Hypothesis</th>\n",
       "      <th>ICE</th>\n",
       "    </tr>\n",
       "  </thead>\n",
       "  <tbody>\n",
       "    <tr>\n",
       "      <th>8</th>\n",
       "      <td>Запустить акцию, дающую скидку на товар в день рождения</td>\n",
       "      <td>16.200000</td>\n",
       "    </tr>\n",
       "    <tr>\n",
       "      <th>0</th>\n",
       "      <td>Добавить два новых канала привлечения трафика, что позволит привлекать на 30% больше пользователей</td>\n",
       "      <td>13.333333</td>\n",
       "    </tr>\n",
       "    <tr>\n",
       "      <th>7</th>\n",
       "      <td>Добавить форму подписки на все основные страницы, чтобы собрать базу клиентов для email-рассылок</td>\n",
       "      <td>11.200000</td>\n",
       "    </tr>\n",
       "    <tr>\n",
       "      <th>6</th>\n",
       "      <td>Показать на главной странице баннеры с актуальными акциями и распродажами, чтобы увеличить конверсию</td>\n",
       "      <td>8.000000</td>\n",
       "    </tr>\n",
       "    <tr>\n",
       "      <th>2</th>\n",
       "      <td>Добавить блоки рекомендаций товаров на сайт интернет магазина, чтобы повысить конверсию и средний чек заказа</td>\n",
       "      <td>7.000000</td>\n",
       "    </tr>\n",
       "    <tr>\n",
       "      <th>1</th>\n",
       "      <td>Запустить собственную службу доставки, что сократит срок доставки заказов</td>\n",
       "      <td>2.000000</td>\n",
       "    </tr>\n",
       "    <tr>\n",
       "      <th>5</th>\n",
       "      <td>Добавить страницу отзывов клиентов о магазине, что позволит увеличить количество заказов</td>\n",
       "      <td>1.333333</td>\n",
       "    </tr>\n",
       "    <tr>\n",
       "      <th>3</th>\n",
       "      <td>Изменить структура категорий, что увеличит конверсию, т.к. пользователи быстрее найдут нужный товар</td>\n",
       "      <td>1.125000</td>\n",
       "    </tr>\n",
       "    <tr>\n",
       "      <th>4</th>\n",
       "      <td>Изменить цвет фона главной страницы, чтобы увеличить вовлеченность пользователей</td>\n",
       "      <td>1.000000</td>\n",
       "    </tr>\n",
       "  </tbody>\n",
       "</table>\n",
       "</div>"
      ],
      "text/plain": [
       "                                                                                                     Hypothesis  \\\n",
       "8                                                       Запустить акцию, дающую скидку на товар в день рождения   \n",
       "0            Добавить два новых канала привлечения трафика, что позволит привлекать на 30% больше пользователей   \n",
       "7              Добавить форму подписки на все основные страницы, чтобы собрать базу клиентов для email-рассылок   \n",
       "6          Показать на главной странице баннеры с актуальными акциями и распродажами, чтобы увеличить конверсию   \n",
       "2  Добавить блоки рекомендаций товаров на сайт интернет магазина, чтобы повысить конверсию и средний чек заказа   \n",
       "1                                     Запустить собственную службу доставки, что сократит срок доставки заказов   \n",
       "5                      Добавить страницу отзывов клиентов о магазине, что позволит увеличить количество заказов   \n",
       "3           Изменить структура категорий, что увеличит конверсию, т.к. пользователи быстрее найдут нужный товар   \n",
       "4                              Изменить цвет фона главной страницы, чтобы увеличить вовлеченность пользователей   \n",
       "\n",
       "         ICE  \n",
       "8  16.200000  \n",
       "0  13.333333  \n",
       "7  11.200000  \n",
       "6   8.000000  \n",
       "2   7.000000  \n",
       "1   2.000000  \n",
       "5   1.333333  \n",
       "3   1.125000  \n",
       "4   1.000000  "
      ]
     },
     "metadata": {},
     "output_type": "display_data"
    }
   ],
   "source": [
    "pd.options.display.max_colwidth = 155\n",
    "display(data.sort_values(by = 'ICE', ascending = False)[['Hypothesis','ICE']])"
   ]
  },
  {
   "cell_type": "markdown",
   "metadata": {},
   "source": [
    "По оценке ICE **8,0,7** гипотезы обладают наивысшим приоритетом за счет высоких баллов по Impact и Confidence."
   ]
  },
  {
   "cell_type": "markdown",
   "metadata": {},
   "source": [
    "#### Примените фреймворк RICE для приоритизации гипотез. Отсортируйте их по убыванию приоритета."
   ]
  },
  {
   "cell_type": "code",
   "execution_count": 6,
   "metadata": {
    "scrolled": true
   },
   "outputs": [],
   "source": [
    "data['RICE'] = (data['Impact'] * data['Confidence'] * data['Reach']) / data['Efforts']"
   ]
  },
  {
   "cell_type": "code",
   "execution_count": 7,
   "metadata": {},
   "outputs": [
    {
     "data": {
      "text/html": [
       "<div>\n",
       "<style scoped>\n",
       "    .dataframe tbody tr th:only-of-type {\n",
       "        vertical-align: middle;\n",
       "    }\n",
       "\n",
       "    .dataframe tbody tr th {\n",
       "        vertical-align: top;\n",
       "    }\n",
       "\n",
       "    .dataframe thead th {\n",
       "        text-align: right;\n",
       "    }\n",
       "</style>\n",
       "<table border=\"1\" class=\"dataframe\">\n",
       "  <thead>\n",
       "    <tr style=\"text-align: right;\">\n",
       "      <th></th>\n",
       "      <th>Hypothesis</th>\n",
       "      <th>RICE</th>\n",
       "    </tr>\n",
       "  </thead>\n",
       "  <tbody>\n",
       "    <tr>\n",
       "      <th>7</th>\n",
       "      <td>Добавить форму подписки на все основные страницы, чтобы собрать базу клиентов для email-рассылок</td>\n",
       "      <td>112.0</td>\n",
       "    </tr>\n",
       "    <tr>\n",
       "      <th>2</th>\n",
       "      <td>Добавить блоки рекомендаций товаров на сайт интернет магазина, чтобы повысить конверсию и средний чек заказа</td>\n",
       "      <td>56.0</td>\n",
       "    </tr>\n",
       "    <tr>\n",
       "      <th>0</th>\n",
       "      <td>Добавить два новых канала привлечения трафика, что позволит привлекать на 30% больше пользователей</td>\n",
       "      <td>40.0</td>\n",
       "    </tr>\n",
       "    <tr>\n",
       "      <th>6</th>\n",
       "      <td>Показать на главной странице баннеры с актуальными акциями и распродажами, чтобы увеличить конверсию</td>\n",
       "      <td>40.0</td>\n",
       "    </tr>\n",
       "    <tr>\n",
       "      <th>8</th>\n",
       "      <td>Запустить акцию, дающую скидку на товар в день рождения</td>\n",
       "      <td>16.2</td>\n",
       "    </tr>\n",
       "    <tr>\n",
       "      <th>3</th>\n",
       "      <td>Изменить структура категорий, что увеличит конверсию, т.к. пользователи быстрее найдут нужный товар</td>\n",
       "      <td>9.0</td>\n",
       "    </tr>\n",
       "    <tr>\n",
       "      <th>1</th>\n",
       "      <td>Запустить собственную службу доставки, что сократит срок доставки заказов</td>\n",
       "      <td>4.0</td>\n",
       "    </tr>\n",
       "    <tr>\n",
       "      <th>5</th>\n",
       "      <td>Добавить страницу отзывов клиентов о магазине, что позволит увеличить количество заказов</td>\n",
       "      <td>4.0</td>\n",
       "    </tr>\n",
       "    <tr>\n",
       "      <th>4</th>\n",
       "      <td>Изменить цвет фона главной страницы, чтобы увеличить вовлеченность пользователей</td>\n",
       "      <td>3.0</td>\n",
       "    </tr>\n",
       "  </tbody>\n",
       "</table>\n",
       "</div>"
      ],
      "text/plain": [
       "                                                                                                     Hypothesis  \\\n",
       "7              Добавить форму подписки на все основные страницы, чтобы собрать базу клиентов для email-рассылок   \n",
       "2  Добавить блоки рекомендаций товаров на сайт интернет магазина, чтобы повысить конверсию и средний чек заказа   \n",
       "0            Добавить два новых канала привлечения трафика, что позволит привлекать на 30% больше пользователей   \n",
       "6          Показать на главной странице баннеры с актуальными акциями и распродажами, чтобы увеличить конверсию   \n",
       "8                                                       Запустить акцию, дающую скидку на товар в день рождения   \n",
       "3           Изменить структура категорий, что увеличит конверсию, т.к. пользователи быстрее найдут нужный товар   \n",
       "1                                     Запустить собственную службу доставки, что сократит срок доставки заказов   \n",
       "5                      Добавить страницу отзывов клиентов о магазине, что позволит увеличить количество заказов   \n",
       "4                              Изменить цвет фона главной страницы, чтобы увеличить вовлеченность пользователей   \n",
       "\n",
       "    RICE  \n",
       "7  112.0  \n",
       "2   56.0  \n",
       "0   40.0  \n",
       "6   40.0  \n",
       "8   16.2  \n",
       "3    9.0  \n",
       "1    4.0  \n",
       "5    4.0  \n",
       "4    3.0  "
      ]
     },
     "metadata": {},
     "output_type": "display_data"
    }
   ],
   "source": [
    "pd.options.display.max_colwidth = 155\n",
    "display(data.sort_values(by = 'RICE', ascending = False)[['Hypothesis','RICE']])"
   ]
  },
  {
   "cell_type": "markdown",
   "metadata": {},
   "source": [
    "- По оценке RICE **7** гипотеза обладает наивысшим приоритетом за счет максимального показателя Reach\n",
    "- Ниже по приоритету идет **2** гипотеза за счет высокого Reach и низкого Efforts\n",
    "- Далее по приоритету находятся гипотезы под номерами 0 и 6, которые набрали по 40.0 баллов за счет невысокой стоимости проведенния теста(у **6** гипотезы) и за счет высокого показателя Impact(гипотеза **0**)"
   ]
  },
  {
   "cell_type": "markdown",
   "metadata": {},
   "source": [
    "#### Укажите, как изменилась приоритизация гипотез при применении RICE вместо ICE. Объясните, почему так произошло."
   ]
  },
  {
   "cell_type": "markdown",
   "metadata": {},
   "source": [
    "- Чем финансово затратнее проведение теста - тем ниже его приоритет (показатель Efforts) в обеих фреймворках\n",
    "- При оценке про фреймворку RICE есть дополнительный параметр Reach, чем он выше, тем выше будет приоритет гипотезы\n",
    "- При системе оценивания ICE индикатор Reach не используется"
   ]
  },
  {
   "cell_type": "markdown",
   "metadata": {},
   "source": [
    "### Часть. Анализ A/B-теста"
   ]
  },
  {
   "cell_type": "code",
   "execution_count": 8,
   "metadata": {},
   "outputs": [],
   "source": [
    "orders = pd.read_csv('/datasets/orders.csv')\n",
    "visitors = pd.read_csv('/datasets/visitors.csv')"
   ]
  },
  {
   "cell_type": "code",
   "execution_count": 9,
   "metadata": {
    "scrolled": false
   },
   "outputs": [
    {
     "name": "stdout",
     "output_type": "stream",
     "text": [
      "Ознакомление с датафреймом\n",
      "\n"
     ]
    },
    {
     "data": {
      "text/html": [
       "<div>\n",
       "<style scoped>\n",
       "    .dataframe tbody tr th:only-of-type {\n",
       "        vertical-align: middle;\n",
       "    }\n",
       "\n",
       "    .dataframe tbody tr th {\n",
       "        vertical-align: top;\n",
       "    }\n",
       "\n",
       "    .dataframe thead th {\n",
       "        text-align: right;\n",
       "    }\n",
       "</style>\n",
       "<table border=\"1\" class=\"dataframe\">\n",
       "  <thead>\n",
       "    <tr style=\"text-align: right;\">\n",
       "      <th></th>\n",
       "      <th>transactionId</th>\n",
       "      <th>visitorId</th>\n",
       "      <th>date</th>\n",
       "      <th>revenue</th>\n",
       "      <th>group</th>\n",
       "    </tr>\n",
       "  </thead>\n",
       "  <tbody>\n",
       "    <tr>\n",
       "      <th>0</th>\n",
       "      <td>3667963787</td>\n",
       "      <td>3312258926</td>\n",
       "      <td>2019-08-15</td>\n",
       "      <td>1650</td>\n",
       "      <td>B</td>\n",
       "    </tr>\n",
       "    <tr>\n",
       "      <th>1</th>\n",
       "      <td>2804400009</td>\n",
       "      <td>3642806036</td>\n",
       "      <td>2019-08-15</td>\n",
       "      <td>730</td>\n",
       "      <td>B</td>\n",
       "    </tr>\n",
       "    <tr>\n",
       "      <th>2</th>\n",
       "      <td>2961555356</td>\n",
       "      <td>4069496402</td>\n",
       "      <td>2019-08-15</td>\n",
       "      <td>400</td>\n",
       "      <td>A</td>\n",
       "    </tr>\n",
       "    <tr>\n",
       "      <th>3</th>\n",
       "      <td>3797467345</td>\n",
       "      <td>1196621759</td>\n",
       "      <td>2019-08-15</td>\n",
       "      <td>9759</td>\n",
       "      <td>B</td>\n",
       "    </tr>\n",
       "    <tr>\n",
       "      <th>4</th>\n",
       "      <td>2282983706</td>\n",
       "      <td>2322279887</td>\n",
       "      <td>2019-08-15</td>\n",
       "      <td>2308</td>\n",
       "      <td>B</td>\n",
       "    </tr>\n",
       "    <tr>\n",
       "      <th>5</th>\n",
       "      <td>182168103</td>\n",
       "      <td>935554773</td>\n",
       "      <td>2019-08-15</td>\n",
       "      <td>2210</td>\n",
       "      <td>B</td>\n",
       "    </tr>\n",
       "    <tr>\n",
       "      <th>6</th>\n",
       "      <td>398296753</td>\n",
       "      <td>2900797465</td>\n",
       "      <td>2019-08-15</td>\n",
       "      <td>1860</td>\n",
       "      <td>B</td>\n",
       "    </tr>\n",
       "    <tr>\n",
       "      <th>7</th>\n",
       "      <td>2626614568</td>\n",
       "      <td>78758296</td>\n",
       "      <td>2019-08-15</td>\n",
       "      <td>1044</td>\n",
       "      <td>A</td>\n",
       "    </tr>\n",
       "    <tr>\n",
       "      <th>8</th>\n",
       "      <td>1576988021</td>\n",
       "      <td>295230930</td>\n",
       "      <td>2019-08-15</td>\n",
       "      <td>13710</td>\n",
       "      <td>A</td>\n",
       "    </tr>\n",
       "    <tr>\n",
       "      <th>9</th>\n",
       "      <td>1506739906</td>\n",
       "      <td>1882260405</td>\n",
       "      <td>2019-08-15</td>\n",
       "      <td>1855</td>\n",
       "      <td>B</td>\n",
       "    </tr>\n",
       "  </tbody>\n",
       "</table>\n",
       "</div>"
      ],
      "text/plain": [
       "   transactionId   visitorId        date  revenue group\n",
       "0     3667963787  3312258926  2019-08-15     1650     B\n",
       "1     2804400009  3642806036  2019-08-15      730     B\n",
       "2     2961555356  4069496402  2019-08-15      400     A\n",
       "3     3797467345  1196621759  2019-08-15     9759     B\n",
       "4     2282983706  2322279887  2019-08-15     2308     B\n",
       "5      182168103   935554773  2019-08-15     2210     B\n",
       "6      398296753  2900797465  2019-08-15     1860     B\n",
       "7     2626614568    78758296  2019-08-15     1044     A\n",
       "8     1576988021   295230930  2019-08-15    13710     A\n",
       "9     1506739906  1882260405  2019-08-15     1855     B"
      ]
     },
     "metadata": {},
     "output_type": "display_data"
    },
    {
     "name": "stdout",
     "output_type": "stream",
     "text": [
      "Получены все 10 строк датафрейма\n",
      "\n",
      "Общее количество столбцов в датафрейме: 5 Количество строк в датафрейме 1197\n",
      "\n",
      "<class 'pandas.core.frame.DataFrame'>\n",
      "RangeIndex: 1197 entries, 0 to 1196\n",
      "Data columns (total 5 columns):\n",
      " #   Column         Non-Null Count  Dtype \n",
      "---  ------         --------------  ----- \n",
      " 0   transactionId  1197 non-null   int64 \n",
      " 1   visitorId      1197 non-null   int64 \n",
      " 2   date           1197 non-null   object\n",
      " 3   revenue        1197 non-null   int64 \n",
      " 4   group          1197 non-null   object\n",
      "dtypes: int64(3), object(2)\n",
      "memory usage: 46.9+ KB\n",
      "None\n",
      "Получена основная информация о датафрейме\n",
      "\n",
      "Количество пропущенных в каждом столбце:\n",
      "transactionId    0\n",
      "visitorId        0\n",
      "date             0\n",
      "revenue          0\n",
      "group            0\n",
      "dtype: int64\n",
      "\n",
      "Количество полностью дублирующихся строк: 0, в процентах 0\n"
     ]
    }
   ],
   "source": [
    "total_info(orders)"
   ]
  },
  {
   "cell_type": "code",
   "execution_count": 10,
   "metadata": {},
   "outputs": [],
   "source": [
    "orders['date'] = orders['date'].map(lambda x: dt.datetime.strptime(x, '%Y-%m-%d'))"
   ]
  },
  {
   "cell_type": "code",
   "execution_count": 11,
   "metadata": {},
   "outputs": [
    {
     "name": "stdout",
     "output_type": "stream",
     "text": [
      "<class 'pandas.core.frame.DataFrame'>\n",
      "RangeIndex: 1197 entries, 0 to 1196\n",
      "Data columns (total 5 columns):\n",
      " #   Column         Non-Null Count  Dtype         \n",
      "---  ------         --------------  -----         \n",
      " 0   transactionId  1197 non-null   int64         \n",
      " 1   visitorId      1197 non-null   int64         \n",
      " 2   date           1197 non-null   datetime64[ns]\n",
      " 3   revenue        1197 non-null   int64         \n",
      " 4   group          1197 non-null   object        \n",
      "dtypes: datetime64[ns](1), int64(3), object(1)\n",
      "memory usage: 46.9+ KB\n"
     ]
    }
   ],
   "source": [
    "orders.info()"
   ]
  },
  {
   "cell_type": "markdown",
   "metadata": {},
   "source": [
    "**Предобработка данных датафрейма orders:**\n",
    "- Названия не соотвествуют змеиному регистру, однако для простоты работы оставляю их без изменений\n",
    "- Типы данных всех столбцов,кроме date, соответствуют значениям, заложенным в них. Столбец date приведен к типу datetime64 \n",
    "- Пропуски отсутствуют\n",
    "- Дубликаты отсутствуют"
   ]
  },
  {
   "cell_type": "code",
   "execution_count": 12,
   "metadata": {},
   "outputs": [
    {
     "name": "stdout",
     "output_type": "stream",
     "text": [
      "Ознакомление с датафреймом\n",
      "\n"
     ]
    },
    {
     "data": {
      "text/html": [
       "<div>\n",
       "<style scoped>\n",
       "    .dataframe tbody tr th:only-of-type {\n",
       "        vertical-align: middle;\n",
       "    }\n",
       "\n",
       "    .dataframe tbody tr th {\n",
       "        vertical-align: top;\n",
       "    }\n",
       "\n",
       "    .dataframe thead th {\n",
       "        text-align: right;\n",
       "    }\n",
       "</style>\n",
       "<table border=\"1\" class=\"dataframe\">\n",
       "  <thead>\n",
       "    <tr style=\"text-align: right;\">\n",
       "      <th></th>\n",
       "      <th>date</th>\n",
       "      <th>group</th>\n",
       "      <th>visitors</th>\n",
       "    </tr>\n",
       "  </thead>\n",
       "  <tbody>\n",
       "    <tr>\n",
       "      <th>0</th>\n",
       "      <td>2019-08-01</td>\n",
       "      <td>A</td>\n",
       "      <td>719</td>\n",
       "    </tr>\n",
       "    <tr>\n",
       "      <th>1</th>\n",
       "      <td>2019-08-02</td>\n",
       "      <td>A</td>\n",
       "      <td>619</td>\n",
       "    </tr>\n",
       "    <tr>\n",
       "      <th>2</th>\n",
       "      <td>2019-08-03</td>\n",
       "      <td>A</td>\n",
       "      <td>507</td>\n",
       "    </tr>\n",
       "    <tr>\n",
       "      <th>3</th>\n",
       "      <td>2019-08-04</td>\n",
       "      <td>A</td>\n",
       "      <td>717</td>\n",
       "    </tr>\n",
       "    <tr>\n",
       "      <th>4</th>\n",
       "      <td>2019-08-05</td>\n",
       "      <td>A</td>\n",
       "      <td>756</td>\n",
       "    </tr>\n",
       "    <tr>\n",
       "      <th>5</th>\n",
       "      <td>2019-08-06</td>\n",
       "      <td>A</td>\n",
       "      <td>667</td>\n",
       "    </tr>\n",
       "    <tr>\n",
       "      <th>6</th>\n",
       "      <td>2019-08-07</td>\n",
       "      <td>A</td>\n",
       "      <td>644</td>\n",
       "    </tr>\n",
       "    <tr>\n",
       "      <th>7</th>\n",
       "      <td>2019-08-08</td>\n",
       "      <td>A</td>\n",
       "      <td>610</td>\n",
       "    </tr>\n",
       "    <tr>\n",
       "      <th>8</th>\n",
       "      <td>2019-08-09</td>\n",
       "      <td>A</td>\n",
       "      <td>617</td>\n",
       "    </tr>\n",
       "    <tr>\n",
       "      <th>9</th>\n",
       "      <td>2019-08-10</td>\n",
       "      <td>A</td>\n",
       "      <td>406</td>\n",
       "    </tr>\n",
       "  </tbody>\n",
       "</table>\n",
       "</div>"
      ],
      "text/plain": [
       "         date group  visitors\n",
       "0  2019-08-01     A       719\n",
       "1  2019-08-02     A       619\n",
       "2  2019-08-03     A       507\n",
       "3  2019-08-04     A       717\n",
       "4  2019-08-05     A       756\n",
       "5  2019-08-06     A       667\n",
       "6  2019-08-07     A       644\n",
       "7  2019-08-08     A       610\n",
       "8  2019-08-09     A       617\n",
       "9  2019-08-10     A       406"
      ]
     },
     "metadata": {},
     "output_type": "display_data"
    },
    {
     "name": "stdout",
     "output_type": "stream",
     "text": [
      "Получены все 10 строк датафрейма\n",
      "\n",
      "Общее количество столбцов в датафрейме: 3 Количество строк в датафрейме 62\n",
      "\n",
      "<class 'pandas.core.frame.DataFrame'>\n",
      "RangeIndex: 62 entries, 0 to 61\n",
      "Data columns (total 3 columns):\n",
      " #   Column    Non-Null Count  Dtype \n",
      "---  ------    --------------  ----- \n",
      " 0   date      62 non-null     object\n",
      " 1   group     62 non-null     object\n",
      " 2   visitors  62 non-null     int64 \n",
      "dtypes: int64(1), object(2)\n",
      "memory usage: 1.6+ KB\n",
      "None\n",
      "Получена основная информация о датафрейме\n",
      "\n",
      "Количество пропущенных в каждом столбце:\n",
      "date        0\n",
      "group       0\n",
      "visitors    0\n",
      "dtype: int64\n",
      "\n",
      "Количество полностью дублирующихся строк: 0, в процентах 0\n"
     ]
    }
   ],
   "source": [
    "total_info(visitors)"
   ]
  },
  {
   "cell_type": "code",
   "execution_count": 13,
   "metadata": {},
   "outputs": [],
   "source": [
    "visitors['date'] = visitors['date'].map(lambda x: dt.datetime.strptime(x, '%Y-%m-%d'))"
   ]
  },
  {
   "cell_type": "code",
   "execution_count": 14,
   "metadata": {},
   "outputs": [
    {
     "name": "stdout",
     "output_type": "stream",
     "text": [
      "<class 'pandas.core.frame.DataFrame'>\n",
      "RangeIndex: 62 entries, 0 to 61\n",
      "Data columns (total 3 columns):\n",
      " #   Column    Non-Null Count  Dtype         \n",
      "---  ------    --------------  -----         \n",
      " 0   date      62 non-null     datetime64[ns]\n",
      " 1   group     62 non-null     object        \n",
      " 2   visitors  62 non-null     int64         \n",
      "dtypes: datetime64[ns](1), int64(1), object(1)\n",
      "memory usage: 1.6+ KB\n"
     ]
    }
   ],
   "source": [
    "visitors.info()"
   ]
  },
  {
   "cell_type": "markdown",
   "metadata": {},
   "source": [
    "**Предобработка данных датафрейма visitors:**\n",
    "- Названия столбцов соответствуют змеиному регистру\n",
    "- Типы данных всех столбцов соответствуют значениям, заложенным в них. Столбец date приведен к типу datetime64 \n",
    "- Пропуски отсутствуют\n",
    "- Дубликаты отсутствуют"
   ]
  },
  {
   "cell_type": "code",
   "execution_count": 15,
   "metadata": {},
   "outputs": [
    {
     "name": "stdout",
     "output_type": "stream",
     "text": [
      "Количество пользователей вошедших в обе группы - 58\n"
     ]
    }
   ],
   "source": [
    "double_group_users = np.intersect1d(orders[orders['group'] == 'A']['visitorId'].unique(), \\\n",
    "                                    orders[orders['group'] == 'B']['visitorId'].unique())\n",
    "print('Количество пользователей вошедших в обе группы -', len(double_group_users))"
   ]
  },
  {
   "cell_type": "code",
   "execution_count": 16,
   "metadata": {},
   "outputs": [],
   "source": [
    "orders = orders[np.logical_not(orders['visitorId'].isin(double_group_users))]"
   ]
  },
  {
   "cell_type": "markdown",
   "metadata": {},
   "source": [
    "58 Пользователей оказались в обеих группах. Это составляет 4.8%  общего количества данных. В результате теста эти данные могут исказить результаты, поэтому принято решения удалить из датафрейма дублирующихся в обеих группах пользователей"
   ]
  },
  {
   "cell_type": "markdown",
   "metadata": {},
   "source": [
    "#### Постройте график кумулятивной выручки по группам. Сделайте выводы и предположения."
   ]
  },
  {
   "cell_type": "code",
   "execution_count": 17,
   "metadata": {},
   "outputs": [
    {
     "data": {
      "text/html": [
       "<div>\n",
       "<style scoped>\n",
       "    .dataframe tbody tr th:only-of-type {\n",
       "        vertical-align: middle;\n",
       "    }\n",
       "\n",
       "    .dataframe tbody tr th {\n",
       "        vertical-align: top;\n",
       "    }\n",
       "\n",
       "    .dataframe thead th {\n",
       "        text-align: right;\n",
       "    }\n",
       "</style>\n",
       "<table border=\"1\" class=\"dataframe\">\n",
       "  <thead>\n",
       "    <tr style=\"text-align: right;\">\n",
       "      <th></th>\n",
       "      <th>date</th>\n",
       "      <th>group</th>\n",
       "    </tr>\n",
       "  </thead>\n",
       "  <tbody>\n",
       "    <tr>\n",
       "      <th>0</th>\n",
       "      <td>2019-08-15</td>\n",
       "      <td>B</td>\n",
       "    </tr>\n",
       "    <tr>\n",
       "      <th>7</th>\n",
       "      <td>2019-08-15</td>\n",
       "      <td>A</td>\n",
       "    </tr>\n",
       "    <tr>\n",
       "      <th>45</th>\n",
       "      <td>2019-08-16</td>\n",
       "      <td>A</td>\n",
       "    </tr>\n",
       "    <tr>\n",
       "      <th>47</th>\n",
       "      <td>2019-08-16</td>\n",
       "      <td>B</td>\n",
       "    </tr>\n",
       "    <tr>\n",
       "      <th>55</th>\n",
       "      <td>2019-08-01</td>\n",
       "      <td>A</td>\n",
       "    </tr>\n",
       "  </tbody>\n",
       "</table>\n",
       "</div>"
      ],
      "text/plain": [
       "         date group\n",
       "0  2019-08-15     B\n",
       "7  2019-08-15     A\n",
       "45 2019-08-16     A\n",
       "47 2019-08-16     B\n",
       "55 2019-08-01     A"
      ]
     },
     "execution_count": 17,
     "metadata": {},
     "output_type": "execute_result"
    }
   ],
   "source": [
    "# массив уникальных пар значений дат и групп теста\n",
    "datesGroups = orders[['date','group']].drop_duplicates()\n",
    "datesGroups.head()"
   ]
  },
  {
   "cell_type": "code",
   "execution_count": 18,
   "metadata": {},
   "outputs": [
    {
     "data": {
      "text/html": [
       "<div>\n",
       "<style scoped>\n",
       "    .dataframe tbody tr th:only-of-type {\n",
       "        vertical-align: middle;\n",
       "    }\n",
       "\n",
       "    .dataframe tbody tr th {\n",
       "        vertical-align: top;\n",
       "    }\n",
       "\n",
       "    .dataframe thead th {\n",
       "        text-align: right;\n",
       "    }\n",
       "</style>\n",
       "<table border=\"1\" class=\"dataframe\">\n",
       "  <thead>\n",
       "    <tr style=\"text-align: right;\">\n",
       "      <th></th>\n",
       "      <th>date</th>\n",
       "      <th>group</th>\n",
       "      <th>transactionId</th>\n",
       "      <th>visitorId</th>\n",
       "      <th>revenue</th>\n",
       "    </tr>\n",
       "  </thead>\n",
       "  <tbody>\n",
       "    <tr>\n",
       "      <th>55</th>\n",
       "      <td>2019-08-01</td>\n",
       "      <td>A</td>\n",
       "      <td>23</td>\n",
       "      <td>19</td>\n",
       "      <td>142779</td>\n",
       "    </tr>\n",
       "    <tr>\n",
       "      <th>66</th>\n",
       "      <td>2019-08-01</td>\n",
       "      <td>B</td>\n",
       "      <td>17</td>\n",
       "      <td>17</td>\n",
       "      <td>59758</td>\n",
       "    </tr>\n",
       "    <tr>\n",
       "      <th>175</th>\n",
       "      <td>2019-08-02</td>\n",
       "      <td>A</td>\n",
       "      <td>42</td>\n",
       "      <td>36</td>\n",
       "      <td>234381</td>\n",
       "    </tr>\n",
       "    <tr>\n",
       "      <th>173</th>\n",
       "      <td>2019-08-02</td>\n",
       "      <td>B</td>\n",
       "      <td>40</td>\n",
       "      <td>39</td>\n",
       "      <td>221801</td>\n",
       "    </tr>\n",
       "    <tr>\n",
       "      <th>291</th>\n",
       "      <td>2019-08-03</td>\n",
       "      <td>A</td>\n",
       "      <td>66</td>\n",
       "      <td>60</td>\n",
       "      <td>346854</td>\n",
       "    </tr>\n",
       "  </tbody>\n",
       "</table>\n",
       "</div>"
      ],
      "text/plain": [
       "          date group  transactionId  visitorId  revenue\n",
       "55  2019-08-01     A             23         19   142779\n",
       "66  2019-08-01     B             17         17    59758\n",
       "175 2019-08-02     A             42         36   234381\n",
       "173 2019-08-02     B             40         39   221801\n",
       "291 2019-08-03     A             66         60   346854"
      ]
     },
     "execution_count": 18,
     "metadata": {},
     "output_type": "execute_result"
    }
   ],
   "source": [
    "ordersAggregated = datesGroups.apply(lambda x: orders[np.logical_and \\\n",
    "   (orders['date'] <= x['date'], orders['group'] == x['group'])]\\\n",
    "    .agg({'date' : 'max', 'group' : 'max', 'transactionId' : 'nunique','visitorId' : 'nunique', 'revenue' : 'sum'}), axis=1) \\\n",
    "    .sort_values(by=['date','group'])\n",
    "ordersAggregated.head()"
   ]
  },
  {
   "cell_type": "code",
   "execution_count": 19,
   "metadata": {},
   "outputs": [
    {
     "data": {
      "text/html": [
       "<div>\n",
       "<style scoped>\n",
       "    .dataframe tbody tr th:only-of-type {\n",
       "        vertical-align: middle;\n",
       "    }\n",
       "\n",
       "    .dataframe tbody tr th {\n",
       "        vertical-align: top;\n",
       "    }\n",
       "\n",
       "    .dataframe thead th {\n",
       "        text-align: right;\n",
       "    }\n",
       "</style>\n",
       "<table border=\"1\" class=\"dataframe\">\n",
       "  <thead>\n",
       "    <tr style=\"text-align: right;\">\n",
       "      <th></th>\n",
       "      <th>date</th>\n",
       "      <th>group</th>\n",
       "      <th>visitors</th>\n",
       "    </tr>\n",
       "  </thead>\n",
       "  <tbody>\n",
       "    <tr>\n",
       "      <th>55</th>\n",
       "      <td>2019-08-01</td>\n",
       "      <td>A</td>\n",
       "      <td>719</td>\n",
       "    </tr>\n",
       "    <tr>\n",
       "      <th>66</th>\n",
       "      <td>2019-08-01</td>\n",
       "      <td>B</td>\n",
       "      <td>713</td>\n",
       "    </tr>\n",
       "    <tr>\n",
       "      <th>175</th>\n",
       "      <td>2019-08-02</td>\n",
       "      <td>A</td>\n",
       "      <td>1338</td>\n",
       "    </tr>\n",
       "    <tr>\n",
       "      <th>173</th>\n",
       "      <td>2019-08-02</td>\n",
       "      <td>B</td>\n",
       "      <td>1294</td>\n",
       "    </tr>\n",
       "    <tr>\n",
       "      <th>291</th>\n",
       "      <td>2019-08-03</td>\n",
       "      <td>A</td>\n",
       "      <td>1845</td>\n",
       "    </tr>\n",
       "  </tbody>\n",
       "</table>\n",
       "</div>"
      ],
      "text/plain": [
       "          date group  visitors\n",
       "55  2019-08-01     A       719\n",
       "66  2019-08-01     B       713\n",
       "175 2019-08-02     A      1338\n",
       "173 2019-08-02     B      1294\n",
       "291 2019-08-03     A      1845"
      ]
     },
     "execution_count": 19,
     "metadata": {},
     "output_type": "execute_result"
    }
   ],
   "source": [
    "visitorsAggregated = datesGroups.apply(lambda x: visitors[np.logical_and\\\n",
    "                    (visitors['date'] <= x['date'], visitors['group'] == x['group'])]\\\n",
    "                    .agg({'date' : 'max', 'group' : 'max', 'visitors' : 'sum'}), axis=1)\\\n",
    "                    .sort_values(by=['date','group'])\n",
    "visitorsAggregated.head()"
   ]
  },
  {
   "cell_type": "code",
   "execution_count": 20,
   "metadata": {},
   "outputs": [],
   "source": [
    "cumulativeData = ordersAggregated.merge(visitorsAggregated, left_on = ['date', 'group'], right_on=['date', 'group'])\n",
    "cumulativeData.columns = ['date', 'group', 'orders', 'buyers', 'revenue', 'visitors']"
   ]
  },
  {
   "cell_type": "code",
   "execution_count": 21,
   "metadata": {},
   "outputs": [
    {
     "data": {
      "image/png": "[encoded data removed]",
      "text/plain": [
       "<Figure size 864x576 with 1 Axes>"
      ]
     },
     "metadata": {
      "needs_background": "light"
     },
     "output_type": "display_data"
    }
   ],
   "source": [
    "# датафрейм с кумулятивным количеством заказов и кумулятивной выручкой по дням в группе А\n",
    "cumulativeRevenueA = cumulativeData[cumulativeData['group']=='A'][['date','revenue', 'orders']]\n",
    "\n",
    "# датафрейм с кумулятивным количеством заказов и кумулятивной выручкой по дням в группе B\n",
    "cumulativeRevenueB = cumulativeData[cumulativeData['group']=='B'][['date','revenue', 'orders']]\n",
    "plt.figure(figsize=(12, 8))\n",
    "# Строим график выручки группы А\n",
    "plt.plot(cumulativeRevenueA['date'], cumulativeRevenueA['revenue'], label='A')\n",
    "\n",
    "# Строим график выручки группы B\n",
    "plt.plot(cumulativeRevenueB['date'], cumulativeRevenueB['revenue'], label='B')\n",
    "plt.xlabel('Дата')\n",
    "plt.ylabel('Выручка')\n",
    "plt.title('График кумулятивной выручки по группам')\n",
    "plt.legend()\n",
    "plt.show()"
   ]
  },
  {
   "cell_type": "markdown",
   "metadata": {},
   "source": [
    "- 2019-08-13 Значения выручки групп А и B были одинаковыми, после этого момента сегмент В лидировал весь период до конца теста \n",
    "- 2019-08-17 Резкий скачок выручки и группы B\n"
   ]
  },
  {
   "cell_type": "markdown",
   "metadata": {},
   "source": [
    "#### Постройте график кумулятивного среднего чека по группам. Сделайте выводы и предположения."
   ]
  },
  {
   "cell_type": "code",
   "execution_count": 22,
   "metadata": {},
   "outputs": [
    {
     "data": {
      "image/png": "[encoded data removed]",
      "text/plain": [
       "<Figure size 864x576 with 1 Axes>"
      ]
     },
     "metadata": {
      "needs_background": "light"
     },
     "output_type": "display_data"
    }
   ],
   "source": [
    "visitorsAggregated = datesGroups.apply(\n",
    "    lambda x: visitors[\n",
    "        np.logical_and(\n",
    "            visitors['date'] <= x['date'], visitors['group'] == x['group']\n",
    "        )\n",
    "    ].agg({'date': 'max', 'group': 'max', 'visitors': 'sum'}),\n",
    "    axis=1,\n",
    ").sort_values(by=['date', 'group'])\n",
    "\n",
    "cumulativeData = ordersAggregated.merge(\n",
    "    visitorsAggregated, left_on=['date', 'group'], right_on=['date', 'group']\n",
    ")\n",
    "cumulativeData.columns = [\n",
    "    'date',\n",
    "    'group',\n",
    "    'orders',\n",
    "    'buyers',\n",
    "    'revenue',\n",
    "    'visitors',\n",
    "]\n",
    "\n",
    "cumulativeRevenueA = cumulativeData[cumulativeData['group'] == 'A'][\n",
    "    ['date', 'revenue', 'orders']\n",
    "]\n",
    "cumulativeRevenueB = cumulativeData[cumulativeData['group'] == 'B'][\n",
    "    ['date', 'revenue', 'orders']\n",
    "]\n",
    "plt.figure(figsize=(12, 8))\n",
    "plt.plot(cumulativeRevenueA['date'], cumulativeRevenueA['revenue']/cumulativeRevenueA['orders'], label='A')\n",
    "plt.plot(cumulativeRevenueB['date'], cumulativeRevenueB['revenue']/cumulativeRevenueB['orders'], label='B')\n",
    "plt.xlabel('Дата')\n",
    "plt.ylabel('Значение среднего чека')\n",
    "plt.title('График кумулятивного среднего чека по группам')\n",
    "plt.legend() \n",
    "plt.show()"
   ]
  },
  {
   "cell_type": "markdown",
   "metadata": {},
   "source": [
    "- 17 августа в группе B был совершен очень крупный заказ,который, возможно, является выбросом и искажает данные\n",
    "- Кумулятивное значение среднего чека по времени колеблется. Скорее всего, принимать решение по этой метрике рано. Или требуется дополнительный анализ выбросов, которые так сильно искажают результаты."
   ]
  },
  {
   "cell_type": "markdown",
   "metadata": {},
   "source": [
    "#### Постройте график относительного изменения кумулятивного среднего чека группы B к группе A. Сделайте выводы и предположения."
   ]
  },
  {
   "cell_type": "code",
   "execution_count": 23,
   "metadata": {},
   "outputs": [
    {
     "data": {
      "image/png": "[encoded data removed]",
      "text/plain": [
       "<Figure size 864x576 with 1 Axes>"
      ]
     },
     "metadata": {
      "needs_background": "light"
     },
     "output_type": "display_data"
    }
   ],
   "source": [
    "cumulativeData = ordersAggregated.merge(\n",
    "    visitorsAggregated, left_on=['date', 'group'], right_on=['date', 'group']\n",
    ")\n",
    "cumulativeData.columns = [\n",
    "    'date',\n",
    "    'group',\n",
    "    'orders',\n",
    "    'buyers',\n",
    "    'revenue',\n",
    "    'visitors',\n",
    "]\n",
    "\n",
    "cumulativeRevenueA = cumulativeData[cumulativeData['group'] == 'A'][\n",
    "    ['date', 'revenue', 'orders']\n",
    "]\n",
    "cumulativeRevenueB = cumulativeData[cumulativeData['group'] == 'B'][\n",
    "    ['date', 'revenue', 'orders']\n",
    "]\n",
    "mergedCumulativeRevenue = cumulativeRevenueA.merge(cumulativeRevenueB, left_on='date', right_on='date', how='left', suffixes=['A', 'B'])\n",
    "plt.figure(figsize=(12, 8))\n",
    "# cтроим отношение средних чеков\n",
    "plt.plot(mergedCumulativeRevenue['date'], (mergedCumulativeRevenue['revenueB']/mergedCumulativeRevenue['ordersB'])/(mergedCumulativeRevenue['revenueA']/mergedCumulativeRevenue['ordersA'])-1)\n",
    "\n",
    "# добавляем ось X\n",
    "plt.axhline(y=0, color='black', linestyle='--') \n",
    "\n",
    "plt.title('График относительного изменения кумулятивного среднего чека группы B к группе A')\n",
    "plt.show()"
   ]
  },
  {
   "cell_type": "markdown",
   "metadata": {},
   "source": [
    "Результаты теста значительно и резко менялись В период с 5 по 17 августа. Видимо, именно тогда были совершены аномальные заказы."
   ]
  },
  {
   "cell_type": "markdown",
   "metadata": {},
   "source": [
    "#### Постройте график кумулятивного среднего количества заказов на посетителя по группам. Сделайте выводы и предположения."
   ]
  },
  {
   "cell_type": "code",
   "execution_count": 24,
   "metadata": {},
   "outputs": [
    {
     "data": {
      "image/png": "[encoded data removed]",
      "text/plain": [
       "<Figure size 864x576 with 1 Axes>"
      ]
     },
     "metadata": {
      "needs_background": "light"
     },
     "output_type": "display_data"
    }
   ],
   "source": [
    "\n",
    "# считаем среднее количество заказов на посетителя\n",
    "cumulativeData['conversion'] = cumulativeData['orders']/cumulativeData['visitors']\n",
    "\n",
    "# отделяем данные по группе A\n",
    "cumulativeDataA = cumulativeData[cumulativeData['group']=='A']\n",
    "\n",
    "# отделяем данные по группе B\n",
    "cumulativeDataB = cumulativeData[cumulativeData['group']=='B']\n",
    "plt.figure(figsize=(12, 8))\n",
    "# строим графики\n",
    "plt.plot(cumulativeDataA['date'], cumulativeDataA['conversion'], label='A')\n",
    "plt.plot(cumulativeDataB['date'], cumulativeDataB['conversion'], label='B')\n",
    "plt.legend()\n",
    "\n",
    "# задаем масштаб осей\n",
    "\n",
    "plt.axis([dt.datetime(2019, 8, 1), dt.datetime(2019, 9, 1), 0, 0.05])\n",
    "plt.xlabel('Дата')\n",
    "plt.ylabel('Значение конверсии')\n",
    "plt.title('График кумулятивного кумулятивного среднего количества заказов на посетителя по группам')\n",
    "plt.show()"
   ]
  },
  {
   "cell_type": "markdown",
   "metadata": {},
   "source": [
    "- Абсолютное значение колебания в начале и в конце теста не слишком большое: от 2.5% до 3.5%\n",
    "- Конверсия на протяжении всего эксперимента выше у группы B \n",
    "- 5 августа перекрест,после которого конверия по количеству заказов у группы B становится выше"
   ]
  },
  {
   "cell_type": "markdown",
   "metadata": {},
   "source": [
    "#### Постройте график относительного изменения кумулятивного среднего количества заказов на посетителя группы B к группе A. Сделайте выводы и предположения."
   ]
  },
  {
   "cell_type": "code",
   "execution_count": 25,
   "metadata": {},
   "outputs": [
    {
     "data": {
      "image/png": "[encoded data removed]",
      "text/plain": [
       "<Figure size 864x576 with 1 Axes>"
      ]
     },
     "metadata": {
      "needs_background": "light"
     },
     "output_type": "display_data"
    }
   ],
   "source": [
    "\n",
    "cumulativeDataA = cumulativeData[cumulativeData['group'] == 'A']\n",
    "cumulativeDataB = cumulativeData[cumulativeData['group'] == 'B']\n",
    "\n",
    "mergedCumulativeConversions = cumulativeDataA[['date','conversion']].merge(cumulativeDataB[['date','conversion']], left_on='date', right_on='date', how='left', suffixes=['A', 'B'])\n",
    "plt.figure(figsize=(12, 8))\n",
    "plt.plot(mergedCumulativeConversions['date'], mergedCumulativeConversions['conversionB']/mergedCumulativeConversions['conversionA']-1, label=\"Относительный изменения кумулятивного среднего количества заказов на посетителя группы B относительно группы A\")\n",
    "plt.legend()\n",
    "\n",
    "plt.axhline(y=0, color='black', linestyle='--')\n",
    "plt.axhline(y=0.2, color='grey', linestyle='--')\n",
    "plt.axis(['2019-08-01', '2019-09-01', -0.5, 0.5])\n",
    "plt.show()"
   ]
  },
  {
   "cell_type": "markdown",
   "metadata": {},
   "source": [
    "Почти с самого начала теста группа B лидирует по метрике: становится лучше и лучше,фиксируется около прироста в 10-20% относительно группы A."
   ]
  },
  {
   "cell_type": "markdown",
   "metadata": {},
   "source": [
    "#### Постройте точечный график количества заказов по пользователям. Сделайте выводы и предположения."
   ]
  },
  {
   "cell_type": "code",
   "execution_count": 26,
   "metadata": {},
   "outputs": [
    {
     "name": "stdout",
     "output_type": "stream",
     "text": [
      "        user_id  orders\n",
      "908  3967698036       3\n",
      "55    249864742       3\n",
      "478  2108163459       3\n",
      "687  2988190573       3\n",
      "890  3908431265       3\n",
      "138   611059232       3\n",
      "632  2742574263       3\n",
      "157   678354126       2\n",
      "323  1404560065       2\n",
      "452  1985475298       2\n"
     ]
    },
    {
     "data": {
      "image/png": "[encoded data removed]",
      "text/plain": [
       "<Figure size 864x576 with 1 Axes>"
      ]
     },
     "metadata": {
      "needs_background": "light"
     },
     "output_type": "display_data"
    }
   ],
   "source": [
    "ordersByUsers = orders.drop(['group', 'revenue', 'date'], axis=1).groupby('visitorId', as_index=False).agg({'transactionId' : pd.Series.nunique})\n",
    "ordersByUsers.columns = ['user_id','orders']\n",
    "\n",
    "print(ordersByUsers.sort_values(by='orders',ascending=False).head(10))\n",
    "plt.figure(figsize=(12, 8))\n",
    "x_values = pd.Series(range(0,len(ordersByUsers)))\n",
    "plt.scatter(x_values, ordersByUsers['orders']);\n",
    "plt.xlabel('Количество заказов')\n",
    "plt.ylabel('Количество заказов пользователя')\n",
    "plt.title('Точечный график количества заказов по пользователям')\n",
    "plt.show()"
   ]
  },
  {
   "cell_type": "markdown",
   "metadata": {},
   "source": [
    "- Наибольшее количество пользователей с 1 заказом\n",
    "- Встречается достаточное количество пользователей с 2 заказами\n",
    "- Более 2 заказов совершило относительно небольшое количетсво пользователей\n",
    "- Необходимо вычислить, какие показатели являются выбросами"
   ]
  },
  {
   "cell_type": "markdown",
   "metadata": {},
   "source": [
    "#### Посчитайте 95-й и 99-й перцентили количества заказов на пользователя. Выберите границу для определения аномальных пользователей."
   ]
  },
  {
   "cell_type": "code",
   "execution_count": 27,
   "metadata": {},
   "outputs": [
    {
     "data": {
      "text/html": [
       "<div>\n",
       "<style scoped>\n",
       "    .dataframe tbody tr th:only-of-type {\n",
       "        vertical-align: middle;\n",
       "    }\n",
       "\n",
       "    .dataframe tbody tr th {\n",
       "        vertical-align: top;\n",
       "    }\n",
       "\n",
       "    .dataframe thead th {\n",
       "        text-align: right;\n",
       "    }\n",
       "</style>\n",
       "<table border=\"1\" class=\"dataframe\">\n",
       "  <thead>\n",
       "    <tr style=\"text-align: right;\">\n",
       "      <th></th>\n",
       "      <th>user_id</th>\n",
       "      <th>orders</th>\n",
       "    </tr>\n",
       "  </thead>\n",
       "  <tbody>\n",
       "    <tr>\n",
       "      <th>908</th>\n",
       "      <td>3967698036</td>\n",
       "      <td>3</td>\n",
       "    </tr>\n",
       "    <tr>\n",
       "      <th>55</th>\n",
       "      <td>249864742</td>\n",
       "      <td>3</td>\n",
       "    </tr>\n",
       "    <tr>\n",
       "      <th>478</th>\n",
       "      <td>2108163459</td>\n",
       "      <td>3</td>\n",
       "    </tr>\n",
       "    <tr>\n",
       "      <th>687</th>\n",
       "      <td>2988190573</td>\n",
       "      <td>3</td>\n",
       "    </tr>\n",
       "    <tr>\n",
       "      <th>890</th>\n",
       "      <td>3908431265</td>\n",
       "      <td>3</td>\n",
       "    </tr>\n",
       "    <tr>\n",
       "      <th>138</th>\n",
       "      <td>611059232</td>\n",
       "      <td>3</td>\n",
       "    </tr>\n",
       "    <tr>\n",
       "      <th>632</th>\n",
       "      <td>2742574263</td>\n",
       "      <td>3</td>\n",
       "    </tr>\n",
       "    <tr>\n",
       "      <th>157</th>\n",
       "      <td>678354126</td>\n",
       "      <td>2</td>\n",
       "    </tr>\n",
       "    <tr>\n",
       "      <th>323</th>\n",
       "      <td>1404560065</td>\n",
       "      <td>2</td>\n",
       "    </tr>\n",
       "    <tr>\n",
       "      <th>452</th>\n",
       "      <td>1985475298</td>\n",
       "      <td>2</td>\n",
       "    </tr>\n",
       "  </tbody>\n",
       "</table>\n",
       "</div>"
      ],
      "text/plain": [
       "        user_id  orders\n",
       "908  3967698036       3\n",
       "55    249864742       3\n",
       "478  2108163459       3\n",
       "687  2988190573       3\n",
       "890  3908431265       3\n",
       "138   611059232       3\n",
       "632  2742574263       3\n",
       "157   678354126       2\n",
       "323  1404560065       2\n",
       "452  1985475298       2"
      ]
     },
     "metadata": {},
     "output_type": "display_data"
    },
    {
     "name": "stdout",
     "output_type": "stream",
     "text": [
      "[1. 2.]\n"
     ]
    }
   ],
   "source": [
    "display(ordersByUsers.sort_values(by='orders', ascending=False).head(10))\n",
    "\n",
    "print(np.percentile(ordersByUsers['orders'], [95, 99]))"
   ]
  },
  {
   "cell_type": "markdown",
   "metadata": {},
   "source": [
    "- 95% пользователей сделали 1 заказ - это верхняя граница нормальных значений, больше 2 заказов - аномалии\n",
    "- не более 1% совершили 2 и более заказов"
   ]
  },
  {
   "cell_type": "markdown",
   "metadata": {},
   "source": [
    "#### Постройте точечный график стоимостей заказов. Сделайте выводы и предположения."
   ]
  },
  {
   "cell_type": "code",
   "execution_count": 28,
   "metadata": {},
   "outputs": [
    {
     "data": {
      "image/png": "[encoded data removed]",
      "text/plain": [
       "<Figure size 1080x720 with 1 Axes>"
      ]
     },
     "metadata": {
      "needs_background": "light"
     },
     "output_type": "display_data"
    }
   ],
   "source": [
    "ordersByUsers = orders.groupby('visitorId', as_index=False).agg({'revenue' : 'sum'}).sort_values(by='revenue',ascending=False)\n",
    "ordersByUsers.columns = ['userId', 'revenue']\n",
    "x_values = pd.Series(range(0, len(orders)))\n",
    "\n",
    "plt.figure(figsize=(15, 10))\n",
    "\n",
    "plt.title('Суммы заказов')\n",
    "\n",
    "plt.scatter(x_values, orders['revenue'])\n",
    "\n",
    "plt.xlabel('Количество пользователей')\n",
    "plt.ylabel('Стоимость заказа')\n",
    "plt.title('Точечный график стоимости заказов по пользователям')\n",
    "plt.show()"
   ]
  },
  {
   "cell_type": "markdown",
   "metadata": {},
   "source": [
    "- Виден заказ, сумма которого составляет более 1.3 и заказ стоимость которого 0.2\n",
    "- Основное количетсво заказов  лежит в границе до  0.1"
   ]
  },
  {
   "cell_type": "markdown",
   "metadata": {},
   "source": [
    "#### Посчитайте 95-й и 99-й перцентили стоимости заказов. Выберите границу для определения аномальных заказов."
   ]
  },
  {
   "cell_type": "code",
   "execution_count": 29,
   "metadata": {},
   "outputs": [
    {
     "data": {
      "text/html": [
       "<div>\n",
       "<style scoped>\n",
       "    .dataframe tbody tr th:only-of-type {\n",
       "        vertical-align: middle;\n",
       "    }\n",
       "\n",
       "    .dataframe tbody tr th {\n",
       "        vertical-align: top;\n",
       "    }\n",
       "\n",
       "    .dataframe thead th {\n",
       "        text-align: right;\n",
       "    }\n",
       "</style>\n",
       "<table border=\"1\" class=\"dataframe\">\n",
       "  <thead>\n",
       "    <tr style=\"text-align: right;\">\n",
       "      <th></th>\n",
       "      <th>transactionId</th>\n",
       "      <th>visitorId</th>\n",
       "      <th>date</th>\n",
       "      <th>revenue</th>\n",
       "      <th>group</th>\n",
       "    </tr>\n",
       "  </thead>\n",
       "  <tbody>\n",
       "    <tr>\n",
       "      <th>425</th>\n",
       "      <td>590470918</td>\n",
       "      <td>1920142716</td>\n",
       "      <td>2019-08-19</td>\n",
       "      <td>1294500</td>\n",
       "      <td>B</td>\n",
       "    </tr>\n",
       "    <tr>\n",
       "      <th>1196</th>\n",
       "      <td>3936777065</td>\n",
       "      <td>2108080724</td>\n",
       "      <td>2019-08-15</td>\n",
       "      <td>202740</td>\n",
       "      <td>B</td>\n",
       "    </tr>\n",
       "    <tr>\n",
       "      <th>1136</th>\n",
       "      <td>666610489</td>\n",
       "      <td>1307669133</td>\n",
       "      <td>2019-08-13</td>\n",
       "      <td>92550</td>\n",
       "      <td>A</td>\n",
       "    </tr>\n",
       "    <tr>\n",
       "      <th>744</th>\n",
       "      <td>3668308183</td>\n",
       "      <td>888512513</td>\n",
       "      <td>2019-08-27</td>\n",
       "      <td>86620</td>\n",
       "      <td>B</td>\n",
       "    </tr>\n",
       "    <tr>\n",
       "      <th>743</th>\n",
       "      <td>3603576309</td>\n",
       "      <td>4133034833</td>\n",
       "      <td>2019-08-09</td>\n",
       "      <td>67990</td>\n",
       "      <td>A</td>\n",
       "    </tr>\n",
       "    <tr>\n",
       "      <th>1103</th>\n",
       "      <td>1348774318</td>\n",
       "      <td>1164614297</td>\n",
       "      <td>2019-08-12</td>\n",
       "      <td>66350</td>\n",
       "      <td>A</td>\n",
       "    </tr>\n",
       "    <tr>\n",
       "      <th>1099</th>\n",
       "      <td>316924019</td>\n",
       "      <td>148427295</td>\n",
       "      <td>2019-08-12</td>\n",
       "      <td>65710</td>\n",
       "      <td>A</td>\n",
       "    </tr>\n",
       "    <tr>\n",
       "      <th>949</th>\n",
       "      <td>1347999392</td>\n",
       "      <td>887908475</td>\n",
       "      <td>2019-08-21</td>\n",
       "      <td>60450</td>\n",
       "      <td>A</td>\n",
       "    </tr>\n",
       "    <tr>\n",
       "      <th>940</th>\n",
       "      <td>2420050534</td>\n",
       "      <td>4003628586</td>\n",
       "      <td>2019-08-08</td>\n",
       "      <td>58550</td>\n",
       "      <td>B</td>\n",
       "    </tr>\n",
       "    <tr>\n",
       "      <th>131</th>\n",
       "      <td>3163614039</td>\n",
       "      <td>2254586615</td>\n",
       "      <td>2019-08-22</td>\n",
       "      <td>53904</td>\n",
       "      <td>A</td>\n",
       "    </tr>\n",
       "  </tbody>\n",
       "</table>\n",
       "</div>"
      ],
      "text/plain": [
       "      transactionId   visitorId       date  revenue group\n",
       "425       590470918  1920142716 2019-08-19  1294500     B\n",
       "1196     3936777065  2108080724 2019-08-15   202740     B\n",
       "1136      666610489  1307669133 2019-08-13    92550     A\n",
       "744      3668308183   888512513 2019-08-27    86620     B\n",
       "743      3603576309  4133034833 2019-08-09    67990     A\n",
       "1103     1348774318  1164614297 2019-08-12    66350     A\n",
       "1099      316924019   148427295 2019-08-12    65710     A\n",
       "949      1347999392   887908475 2019-08-21    60450     A\n",
       "940      2420050534  4003628586 2019-08-08    58550     B\n",
       "131      3163614039  2254586615 2019-08-22    53904     A"
      ]
     },
     "metadata": {},
     "output_type": "display_data"
    },
    {
     "name": "stdout",
     "output_type": "stream",
     "text": [
      "[26785. 53904.]\n"
     ]
    }
   ],
   "source": [
    "display(orders.sort_values(by='revenue', ascending=False).head(10))\n",
    "print(np.percentile(orders['revenue'], [95, 99]))"
   ]
  },
  {
   "cell_type": "markdown",
   "metadata": {},
   "source": [
    "- не более 5% совершили покупок на сумму более 26785 - данную стоимость можно считать верхней границей для нормальных заказол. Показатель выше - аномальный\n",
    "- не более 1% совершили заказ на сумму более 53904\n",
    "\n"
   ]
  },
  {
   "cell_type": "markdown",
   "metadata": {},
   "source": [
    "#### Посчитайте статистическую значимость различий в среднем количестве заказов на посетителя между группами по «сырым» данным. Сделайте выводы и предположения."
   ]
  },
  {
   "cell_type": "markdown",
   "metadata": {},
   "source": [
    "- H0: Нет статистически значимых различий в конверсии по среднему количеству заказов в группе A и B\n",
    "- H1: Есть статистически значимые отличия в конверсии по среднему количеству заказов между группами А и В\n"
   ]
  },
  {
   "cell_type": "code",
   "execution_count": 30,
   "metadata": {},
   "outputs": [
    {
     "data": {
      "text/html": [
       "<div>\n",
       "<style scoped>\n",
       "    .dataframe tbody tr th:only-of-type {\n",
       "        vertical-align: middle;\n",
       "    }\n",
       "\n",
       "    .dataframe tbody tr th {\n",
       "        vertical-align: top;\n",
       "    }\n",
       "\n",
       "    .dataframe thead th {\n",
       "        text-align: right;\n",
       "    }\n",
       "</style>\n",
       "<table border=\"1\" class=\"dataframe\">\n",
       "  <thead>\n",
       "    <tr style=\"text-align: right;\">\n",
       "      <th></th>\n",
       "      <th>group</th>\n",
       "      <th>orders</th>\n",
       "      <th>visitors</th>\n",
       "      <th>conversion</th>\n",
       "    </tr>\n",
       "  </thead>\n",
       "  <tbody>\n",
       "    <tr>\n",
       "      <th>0</th>\n",
       "      <td>A</td>\n",
       "      <td>468</td>\n",
       "      <td>18736</td>\n",
       "      <td>0.024979</td>\n",
       "    </tr>\n",
       "    <tr>\n",
       "      <th>1</th>\n",
       "      <td>B</td>\n",
       "      <td>548</td>\n",
       "      <td>18916</td>\n",
       "      <td>0.028970</td>\n",
       "    </tr>\n",
       "  </tbody>\n",
       "</table>\n",
       "</div>"
      ],
      "text/plain": [
       "  group  orders  visitors  conversion\n",
       "0     A     468     18736    0.024979\n",
       "1     B     548     18916    0.028970"
      ]
     },
     "metadata": {},
     "output_type": "display_data"
    }
   ],
   "source": [
    "conversion = (orders.groupby('group').agg({'transactionId':'count'}).rename(columns={'transactionId':'orders'}))\\\n",
    "                                     .join((visitors.groupby('group').agg({'visitors':'sum'}))).reset_index()\n",
    "conversion['conversion'] = conversion['orders'] / conversion['visitors']\n",
    "display(conversion)"
   ]
  },
  {
   "cell_type": "code",
   "execution_count": 31,
   "metadata": {
    "scrolled": true
   },
   "outputs": [
    {
     "name": "stdout",
     "output_type": "stream",
     "text": [
      "P-value:  0.016851380434703023\n",
      "Отвергаем нулевую гипотезу, различия между группами статистически значимы\n",
      "\n",
      "Относительная разница конверсий группы В к группе А:  0.160\n"
     ]
    }
   ],
   "source": [
    "alpha=0.05\n",
    "purchases = np.array(conversion['orders'])\n",
    "leads = np.array(conversion['visitors'])\n",
    "p1 = purchases[0] / leads[0]\n",
    "p2 = purchases[1] / leads[1]\n",
    "combined = (purchases[0] + purchases[1]) / (leads[0] + leads[1])\n",
    "difference = p1-p2\n",
    "z_value = difference / math.sqrt(combined * (1 - combined) * (1 / leads[0] + 1 / leads[1]))\n",
    "distr = st.norm(0,1)\n",
    "p_value = (1 - distr.cdf(abs(z_value))) * 2\n",
    "print('P-value: ', p_value)\n",
    "if (p_value < alpha):\n",
    "    print(\"Отвергаем нулевую гипотезу, различия между группами статистически значимы\")\n",
    "else:\n",
    "    print(\"Не получилось отвергнуть нулевую гипотезу, нет статистических значимых различий\")\n",
    "\n",
    "print('')\n",
    "#Относительное различие конверсий\n",
    "print('Относительная разница конверсий группы В к группе А: ','{0:.3f}'.format(p2/p1-1))"
   ]
  },
  {
   "cell_type": "code",
   "execution_count": 32,
   "metadata": {},
   "outputs": [],
   "source": [
    "visitorsADaily = visitors[visitors['group'] == 'A'][['date', 'visitors']]\n",
    "visitorsADaily.columns = ['date', 'visitorsPerDateA']\n",
    "\n",
    "visitorsACummulative = visitorsADaily.apply(\n",
    "    lambda x: visitorsADaily[visitorsADaily['date'] <= x['date']].agg(\n",
    "        {'date': 'max', 'visitorsPerDateA': 'sum'}\n",
    "    ),\n",
    "    axis=1,\n",
    ")\n",
    "visitorsACummulative.columns = ['date', 'visitorsCummulativeA']\n",
    "\n",
    "visitorsBDaily = visitors[visitors['group'] == 'B'][['date', 'visitors']]\n",
    "visitorsBDaily.columns = ['date', 'visitorsPerDateB']\n",
    "\n",
    "visitorsBCummulative = visitorsBDaily.apply(\n",
    "    lambda x: visitorsBDaily[visitorsBDaily['date'] <= x['date']].agg(\n",
    "        {'date': 'max', 'visitorsPerDateB': 'sum'}\n",
    "    ),\n",
    "    axis=1,\n",
    ")\n",
    "visitorsBCummulative.columns = ['date', 'visitorsCummulativeB']\n",
    "\n",
    "ordersADaily = (\n",
    "    orders[orders['group'] == 'A'][['date', 'transactionId', 'visitorId', 'revenue']]\n",
    "    .groupby('date', as_index=False)\n",
    "    .agg({'transactionId': pd.Series.nunique, 'revenue': 'sum'})\n",
    ")\n",
    "ordersADaily.columns = ['date', 'ordersPerDateA', 'revenuePerDateA']\n",
    "\n",
    "ordersACummulative = ordersADaily.apply(\n",
    "    lambda x: ordersADaily[ordersADaily['date'] <= x['date']].agg(\n",
    "        {'date': 'max', 'ordersPerDateA': 'sum', 'revenuePerDateA': 'sum'}\n",
    "    ),\n",
    "    axis=1,\n",
    ").sort_values(by=['date'])\n",
    "ordersACummulative.columns = [\n",
    "    'date',\n",
    "    'ordersCummulativeA',\n",
    "    'revenueCummulativeA',\n",
    "]\n",
    "\n",
    "ordersBDaily = (\n",
    "    orders[orders['group'] == 'B'][['date', 'transactionId', 'visitorId', 'revenue']]\n",
    "    .groupby('date', as_index=False)\n",
    "    .agg({'transactionId': pd.Series.nunique, 'revenue': 'sum'})\n",
    ")\n",
    "ordersBDaily.columns = ['date', 'ordersPerDateB', 'revenuePerDateB']\n",
    "\n",
    "ordersBCummulative = ordersBDaily.apply(\n",
    "    lambda x: ordersBDaily[ordersBDaily['date'] <= x['date']].agg(\n",
    "        {'date': 'max', 'ordersPerDateB': 'sum', 'revenuePerDateB': 'sum'}\n",
    "    ),\n",
    "    axis=1,\n",
    ").sort_values(by=['date'])\n",
    "ordersBCummulative.columns = [\n",
    "    'date',\n",
    "    'ordersCummulativeB',\n",
    "    'revenueCummulativeB',\n",
    "]\n",
    "\n",
    "data = (\n",
    "    ordersADaily.merge(\n",
    "        ordersBDaily, left_on='date', right_on='date', how='left'\n",
    "    )\n",
    "    .merge(ordersACummulative, left_on='date', right_on='date', how='left')\n",
    "    .merge(ordersBCummulative, left_on='date', right_on='date', how='left')\n",
    "    .merge(visitorsADaily, left_on='date', right_on='date', how='left')\n",
    "    .merge(visitorsBDaily, left_on='date', right_on='date', how='left')\n",
    "    .merge(visitorsACummulative, left_on='date', right_on='date', how='left')\n",
    "    .merge(visitorsBCummulative, left_on='date', right_on='date', how='left')\n",
    ")\n",
    "\n",
    "ordersByUsersA = (\n",
    "    orders[orders['group'] == 'A']\n",
    "    .groupby('visitorId', as_index=False)\n",
    "    .agg({'transactionId': pd.Series.nunique})\n",
    ")\n",
    "ordersByUsersA.columns = ['userId', 'orders']\n",
    "\n",
    "ordersByUsersB = (\n",
    "    orders[orders['group'] == 'B']\n",
    "    .groupby('visitorId', as_index=False)\n",
    "    .agg({'transactionId': pd.Series.nunique})\n",
    ")\n",
    "ordersByUsersB.columns = ['userId', 'orders']"
   ]
  },
  {
   "cell_type": "code",
   "execution_count": 33,
   "metadata": {},
   "outputs": [
    {
     "name": "stdout",
     "output_type": "stream",
     "text": [
      "P-value 0.01102\n",
      "Относительная разница между группой B и А: 0.160\n"
     ]
    }
   ],
   "source": [
    "sampleA = pd.concat(\n",
    "    [\n",
    "        ordersByUsersA['orders'],\n",
    "        pd.Series(\n",
    "            0,\n",
    "            index=np.arange(\n",
    "                data['visitorsPerDateA'].sum() - len(ordersByUsersA['orders'])\n",
    "            ),\n",
    "            name='orders',\n",
    "        ),\n",
    "    ],\n",
    "    axis=0,\n",
    ")\n",
    "\n",
    "sampleB = pd.concat(\n",
    "    [\n",
    "        ordersByUsersB['orders'],\n",
    "        pd.Series(\n",
    "            0,\n",
    "            index=np.arange(\n",
    "                data['visitorsPerDateB'].sum() - len(ordersByUsersB['orders'])\n",
    "            ),\n",
    "            name='orders',\n",
    "        ),\n",
    "    ],\n",
    "    axis=0,\n",
    ")\n",
    "\n",
    "print(\"P-value {0:.5f}\".format(st.mannwhitneyu(sampleA, sampleB)[1]))\n",
    "print(\"Относительная разница между группой B и А: {0:.3f}\".format((data['ordersPerDateB'].sum()/data['visitorsPerDateB'].sum())/(data['ordersPerDateA'].sum()/data['visitorsPerDateA'].sum())-1))"
   ]
  },
  {
   "cell_type": "markdown",
   "metadata": {},
   "source": [
    "- P-value меньше 0.05 - между группами есть статистически значимые различия. Отвергаем нулевую гипотезу\n",
    "- Разница в среднем количестве заказов 16%"
   ]
  },
  {
   "cell_type": "markdown",
   "metadata": {},
   "source": [
    "#### Посчитайте статистическую значимость различий в среднем чеке заказа между группами по «сырым» данным. Сделайте выводы и предположения."
   ]
  },
  {
   "cell_type": "markdown",
   "metadata": {},
   "source": [
    "- H0: Нет статистически значимых различий в конверсии по среднему чеку в группе A и B\n",
    "- H1: Есть статистически значимые отличия в конверсии по среднему чеку между группами А и В\n",
    "\n",
    "\n",
    "    \n"
   ]
  },
  {
   "cell_type": "code",
   "execution_count": 34,
   "metadata": {},
   "outputs": [
    {
     "name": "stdout",
     "output_type": "stream",
     "text": [
      "P-value:  0.8294908998149533\n",
      "Не получилось отвергнуть нулевую гипотезу,  нет статистической значимости различий между группами\n"
     ]
    }
   ],
   "source": [
    "alpha = 0.05\n",
    "results = st.mannwhitneyu(orders[orders['group'] == 'A']['revenue'], orders[orders['group'] == 'B']['revenue'])\n",
    "pvalue = results.pvalue\n",
    "print('P-value: ', pvalue)\n",
    "if (pvalue < alpha):\n",
    "    print(\"Отвергаем H0: разница статистически значима\")\n",
    "else:\n",
    "    print(\"Не получилось отвергнуть нулевую гипотезу,  нет статистической значимости различий между группами\")"
   ]
  },
  {
   "cell_type": "markdown",
   "metadata": {},
   "source": [
    "P-value больше 0.05, статистических значимых различий нет. Не получилось отвергнуть нулевую гипотезу.\n"
   ]
  },
  {
   "cell_type": "markdown",
   "metadata": {},
   "source": [
    "#### Посчитайте статистическую значимость различий в среднем количестве заказов на посетителя между группами по «очищенным» данным. Сделайте выводы и предположения."
   ]
  },
  {
   "cell_type": "markdown",
   "metadata": {},
   "source": [
    "**Освобождаем данные от значений, выходящих за 95 процентиль:**\n",
    "- пользователи, которые сделали более 2х заказов\n",
    "- пользователи, сумма заказов которых составила более 26785 \n",
    "\n",
    "    \n",
    "    - H0: Нет статистически значимых различий в конверсии по количеству заказов по 'очищенным данным' в группе A и B\n",
    "    - H1: Есть статистически значимые отличия в конверсии по количеству заказов по 'очищенным данным' между группами А и В\n",
    "\n",
    "\n",
    "\n"
   ]
  },
  {
   "cell_type": "code",
   "execution_count": 35,
   "metadata": {},
   "outputs": [],
   "source": [
    "usersWithManyOrders = pd.concat(\n",
    "    [\n",
    "        ordersByUsersA[ordersByUsersA['orders'] > 2]['userId'],\n",
    "        ordersByUsersB[ordersByUsersB['orders'] > 2]['userId'],\n",
    "    ],\n",
    "    axis=0,\n",
    ")\n",
    "usersWithExpensiveOrders = orders[orders['revenue'] > 26785]['visitorId']\n",
    "abnormalUsers = (\n",
    "    pd.concat([usersWithManyOrders, usersWithExpensiveOrders], axis=0)\n",
    "    .drop_duplicates()\n",
    "    .sort_values()\n",
    ")"
   ]
  },
  {
   "cell_type": "code",
   "execution_count": 36,
   "metadata": {},
   "outputs": [
    {
     "name": "stdout",
     "output_type": "stream",
     "text": [
      "0.01235\n",
      "0.182\n"
     ]
    }
   ],
   "source": [
    "sampleAFiltered = pd.concat(\n",
    "    [\n",
    "        ordersByUsersA[\n",
    "            np.logical_not(ordersByUsersA['userId'].isin(abnormalUsers))\n",
    "        ]['orders'],\n",
    "        pd.Series(\n",
    "            0,\n",
    "            index=np.arange(\n",
    "                data['visitorsPerDateA'].sum() - len(ordersByUsersA['orders'])\n",
    "            ),\n",
    "            name='orders',\n",
    "        ),\n",
    "    ],\n",
    "    axis=0,\n",
    ")\n",
    "\n",
    "sampleBFiltered = pd.concat(\n",
    "    [\n",
    "        ordersByUsersB[\n",
    "            np.logical_not(ordersByUsersB['userId'].isin(abnormalUsers))\n",
    "        ]['orders'],\n",
    "        pd.Series(\n",
    "            0,\n",
    "            index=np.arange(\n",
    "                data['visitorsPerDateB'].sum() - len(ordersByUsersB['orders'])\n",
    "            ),\n",
    "            name='orders',\n",
    "        ),\n",
    "    ],\n",
    "    axis=0,\n",
    ")\n",
    "print('{0:.5f}'.format(st.mannwhitneyu(sampleAFiltered, sampleBFiltered)[1]))\n",
    "print('{0:.3f}'.format(sampleBFiltered.mean()/sampleAFiltered.mean()-1)) "
   ]
  },
  {
   "cell_type": "markdown",
   "metadata": {},
   "source": [
    "P-value меньше 0.05,различия между группами являются статистически значимыми и составляют 18.2%, отвергаем нулевую гипотезу"
   ]
  },
  {
   "cell_type": "markdown",
   "metadata": {},
   "source": [
    "#### Посчитайте статистическую значимость различий в среднем чеке заказа между группами по «очищенным» данным. Сделайте выводы и предположения."
   ]
  },
  {
   "cell_type": "markdown",
   "metadata": {},
   "source": [
    "- H0: По очищенным данным нет статистически значимых различий между средним чеком группы В и А нет.\n",
    "- H1: По очищенным данным есть статистически значимые различия между средним чеком группы В и А.\n"
   ]
  },
  {
   "cell_type": "code",
   "execution_count": 37,
   "metadata": {},
   "outputs": [
    {
     "name": "stdout",
     "output_type": "stream",
     "text": [
      "p-value после очистки данных: 0.646\n",
      "Относительное изменение среднего чека в группе B по отношению группы A после очистки данных: -0.048\n"
     ]
    }
   ],
   "source": [
    "print(\"p-value после очистки данных: {0:.3f}\".format(st.mannwhitneyu(\n",
    "    orders[np.logical_and(orders['group']=='A', np.logical_not(\n",
    "    orders['visitorId'].isin(abnormalUsers)))]['revenue'], orders[np.logical_and(\n",
    "    orders['group']=='B', np.logical_not(orders['visitorId'].isin(abnormalUsers)))]['revenue'])[1]))\n",
    "\n",
    "print(\"Относительное изменение среднего чека в группе B по отношению группы A после очистки данных: {0:.3f}\".format(\n",
    "    orders[np.logical_and(orders['group']=='B',np.logical_not(\n",
    "    orders['visitorId'].isin(abnormalUsers)))]['revenue'].mean()/orders[np.logical_and(\n",
    "    orders['group']=='A', np.logical_not(orders['visitorId'].isin(abnormalUsers)))]['revenue'].mean() - 1)) "
   ]
  },
  {
   "cell_type": "markdown",
   "metadata": {},
   "source": [
    "- P-value 0.6 показывает, что нет статистически значимых различий между средним чеком группы В и А. Не отвергаем нулевую гипотезу\n",
    "- После очистки данных относительная разница между средними чеками обеих групп составляет -4.8% Эта разница не является статистически значимой\n"
   ]
  },
  {
   "cell_type": "markdown",
   "metadata": {},
   "source": [
    "#### Примите решение по результатам теста и объясните его. Варианты решений:\n",
    "1. Остановить тест, зафиксировать победу одной из групп.\n",
    "2. Остановить тест, зафиксировать отсутствие различий между группами.\n",
    "3. Продолжить тест."
   ]
  },
  {
   "cell_type": "markdown",
   "metadata": {},
   "source": [
    "По результату исследования можно сделать неоднозначные выводы:\n",
    "\n",
    "- По графику кумулятивной выручки группа B превосходит группу А\n",
    "- По графику кумулятивного среднего чека показатели группы B лучше,однако из-за резких колебаний можно говорить о выбросах в группе B\n",
    "- По графику относительного изменения кумулятивного среднего чека группа B практически на протяжении всего эксперимента показывала лучшие результаты\n",
    "- По графику кумулятивного среднего количества заказов на посетителя по группам группа В показывает лучший результат, чем А\n",
    "- По график относительного изменения кумулятивного среднего количества заказов на посетителя группа В выдает лучшие показатели, чем группа А\n",
    "- По точечным графиками стоимости и количества заказов и определения 95 и 99 перцентилей, значения, которые выходят за 95 перцентиль признаны аномальными (количество заказов более 2 заказов и стоимость более 32899)\n",
    "- При оценке сырых данных различия в конверсии между группами имеет статистическую значимость, так же как и при очищенных данных\n",
    "- Статистическая значимость при исследовании 'сырых'(разница в средних чеках между группой В и А -2.5%) и 'очищенных'(разница в средних чеках между группой В и А -4.8%) данных по среднему чеку между группами отсутствует (полученые различия не являются статистически значимыми). Группы А и В статистически не отличаются.\n",
    "- При оценке статистической значимости 'сырых данных', как и после 'очистки данных от выбросов' разница между средним количетсвом заказов по группам статистически значима(16% и 18% соответственно)\n",
    "\n",
    "Тест продолжать не следует, так как группа B превосходит группу A (очистка данных от выбросов так же подтвердает эту гипотезу)"
   ]
  }
 ],
 "metadata": {
  "ExecuteTimeLog": [
   {
    "duration": 409,
    "start_time": "2024-04-03T18:40:32.338Z"
   },
   {
    "duration": 74,
    "start_time": "2024-04-03T18:40:53.334Z"
   },
   {
    "duration": 15,
    "start_time": "2024-04-03T18:40:55.596Z"
   },
   {
    "duration": 20,
    "start_time": "2024-04-03T18:41:19.815Z"
   },
   {
    "duration": 26,
    "start_time": "2024-04-03T18:47:32.550Z"
   },
   {
    "duration": 19,
    "start_time": "2024-04-03T18:47:33.236Z"
   },
   {
    "duration": 1049,
    "start_time": "2024-04-03T18:47:37.203Z"
   },
   {
    "duration": 8,
    "start_time": "2024-04-03T18:48:11.770Z"
   },
   {
    "duration": 8,
    "start_time": "2024-04-03T18:48:47.481Z"
   },
   {
    "duration": 24,
    "start_time": "2024-04-03T18:49:32.201Z"
   },
   {
    "duration": 3,
    "start_time": "2024-04-03T18:54:07.966Z"
   },
   {
    "duration": 965,
    "start_time": "2024-04-03T18:54:09.176Z"
   },
   {
    "duration": 0,
    "start_time": "2024-04-03T18:54:10.143Z"
   },
   {
    "duration": 6,
    "start_time": "2024-04-03T18:54:19.466Z"
   },
   {
    "duration": 6,
    "start_time": "2024-04-03T18:54:22.851Z"
   },
   {
    "duration": 3,
    "start_time": "2024-04-03T18:54:35.515Z"
   },
   {
    "duration": 6,
    "start_time": "2024-04-03T18:54:36.400Z"
   },
   {
    "duration": 3,
    "start_time": "2024-04-03T18:54:46.916Z"
   },
   {
    "duration": 4,
    "start_time": "2024-04-03T18:54:47.648Z"
   },
   {
    "duration": 5,
    "start_time": "2024-04-03T18:54:48.825Z"
   },
   {
    "duration": 4,
    "start_time": "2024-04-03T18:55:09.113Z"
   },
   {
    "duration": 6,
    "start_time": "2024-04-03T18:55:09.633Z"
   },
   {
    "duration": 6,
    "start_time": "2024-04-03T18:55:23.839Z"
   },
   {
    "duration": 6,
    "start_time": "2024-04-03T18:56:19.442Z"
   },
   {
    "duration": 6,
    "start_time": "2024-04-03T18:56:19.904Z"
   },
   {
    "duration": 6,
    "start_time": "2024-04-03T18:56:27.303Z"
   },
   {
    "duration": 6,
    "start_time": "2024-04-03T18:56:28.344Z"
   },
   {
    "duration": 5,
    "start_time": "2024-04-03T18:56:31.553Z"
   },
   {
    "duration": 4,
    "start_time": "2024-04-03T18:56:35.807Z"
   },
   {
    "duration": 6,
    "start_time": "2024-04-03T18:56:36.235Z"
   },
   {
    "duration": 4,
    "start_time": "2024-04-03T18:56:37.874Z"
   },
   {
    "duration": 7,
    "start_time": "2024-04-03T18:56:39.805Z"
   },
   {
    "duration": 7,
    "start_time": "2024-04-03T19:46:52.445Z"
   },
   {
    "duration": 7,
    "start_time": "2024-04-03T19:46:53.141Z"
   },
   {
    "duration": 174,
    "start_time": "2024-04-03T19:46:56.929Z"
   },
   {
    "duration": 23,
    "start_time": "2024-04-03T19:46:57.342Z"
   },
   {
    "duration": 23,
    "start_time": "2024-04-03T19:47:21.242Z"
   },
   {
    "duration": 19,
    "start_time": "2024-04-03T19:47:29.525Z"
   },
   {
    "duration": 19,
    "start_time": "2024-04-03T19:47:40.014Z"
   },
   {
    "duration": 3,
    "start_time": "2024-04-03T19:53:43.119Z"
   },
   {
    "duration": 62,
    "start_time": "2024-04-03T19:53:51.377Z"
   },
   {
    "duration": 18,
    "start_time": "2024-04-03T19:53:51.701Z"
   },
   {
    "duration": 69,
    "start_time": "2024-04-03T19:53:55.551Z"
   },
   {
    "duration": 11,
    "start_time": "2024-04-03T19:54:12.286Z"
   },
   {
    "duration": 10,
    "start_time": "2024-04-03T19:54:13.078Z"
   },
   {
    "duration": 5,
    "start_time": "2024-04-03T19:56:27.136Z"
   },
   {
    "duration": 10,
    "start_time": "2024-04-03T19:56:40.281Z"
   },
   {
    "duration": 20,
    "start_time": "2024-04-03T20:15:20.503Z"
   },
   {
    "duration": 383,
    "start_time": "2024-04-03T20:15:49.362Z"
   },
   {
    "duration": 42,
    "start_time": "2024-04-03T20:15:54.189Z"
   },
   {
    "duration": 8,
    "start_time": "2024-04-03T20:16:48.235Z"
   },
   {
    "duration": 36,
    "start_time": "2024-04-03T20:21:05.835Z"
   },
   {
    "duration": 517,
    "start_time": "2024-04-03T20:21:19.341Z"
   },
   {
    "duration": 405,
    "start_time": "2024-04-03T20:22:42.953Z"
   },
   {
    "duration": 455,
    "start_time": "2024-04-03T20:23:04.793Z"
   },
   {
    "duration": 443,
    "start_time": "2024-04-03T20:23:51.665Z"
   },
   {
    "duration": 256,
    "start_time": "2024-04-03T20:27:41.449Z"
   },
   {
    "duration": 424,
    "start_time": "2024-04-03T20:27:49.664Z"
   },
   {
    "duration": 294,
    "start_time": "2024-04-03T20:29:13.341Z"
   },
   {
    "duration": 545,
    "start_time": "2024-04-03T20:31:39.343Z"
   },
   {
    "duration": 482,
    "start_time": "2024-04-03T20:31:45.763Z"
   },
   {
    "duration": 444,
    "start_time": "2024-04-03T20:31:51.976Z"
   },
   {
    "duration": 303,
    "start_time": "2024-04-03T20:32:00.445Z"
   },
   {
    "duration": 292,
    "start_time": "2024-04-03T20:34:02.787Z"
   },
   {
    "duration": 355,
    "start_time": "2024-04-03T20:34:31.769Z"
   },
   {
    "duration": 141,
    "start_time": "2024-04-03T20:38:49.602Z"
   },
   {
    "duration": 146,
    "start_time": "2024-04-03T20:39:11.941Z"
   },
   {
    "duration": 300,
    "start_time": "2024-04-03T20:39:29.516Z"
   },
   {
    "duration": 168,
    "start_time": "2024-04-03T20:39:41.518Z"
   },
   {
    "duration": 250,
    "start_time": "2024-04-03T20:41:33.167Z"
   },
   {
    "duration": 295,
    "start_time": "2024-04-03T20:42:09.739Z"
   },
   {
    "duration": 102,
    "start_time": "2024-04-03T20:43:02.260Z"
   },
   {
    "duration": 80,
    "start_time": "2024-04-03T20:43:12.892Z"
   },
   {
    "duration": 254,
    "start_time": "2024-04-03T20:43:25.894Z"
   },
   {
    "duration": 7,
    "start_time": "2024-04-03T20:47:45.003Z"
   },
   {
    "duration": 13,
    "start_time": "2024-04-03T20:49:57.330Z"
   },
   {
    "duration": 12,
    "start_time": "2024-04-03T20:50:34.721Z"
   },
   {
    "duration": 134,
    "start_time": "2024-04-03T20:51:13.470Z"
   },
   {
    "duration": 48,
    "start_time": "2024-04-04T14:43:15.975Z"
   },
   {
    "duration": 758,
    "start_time": "2024-04-04T14:43:20.107Z"
   },
   {
    "duration": 72,
    "start_time": "2024-04-04T14:43:20.867Z"
   },
   {
    "duration": 26,
    "start_time": "2024-04-04T14:43:20.940Z"
   },
   {
    "duration": 4,
    "start_time": "2024-04-04T14:43:20.968Z"
   },
   {
    "duration": 8,
    "start_time": "2024-04-04T14:43:20.974Z"
   },
   {
    "duration": 8,
    "start_time": "2024-04-04T14:43:20.984Z"
   },
   {
    "duration": 13,
    "start_time": "2024-04-04T14:43:20.993Z"
   },
   {
    "duration": 166,
    "start_time": "2024-04-04T14:43:21.007Z"
   },
   {
    "duration": 21,
    "start_time": "2024-04-04T14:43:21.174Z"
   },
   {
    "duration": 11,
    "start_time": "2024-04-04T14:43:21.197Z"
   },
   {
    "duration": 14,
    "start_time": "2024-04-04T14:43:21.209Z"
   },
   {
    "duration": 22,
    "start_time": "2024-04-04T14:43:21.224Z"
   },
   {
    "duration": 20,
    "start_time": "2024-04-04T14:43:21.247Z"
   },
   {
    "duration": 16,
    "start_time": "2024-04-04T14:43:21.269Z"
   },
   {
    "duration": 543,
    "start_time": "2024-04-04T14:43:21.287Z"
   },
   {
    "duration": 312,
    "start_time": "2024-04-04T14:43:21.831Z"
   },
   {
    "duration": 368,
    "start_time": "2024-04-04T14:43:22.145Z"
   },
   {
    "duration": 241,
    "start_time": "2024-04-04T14:43:22.515Z"
   },
   {
    "duration": 319,
    "start_time": "2024-04-04T14:43:22.765Z"
   },
   {
    "duration": 118,
    "start_time": "2024-04-04T14:43:23.086Z"
   },
   {
    "duration": 81,
    "start_time": "2024-04-04T14:44:06.929Z"
   },
   {
    "duration": 123,
    "start_time": "2024-04-04T14:44:22.979Z"
   },
   {
    "duration": 62,
    "start_time": "2024-04-04T14:49:38.193Z"
   },
   {
    "duration": 7,
    "start_time": "2024-04-04T14:51:25.496Z"
   },
   {
    "duration": 1103,
    "start_time": "2024-04-04T14:56:40.124Z"
   },
   {
    "duration": 961,
    "start_time": "2024-04-04T14:57:06.003Z"
   },
   {
    "duration": 17,
    "start_time": "2024-04-04T14:57:43.610Z"
   },
   {
    "duration": 141,
    "start_time": "2024-04-04T14:57:51.509Z"
   },
   {
    "duration": 6,
    "start_time": "2024-04-04T14:58:25.977Z"
   },
   {
    "duration": 7,
    "start_time": "2024-04-04T15:02:17.593Z"
   },
   {
    "duration": 10,
    "start_time": "2024-04-04T15:04:34.910Z"
   },
   {
    "duration": 14,
    "start_time": "2024-04-04T15:05:58.416Z"
   },
   {
    "duration": 1227,
    "start_time": "2024-04-04T15:06:52.534Z"
   },
   {
    "duration": 109,
    "start_time": "2024-04-04T15:09:51.024Z"
   },
   {
    "duration": 134,
    "start_time": "2024-04-04T15:13:20.053Z"
   },
   {
    "duration": 122,
    "start_time": "2024-04-04T15:13:40.925Z"
   },
   {
    "duration": 10,
    "start_time": "2024-04-04T15:13:44.914Z"
   },
   {
    "duration": 131,
    "start_time": "2024-04-04T15:13:58.750Z"
   },
   {
    "duration": 6,
    "start_time": "2024-04-04T15:14:10.448Z"
   },
   {
    "duration": 15,
    "start_time": "2024-04-04T15:15:45.314Z"
   },
   {
    "duration": 9,
    "start_time": "2024-04-04T15:16:30.558Z"
   },
   {
    "duration": 14,
    "start_time": "2024-04-04T15:16:56.175Z"
   },
   {
    "duration": 317,
    "start_time": "2024-04-04T15:19:08.563Z"
   },
   {
    "duration": 127,
    "start_time": "2024-04-04T15:19:51.029Z"
   },
   {
    "duration": 7,
    "start_time": "2024-04-04T15:20:16.704Z"
   },
   {
    "duration": 9,
    "start_time": "2024-04-04T15:20:40.033Z"
   },
   {
    "duration": 11,
    "start_time": "2024-04-04T15:20:56.320Z"
   },
   {
    "duration": 10,
    "start_time": "2024-04-04T15:21:09.520Z"
   },
   {
    "duration": 139,
    "start_time": "2024-04-04T15:21:11.470Z"
   },
   {
    "duration": 205,
    "start_time": "2024-04-04T15:21:33.508Z"
   },
   {
    "duration": 5,
    "start_time": "2024-04-04T15:21:44.341Z"
   },
   {
    "duration": 8,
    "start_time": "2024-04-04T15:21:51.753Z"
   },
   {
    "duration": 7,
    "start_time": "2024-04-04T15:21:54.468Z"
   },
   {
    "duration": 3,
    "start_time": "2024-04-04T15:23:28.036Z"
   },
   {
    "duration": 12,
    "start_time": "2024-04-04T15:23:33.257Z"
   },
   {
    "duration": 393,
    "start_time": "2024-04-04T15:24:01.008Z"
   },
   {
    "duration": 8,
    "start_time": "2024-04-04T15:24:07.995Z"
   },
   {
    "duration": 7,
    "start_time": "2024-04-04T15:24:24.448Z"
   },
   {
    "duration": 40,
    "start_time": "2024-04-04T15:31:15.819Z"
   },
   {
    "duration": 15,
    "start_time": "2024-04-04T15:31:32.926Z"
   },
   {
    "duration": 9,
    "start_time": "2024-04-04T15:32:10.845Z"
   },
   {
    "duration": 7,
    "start_time": "2024-04-04T15:34:51.921Z"
   },
   {
    "duration": 13,
    "start_time": "2024-04-04T16:57:49.093Z"
   },
   {
    "duration": 3,
    "start_time": "2024-04-04T16:58:23.871Z"
   },
   {
    "duration": 14,
    "start_time": "2024-04-04T16:58:29.831Z"
   },
   {
    "duration": 9,
    "start_time": "2024-04-04T17:00:16.955Z"
   },
   {
    "duration": 8,
    "start_time": "2024-04-04T17:00:40.568Z"
   },
   {
    "duration": 7,
    "start_time": "2024-04-04T17:00:46.162Z"
   },
   {
    "duration": 20,
    "start_time": "2024-04-04T17:01:44.533Z"
   },
   {
    "duration": 14,
    "start_time": "2024-04-04T17:02:14.145Z"
   },
   {
    "duration": 1148,
    "start_time": "2024-04-04T17:02:31.829Z"
   },
   {
    "duration": 98,
    "start_time": "2024-04-04T17:03:33.718Z"
   },
   {
    "duration": 101,
    "start_time": "2024-04-04T17:04:26.120Z"
   },
   {
    "duration": 1313,
    "start_time": "2024-04-04T17:04:57.653Z"
   },
   {
    "duration": 58,
    "start_time": "2024-04-04T17:06:45.950Z"
   },
   {
    "duration": 9,
    "start_time": "2024-04-04T17:06:53.180Z"
   },
   {
    "duration": 16,
    "start_time": "2024-04-04T17:09:23.587Z"
   },
   {
    "duration": 13,
    "start_time": "2024-04-04T17:10:05.674Z"
   },
   {
    "duration": 20,
    "start_time": "2024-04-04T17:10:10.361Z"
   },
   {
    "duration": 14,
    "start_time": "2024-04-04T17:10:34.833Z"
   },
   {
    "duration": 83,
    "start_time": "2024-04-04T17:11:53.971Z"
   },
   {
    "duration": 15,
    "start_time": "2024-04-04T17:15:20.298Z"
   },
   {
    "duration": 11,
    "start_time": "2024-04-04T17:41:13.884Z"
   },
   {
    "duration": 7,
    "start_time": "2024-04-04T17:42:35.788Z"
   },
   {
    "duration": 1139,
    "start_time": "2024-04-05T15:08:27.252Z"
   },
   {
    "duration": 80,
    "start_time": "2024-04-05T15:08:28.392Z"
   },
   {
    "duration": 22,
    "start_time": "2024-04-05T15:08:28.473Z"
   },
   {
    "duration": 4,
    "start_time": "2024-04-05T15:08:28.496Z"
   },
   {
    "duration": 7,
    "start_time": "2024-04-05T15:08:28.501Z"
   },
   {
    "duration": 6,
    "start_time": "2024-04-05T15:08:28.509Z"
   },
   {
    "duration": 6,
    "start_time": "2024-04-05T15:08:28.517Z"
   },
   {
    "duration": 139,
    "start_time": "2024-04-05T15:08:28.524Z"
   },
   {
    "duration": 17,
    "start_time": "2024-04-05T15:08:28.665Z"
   },
   {
    "duration": 11,
    "start_time": "2024-04-05T15:08:28.685Z"
   },
   {
    "duration": 16,
    "start_time": "2024-04-05T15:08:28.697Z"
   },
   {
    "duration": 16,
    "start_time": "2024-04-05T15:08:28.714Z"
   },
   {
    "duration": 3,
    "start_time": "2024-04-05T15:08:28.731Z"
   },
   {
    "duration": 14,
    "start_time": "2024-04-05T15:08:28.735Z"
   },
   {
    "duration": 453,
    "start_time": "2024-04-05T15:08:28.750Z"
   },
   {
    "duration": 253,
    "start_time": "2024-04-05T15:08:29.205Z"
   },
   {
    "duration": 354,
    "start_time": "2024-04-05T15:08:29.459Z"
   },
   {
    "duration": 155,
    "start_time": "2024-04-05T15:08:29.814Z"
   },
   {
    "duration": 293,
    "start_time": "2024-04-05T15:08:29.970Z"
   },
   {
    "duration": 119,
    "start_time": "2024-04-05T15:08:30.264Z"
   },
   {
    "duration": 5,
    "start_time": "2024-04-05T15:08:30.384Z"
   },
   {
    "duration": 272,
    "start_time": "2024-04-05T15:08:30.390Z"
   },
   {
    "duration": 5,
    "start_time": "2024-04-05T15:08:30.663Z"
   },
   {
    "duration": 80,
    "start_time": "2024-04-05T15:08:30.669Z"
   },
   {
    "duration": 0,
    "start_time": "2024-04-05T15:08:30.751Z"
   },
   {
    "duration": 0,
    "start_time": "2024-04-05T15:08:30.752Z"
   },
   {
    "duration": 0,
    "start_time": "2024-04-05T15:08:30.753Z"
   },
   {
    "duration": 0,
    "start_time": "2024-04-05T15:08:30.754Z"
   },
   {
    "duration": 0,
    "start_time": "2024-04-05T15:08:30.755Z"
   },
   {
    "duration": 0,
    "start_time": "2024-04-05T15:08:30.756Z"
   },
   {
    "duration": 0,
    "start_time": "2024-04-05T15:08:30.757Z"
   },
   {
    "duration": 0,
    "start_time": "2024-04-05T15:08:30.758Z"
   },
   {
    "duration": 299,
    "start_time": "2024-04-05T15:21:39.048Z"
   },
   {
    "duration": 376,
    "start_time": "2024-04-05T15:21:44.872Z"
   },
   {
    "duration": 442,
    "start_time": "2024-04-05T15:24:22.306Z"
   },
   {
    "duration": 284,
    "start_time": "2024-04-05T15:25:31.843Z"
   },
   {
    "duration": 281,
    "start_time": "2024-04-05T15:25:36.117Z"
   },
   {
    "duration": 174,
    "start_time": "2024-04-05T15:26:36.359Z"
   },
   {
    "duration": 166,
    "start_time": "2024-04-05T15:26:43.609Z"
   },
   {
    "duration": 265,
    "start_time": "2024-04-05T15:27:49.854Z"
   },
   {
    "duration": 107,
    "start_time": "2024-04-05T15:28:07.386Z"
   },
   {
    "duration": 123,
    "start_time": "2024-04-05T15:29:19.274Z"
   },
   {
    "duration": 163,
    "start_time": "2024-04-05T15:30:22.637Z"
   },
   {
    "duration": 6,
    "start_time": "2024-04-05T15:30:36.407Z"
   },
   {
    "duration": 133,
    "start_time": "2024-04-05T15:31:54.416Z"
   },
   {
    "duration": 7,
    "start_time": "2024-04-05T15:32:08.442Z"
   },
   {
    "duration": 960,
    "start_time": "2024-04-05T15:32:14.023Z"
   },
   {
    "duration": 28,
    "start_time": "2024-04-05T15:32:14.985Z"
   },
   {
    "duration": 21,
    "start_time": "2024-04-05T15:32:15.014Z"
   },
   {
    "duration": 22,
    "start_time": "2024-04-05T15:32:15.036Z"
   },
   {
    "duration": 28,
    "start_time": "2024-04-05T15:32:15.060Z"
   },
   {
    "duration": 52,
    "start_time": "2024-04-05T15:32:15.089Z"
   },
   {
    "duration": 95,
    "start_time": "2024-04-05T15:32:15.142Z"
   },
   {
    "duration": 145,
    "start_time": "2024-04-05T15:32:15.238Z"
   },
   {
    "duration": 17,
    "start_time": "2024-04-05T15:32:15.384Z"
   },
   {
    "duration": 26,
    "start_time": "2024-04-05T15:32:15.402Z"
   },
   {
    "duration": 37,
    "start_time": "2024-04-05T15:32:15.429Z"
   },
   {
    "duration": 27,
    "start_time": "2024-04-05T15:32:15.467Z"
   },
   {
    "duration": 19,
    "start_time": "2024-04-05T15:32:15.495Z"
   },
   {
    "duration": 22,
    "start_time": "2024-04-05T15:32:15.516Z"
   },
   {
    "duration": 476,
    "start_time": "2024-04-05T15:32:15.539Z"
   },
   {
    "duration": 279,
    "start_time": "2024-04-05T15:32:16.016Z"
   },
   {
    "duration": 277,
    "start_time": "2024-04-05T15:32:16.296Z"
   },
   {
    "duration": 183,
    "start_time": "2024-04-05T15:32:16.575Z"
   },
   {
    "duration": 308,
    "start_time": "2024-04-05T15:32:16.759Z"
   },
   {
    "duration": 134,
    "start_time": "2024-04-05T15:32:17.068Z"
   },
   {
    "duration": 5,
    "start_time": "2024-04-05T15:32:17.203Z"
   },
   {
    "duration": 143,
    "start_time": "2024-04-05T15:32:17.210Z"
   },
   {
    "duration": 5,
    "start_time": "2024-04-05T15:32:17.354Z"
   },
   {
    "duration": 93,
    "start_time": "2024-04-05T15:32:17.360Z"
   },
   {
    "duration": 0,
    "start_time": "2024-04-05T15:32:17.454Z"
   },
   {
    "duration": 0,
    "start_time": "2024-04-05T15:32:17.455Z"
   },
   {
    "duration": 0,
    "start_time": "2024-04-05T15:32:17.456Z"
   },
   {
    "duration": 0,
    "start_time": "2024-04-05T15:32:17.457Z"
   },
   {
    "duration": 0,
    "start_time": "2024-04-05T15:32:17.457Z"
   },
   {
    "duration": 0,
    "start_time": "2024-04-05T15:32:17.458Z"
   },
   {
    "duration": 0,
    "start_time": "2024-04-05T15:32:17.459Z"
   },
   {
    "duration": 8,
    "start_time": "2024-04-05T15:32:25.620Z"
   },
   {
    "duration": 3,
    "start_time": "2024-04-05T15:32:39.801Z"
   },
   {
    "duration": 908,
    "start_time": "2024-04-05T15:32:43.436Z"
   },
   {
    "duration": 25,
    "start_time": "2024-04-05T15:32:44.346Z"
   },
   {
    "duration": 21,
    "start_time": "2024-04-05T15:32:44.372Z"
   },
   {
    "duration": 3,
    "start_time": "2024-04-05T15:32:44.394Z"
   },
   {
    "duration": 6,
    "start_time": "2024-04-05T15:32:44.399Z"
   },
   {
    "duration": 4,
    "start_time": "2024-04-05T15:32:44.406Z"
   },
   {
    "duration": 7,
    "start_time": "2024-04-05T15:32:44.411Z"
   },
   {
    "duration": 49,
    "start_time": "2024-04-05T15:32:44.419Z"
   },
   {
    "duration": 16,
    "start_time": "2024-04-05T15:32:44.469Z"
   },
   {
    "duration": 9,
    "start_time": "2024-04-05T15:32:44.486Z"
   },
   {
    "duration": 14,
    "start_time": "2024-04-05T15:32:44.497Z"
   },
   {
    "duration": 13,
    "start_time": "2024-04-05T15:32:44.512Z"
   },
   {
    "duration": 3,
    "start_time": "2024-04-05T15:32:44.526Z"
   },
   {
    "duration": 7,
    "start_time": "2024-04-05T15:32:44.531Z"
   },
   {
    "duration": 483,
    "start_time": "2024-04-05T15:32:44.539Z"
   },
   {
    "duration": 280,
    "start_time": "2024-04-05T15:32:45.023Z"
   },
   {
    "duration": 271,
    "start_time": "2024-04-05T15:32:45.304Z"
   },
   {
    "duration": 179,
    "start_time": "2024-04-05T15:32:45.576Z"
   },
   {
    "duration": 291,
    "start_time": "2024-04-05T15:32:45.756Z"
   },
   {
    "duration": 128,
    "start_time": "2024-04-05T15:32:46.048Z"
   },
   {
    "duration": 10,
    "start_time": "2024-04-05T15:32:46.177Z"
   },
   {
    "duration": 140,
    "start_time": "2024-04-05T15:32:46.189Z"
   },
   {
    "duration": 6,
    "start_time": "2024-04-05T15:32:46.330Z"
   },
   {
    "duration": 113,
    "start_time": "2024-04-05T15:32:46.337Z"
   },
   {
    "duration": 0,
    "start_time": "2024-04-05T15:32:46.451Z"
   },
   {
    "duration": 0,
    "start_time": "2024-04-05T15:32:46.452Z"
   },
   {
    "duration": 0,
    "start_time": "2024-04-05T15:32:46.453Z"
   },
   {
    "duration": 0,
    "start_time": "2024-04-05T15:32:46.454Z"
   },
   {
    "duration": 0,
    "start_time": "2024-04-05T15:32:46.455Z"
   },
   {
    "duration": 0,
    "start_time": "2024-04-05T15:32:46.456Z"
   },
   {
    "duration": 0,
    "start_time": "2024-04-05T15:32:46.457Z"
   },
   {
    "duration": 7,
    "start_time": "2024-04-05T15:32:49.542Z"
   },
   {
    "duration": 8,
    "start_time": "2024-04-05T15:32:52.120Z"
   },
   {
    "duration": 8,
    "start_time": "2024-04-05T15:33:28.254Z"
   },
   {
    "duration": 8,
    "start_time": "2024-04-05T15:33:53.919Z"
   },
   {
    "duration": 1469,
    "start_time": "2024-04-05T15:34:42.884Z"
   },
   {
    "duration": 7,
    "start_time": "2024-04-05T15:34:47.224Z"
   },
   {
    "duration": 141,
    "start_time": "2024-04-05T15:36:01.368Z"
   },
   {
    "duration": 10,
    "start_time": "2024-04-05T15:36:18.693Z"
   },
   {
    "duration": 217,
    "start_time": "2024-04-05T15:40:48.167Z"
   },
   {
    "duration": 8,
    "start_time": "2024-04-05T15:50:02.079Z"
   },
   {
    "duration": 7,
    "start_time": "2024-04-05T15:55:12.949Z"
   },
   {
    "duration": 8,
    "start_time": "2024-04-05T15:56:33.802Z"
   },
   {
    "duration": 1388,
    "start_time": "2024-04-05T15:56:47.767Z"
   },
   {
    "duration": 9,
    "start_time": "2024-04-05T15:57:23.363Z"
   },
   {
    "duration": 11,
    "start_time": "2024-04-05T15:58:34.887Z"
   },
   {
    "duration": 9,
    "start_time": "2024-04-05T15:58:44.623Z"
   },
   {
    "duration": 83,
    "start_time": "2024-04-05T16:02:51.166Z"
   },
   {
    "duration": 86,
    "start_time": "2024-04-05T16:03:51.403Z"
   },
   {
    "duration": 85,
    "start_time": "2024-04-05T16:03:56.920Z"
   },
   {
    "duration": 186,
    "start_time": "2024-04-05T16:04:57.769Z"
   },
   {
    "duration": 1656,
    "start_time": "2024-04-05T16:06:02.175Z"
   },
   {
    "duration": 275,
    "start_time": "2024-04-05T16:06:38.002Z"
   },
   {
    "duration": 279,
    "start_time": "2024-04-05T16:06:44.190Z"
   },
   {
    "duration": 99,
    "start_time": "2024-04-05T16:06:50.047Z"
   },
   {
    "duration": 285,
    "start_time": "2024-04-05T16:06:57.151Z"
   },
   {
    "duration": 8,
    "start_time": "2024-04-05T16:08:49.256Z"
   },
   {
    "duration": 1430,
    "start_time": "2024-04-05T16:13:13.860Z"
   },
   {
    "duration": 1433,
    "start_time": "2024-04-05T16:13:59.117Z"
   },
   {
    "duration": 26,
    "start_time": "2024-04-05T16:14:41.723Z"
   },
   {
    "duration": 9,
    "start_time": "2024-04-05T16:15:02.223Z"
   },
   {
    "duration": 23,
    "start_time": "2024-04-05T16:16:08.392Z"
   },
   {
    "duration": 10,
    "start_time": "2024-04-05T16:16:57.969Z"
   },
   {
    "duration": 5,
    "start_time": "2024-04-05T16:17:18.040Z"
   },
   {
    "duration": 380,
    "start_time": "2024-04-05T16:17:29.079Z"
   },
   {
    "duration": 933,
    "start_time": "2024-04-05T16:17:32.957Z"
   },
   {
    "duration": 26,
    "start_time": "2024-04-05T16:17:33.892Z"
   },
   {
    "duration": 22,
    "start_time": "2024-04-05T16:17:33.920Z"
   },
   {
    "duration": 4,
    "start_time": "2024-04-05T16:17:33.944Z"
   },
   {
    "duration": 5,
    "start_time": "2024-04-05T16:17:33.949Z"
   },
   {
    "duration": 21,
    "start_time": "2024-04-05T16:17:33.955Z"
   },
   {
    "duration": 7,
    "start_time": "2024-04-05T16:17:33.977Z"
   },
   {
    "duration": 60,
    "start_time": "2024-04-05T16:17:33.985Z"
   },
   {
    "duration": 16,
    "start_time": "2024-04-05T16:17:34.046Z"
   },
   {
    "duration": 13,
    "start_time": "2024-04-05T16:17:34.064Z"
   },
   {
    "duration": 13,
    "start_time": "2024-04-05T16:17:34.078Z"
   },
   {
    "duration": 21,
    "start_time": "2024-04-05T16:17:34.092Z"
   },
   {
    "duration": 3,
    "start_time": "2024-04-05T16:17:34.114Z"
   },
   {
    "duration": 12,
    "start_time": "2024-04-05T16:17:34.118Z"
   },
   {
    "duration": 480,
    "start_time": "2024-04-05T16:17:34.131Z"
   },
   {
    "duration": 282,
    "start_time": "2024-04-05T16:17:34.613Z"
   },
   {
    "duration": 277,
    "start_time": "2024-04-05T16:17:34.896Z"
   },
   {
    "duration": 186,
    "start_time": "2024-04-05T16:17:35.175Z"
   },
   {
    "duration": 301,
    "start_time": "2024-04-05T16:17:35.363Z"
   },
   {
    "duration": 133,
    "start_time": "2024-04-05T16:17:35.666Z"
   },
   {
    "duration": 5,
    "start_time": "2024-04-05T16:17:35.800Z"
   },
   {
    "duration": 142,
    "start_time": "2024-04-05T16:17:35.806Z"
   },
   {
    "duration": 5,
    "start_time": "2024-04-05T16:17:35.949Z"
   },
   {
    "duration": 315,
    "start_time": "2024-04-05T16:17:35.955Z"
   },
   {
    "duration": 14,
    "start_time": "2024-04-05T16:17:36.272Z"
   },
   {
    "duration": 20,
    "start_time": "2024-04-05T16:17:36.288Z"
   },
   {
    "duration": 25,
    "start_time": "2024-04-05T16:17:36.309Z"
   },
   {
    "duration": 10,
    "start_time": "2024-04-05T16:17:36.336Z"
   },
   {
    "duration": 93,
    "start_time": "2024-04-05T16:17:36.347Z"
   },
   {
    "duration": 12,
    "start_time": "2024-04-05T16:45:30.288Z"
   },
   {
    "duration": 1374,
    "start_time": "2024-04-07T15:19:45.669Z"
   },
   {
    "duration": 79,
    "start_time": "2024-04-07T15:19:47.045Z"
   },
   {
    "duration": 27,
    "start_time": "2024-04-07T15:19:47.126Z"
   },
   {
    "duration": 5,
    "start_time": "2024-04-07T15:19:47.155Z"
   },
   {
    "duration": 8,
    "start_time": "2024-04-07T15:19:47.161Z"
   },
   {
    "duration": 9,
    "start_time": "2024-04-07T15:19:47.170Z"
   },
   {
    "duration": 9,
    "start_time": "2024-04-07T15:19:47.180Z"
   },
   {
    "duration": 139,
    "start_time": "2024-04-07T15:19:47.191Z"
   },
   {
    "duration": 27,
    "start_time": "2024-04-07T15:19:47.332Z"
   },
   {
    "duration": 18,
    "start_time": "2024-04-07T15:19:47.363Z"
   },
   {
    "duration": 11,
    "start_time": "2024-04-07T15:19:47.383Z"
   },
   {
    "duration": 20,
    "start_time": "2024-04-07T15:19:47.396Z"
   },
   {
    "duration": 4,
    "start_time": "2024-04-07T15:19:47.418Z"
   },
   {
    "duration": 39,
    "start_time": "2024-04-07T15:19:47.423Z"
   },
   {
    "duration": 647,
    "start_time": "2024-04-07T15:19:47.464Z"
   },
   {
    "duration": 358,
    "start_time": "2024-04-07T15:19:48.113Z"
   },
   {
    "duration": 392,
    "start_time": "2024-04-07T15:19:48.472Z"
   },
   {
    "duration": 249,
    "start_time": "2024-04-07T15:19:48.866Z"
   },
   {
    "duration": 348,
    "start_time": "2024-04-07T15:19:49.117Z"
   },
   {
    "duration": 161,
    "start_time": "2024-04-07T15:19:49.466Z"
   },
   {
    "duration": 7,
    "start_time": "2024-04-07T15:19:49.628Z"
   },
   {
    "duration": 189,
    "start_time": "2024-04-07T15:19:49.636Z"
   },
   {
    "duration": 6,
    "start_time": "2024-04-07T15:19:49.827Z"
   },
   {
    "duration": 389,
    "start_time": "2024-04-07T15:19:49.835Z"
   },
   {
    "duration": 8,
    "start_time": "2024-04-07T15:19:50.226Z"
   },
   {
    "duration": 24,
    "start_time": "2024-04-07T15:19:50.236Z"
   },
   {
    "duration": 35,
    "start_time": "2024-04-07T15:19:50.262Z"
   },
   {
    "duration": 14,
    "start_time": "2024-04-07T15:19:50.300Z"
   },
   {
    "duration": 91,
    "start_time": "2024-04-07T15:19:50.316Z"
   },
   {
    "duration": 3,
    "start_time": "2024-04-07T15:20:25.096Z"
   },
   {
    "duration": 26,
    "start_time": "2024-04-07T15:20:25.763Z"
   },
   {
    "duration": 23,
    "start_time": "2024-04-07T15:20:26.312Z"
   },
   {
    "duration": 4,
    "start_time": "2024-04-07T15:20:28.437Z"
   },
   {
    "duration": 7,
    "start_time": "2024-04-07T15:20:28.871Z"
   },
   {
    "duration": 4,
    "start_time": "2024-04-07T15:20:29.924Z"
   },
   {
    "duration": 7,
    "start_time": "2024-04-07T15:20:30.290Z"
   },
   {
    "duration": 60,
    "start_time": "2024-04-07T15:20:33.274Z"
   },
   {
    "duration": 22,
    "start_time": "2024-04-07T15:20:33.848Z"
   },
   {
    "duration": 15,
    "start_time": "2024-04-07T15:20:35.529Z"
   },
   {
    "duration": 12,
    "start_time": "2024-04-07T15:20:37.062Z"
   },
   {
    "duration": 23,
    "start_time": "2024-04-07T15:20:37.925Z"
   },
   {
    "duration": 4,
    "start_time": "2024-04-07T15:20:38.440Z"
   },
   {
    "duration": 10,
    "start_time": "2024-04-07T15:20:39.655Z"
   },
   {
    "duration": 578,
    "start_time": "2024-04-07T15:22:21.598Z"
   },
   {
    "duration": 221,
    "start_time": "2024-04-07T15:33:01.763Z"
   },
   {
    "duration": 235,
    "start_time": "2024-04-07T15:33:43.769Z"
   },
   {
    "duration": 254,
    "start_time": "2024-04-07T15:35:02.525Z"
   },
   {
    "duration": 101,
    "start_time": "2024-04-07T15:36:10.764Z"
   },
   {
    "duration": 245,
    "start_time": "2024-04-07T15:36:46.080Z"
   },
   {
    "duration": 6,
    "start_time": "2024-04-07T15:36:49.800Z"
   },
   {
    "duration": 164,
    "start_time": "2024-04-07T15:36:53.889Z"
   },
   {
    "duration": 164,
    "start_time": "2024-04-07T15:37:12.510Z"
   },
   {
    "duration": 191,
    "start_time": "2024-04-07T15:37:54.979Z"
   },
   {
    "duration": 185,
    "start_time": "2024-04-07T15:38:17.556Z"
   },
   {
    "duration": 193,
    "start_time": "2024-04-07T15:38:29.255Z"
   },
   {
    "duration": 170,
    "start_time": "2024-04-07T15:38:40.242Z"
   },
   {
    "duration": 218,
    "start_time": "2024-04-07T15:38:54.798Z"
   },
   {
    "duration": 299,
    "start_time": "2024-04-07T15:39:01.092Z"
   },
   {
    "duration": 1594,
    "start_time": "2024-04-07T15:39:37.987Z"
   },
   {
    "duration": 209,
    "start_time": "2024-04-07T15:39:44.707Z"
   },
   {
    "duration": 200,
    "start_time": "2024-04-07T15:40:02.833Z"
   },
   {
    "duration": 200,
    "start_time": "2024-04-07T15:40:09.715Z"
   },
   {
    "duration": 203,
    "start_time": "2024-04-07T15:40:18.167Z"
   },
   {
    "duration": 7,
    "start_time": "2024-04-07T15:41:14.183Z"
   },
   {
    "duration": 395,
    "start_time": "2024-04-07T15:41:16.975Z"
   },
   {
    "duration": 9,
    "start_time": "2024-04-07T15:41:20.486Z"
   },
   {
    "duration": 27,
    "start_time": "2024-04-07T15:45:25.725Z"
   },
   {
    "duration": 471,
    "start_time": "2024-04-07T15:46:20.295Z"
   },
   {
    "duration": 446,
    "start_time": "2024-04-07T15:46:51.496Z"
   },
   {
    "duration": 478,
    "start_time": "2024-04-07T15:47:41.533Z"
   },
   {
    "duration": 733,
    "start_time": "2024-04-07T15:48:30.367Z"
   },
   {
    "duration": 505,
    "start_time": "2024-04-07T15:48:39.992Z"
   },
   {
    "duration": 313,
    "start_time": "2024-04-07T15:50:04.364Z"
   },
   {
    "duration": 8,
    "start_time": "2024-04-07T15:50:09.147Z"
   },
   {
    "duration": 14,
    "start_time": "2024-04-07T15:50:14.369Z"
   },
   {
    "duration": 351,
    "start_time": "2024-04-07T15:50:31.557Z"
   },
   {
    "duration": 10,
    "start_time": "2024-04-07T15:50:37.118Z"
   },
   {
    "duration": 10,
    "start_time": "2024-04-07T15:50:41.971Z"
   },
   {
    "duration": 13,
    "start_time": "2024-04-07T15:52:31.928Z"
   },
   {
    "duration": 37,
    "start_time": "2024-04-07T15:52:34.304Z"
   },
   {
    "duration": 10,
    "start_time": "2024-04-07T15:52:37.322Z"
   },
   {
    "duration": 10,
    "start_time": "2024-04-07T15:52:52.163Z"
   },
   {
    "duration": 10,
    "start_time": "2024-04-07T15:53:51.118Z"
   },
   {
    "duration": 15,
    "start_time": "2024-04-07T15:54:00.365Z"
   },
   {
    "duration": 10,
    "start_time": "2024-04-07T15:54:04.691Z"
   },
   {
    "duration": 10,
    "start_time": "2024-04-07T15:54:33.932Z"
   },
   {
    "duration": 11,
    "start_time": "2024-04-07T15:54:57.424Z"
   },
   {
    "duration": 11,
    "start_time": "2024-04-07T15:55:16.199Z"
   },
   {
    "duration": 10,
    "start_time": "2024-04-07T15:55:30.987Z"
   },
   {
    "duration": 10,
    "start_time": "2024-04-07T15:56:02.981Z"
   },
   {
    "duration": 10,
    "start_time": "2024-04-07T15:56:12.886Z"
   },
   {
    "duration": 9,
    "start_time": "2024-04-07T15:56:17.672Z"
   },
   {
    "duration": 35,
    "start_time": "2024-04-07T15:56:36.431Z"
   },
   {
    "duration": 10,
    "start_time": "2024-04-07T15:57:08.188Z"
   },
   {
    "duration": 10,
    "start_time": "2024-04-07T15:57:16.704Z"
   },
   {
    "duration": 35,
    "start_time": "2024-04-07T15:57:20.526Z"
   },
   {
    "duration": 12,
    "start_time": "2024-04-07T15:58:32.876Z"
   },
   {
    "duration": 14,
    "start_time": "2024-04-07T15:59:53.919Z"
   },
   {
    "duration": 15,
    "start_time": "2024-04-07T16:00:27.995Z"
   },
   {
    "duration": 12,
    "start_time": "2024-04-07T16:01:19.731Z"
   },
   {
    "duration": 11,
    "start_time": "2024-04-07T16:01:22.001Z"
   },
   {
    "duration": 42,
    "start_time": "2024-04-07T16:02:57.503Z"
   },
   {
    "duration": 39,
    "start_time": "2024-04-07T16:04:00.447Z"
   },
   {
    "duration": 527,
    "start_time": "2024-04-07T16:07:58.343Z"
   },
   {
    "duration": 89,
    "start_time": "2024-04-07T16:09:43.916Z"
   },
   {
    "duration": 308,
    "start_time": "2024-04-07T16:12:44.242Z"
   },
   {
    "duration": 296,
    "start_time": "2024-04-07T16:12:53.000Z"
   },
   {
    "duration": 8,
    "start_time": "2024-04-07T16:13:10.873Z"
   },
   {
    "duration": 10,
    "start_time": "2024-04-07T16:13:58.299Z"
   },
   {
    "duration": 1494,
    "start_time": "2024-04-07T16:14:32.432Z"
   },
   {
    "duration": 12,
    "start_time": "2024-04-07T16:14:59.078Z"
   },
   {
    "duration": 1426,
    "start_time": "2024-04-07T16:15:43.919Z"
   },
   {
    "duration": 10,
    "start_time": "2024-04-07T16:15:55.446Z"
   },
   {
    "duration": 8,
    "start_time": "2024-04-07T16:16:08.185Z"
   },
   {
    "duration": 9,
    "start_time": "2024-04-07T16:16:32.702Z"
   },
   {
    "duration": 355,
    "start_time": "2024-04-07T16:17:08.066Z"
   },
   {
    "duration": 34,
    "start_time": "2024-04-07T16:17:37.094Z"
   },
   {
    "duration": 13,
    "start_time": "2024-04-07T16:17:45.076Z"
   },
   {
    "duration": 15,
    "start_time": "2024-04-07T16:18:22.062Z"
   },
   {
    "duration": 373,
    "start_time": "2024-04-07T16:20:03.079Z"
   },
   {
    "duration": 33,
    "start_time": "2024-04-07T16:20:27.668Z"
   },
   {
    "duration": 362,
    "start_time": "2024-04-07T16:20:39.576Z"
   },
   {
    "duration": 37,
    "start_time": "2024-04-07T16:21:18.357Z"
   },
   {
    "duration": 169,
    "start_time": "2024-04-07T16:21:43.182Z"
   },
   {
    "duration": 384,
    "start_time": "2024-04-07T16:21:47.659Z"
   },
   {
    "duration": 361,
    "start_time": "2024-04-07T16:21:59.914Z"
   },
   {
    "duration": 34,
    "start_time": "2024-04-07T16:22:13.313Z"
   },
   {
    "duration": 506,
    "start_time": "2024-04-07T16:22:24.978Z"
   },
   {
    "duration": 348,
    "start_time": "2024-04-07T16:22:30.864Z"
   },
   {
    "duration": 298,
    "start_time": "2024-04-07T16:22:32.482Z"
   },
   {
    "duration": 477,
    "start_time": "2024-04-07T16:22:36.151Z"
   },
   {
    "duration": 386,
    "start_time": "2024-04-07T16:22:38.092Z"
   },
   {
    "duration": 295,
    "start_time": "2024-04-07T16:22:39.202Z"
   },
   {
    "duration": 6,
    "start_time": "2024-04-07T16:22:41.731Z"
   },
   {
    "duration": 213,
    "start_time": "2024-04-07T16:22:44.352Z"
   },
   {
    "duration": 7,
    "start_time": "2024-04-07T16:22:47.757Z"
   },
   {
    "duration": 34,
    "start_time": "2024-04-07T16:22:51.670Z"
   },
   {
    "duration": 9,
    "start_time": "2024-04-07T16:22:54.081Z"
   },
   {
    "duration": 10,
    "start_time": "2024-04-07T16:22:54.622Z"
   },
   {
    "duration": 34,
    "start_time": "2024-04-07T16:22:58.034Z"
   },
   {
    "duration": 13,
    "start_time": "2024-04-07T16:22:59.944Z"
   },
   {
    "duration": 480,
    "start_time": "2024-04-07T16:23:27.566Z"
   },
   {
    "duration": 355,
    "start_time": "2024-04-07T16:23:28.978Z"
   },
   {
    "duration": 339,
    "start_time": "2024-04-07T16:23:30.828Z"
   },
   {
    "duration": 478,
    "start_time": "2024-04-07T16:23:31.489Z"
   },
   {
    "duration": 282,
    "start_time": "2024-04-07T16:23:32.485Z"
   },
   {
    "duration": 285,
    "start_time": "2024-04-07T16:23:33.980Z"
   },
   {
    "duration": 6,
    "start_time": "2024-04-07T16:23:37.664Z"
   },
   {
    "duration": 188,
    "start_time": "2024-04-07T16:23:39.440Z"
   },
   {
    "duration": 8,
    "start_time": "2024-04-07T16:23:40.642Z"
   },
   {
    "duration": 34,
    "start_time": "2024-04-07T16:24:17.290Z"
   },
   {
    "duration": 10,
    "start_time": "2024-04-07T16:24:17.993Z"
   },
   {
    "duration": 11,
    "start_time": "2024-04-07T16:24:18.185Z"
   },
   {
    "duration": 33,
    "start_time": "2024-04-07T16:24:18.968Z"
   },
   {
    "duration": 13,
    "start_time": "2024-04-07T16:24:19.596Z"
   },
   {
    "duration": 346,
    "start_time": "2024-04-07T16:26:25.118Z"
   },
   {
    "duration": 1004,
    "start_time": "2024-04-07T16:32:53.264Z"
   },
   {
    "duration": 70,
    "start_time": "2024-04-07T16:32:54.270Z"
   },
   {
    "duration": 26,
    "start_time": "2024-04-07T16:32:54.341Z"
   },
   {
    "duration": 6,
    "start_time": "2024-04-07T16:32:54.368Z"
   },
   {
    "duration": 9,
    "start_time": "2024-04-07T16:32:54.376Z"
   },
   {
    "duration": 6,
    "start_time": "2024-04-07T16:32:54.387Z"
   },
   {
    "duration": 17,
    "start_time": "2024-04-07T16:32:54.395Z"
   },
   {
    "duration": 160,
    "start_time": "2024-04-07T16:32:54.414Z"
   },
   {
    "duration": 22,
    "start_time": "2024-04-07T16:32:54.575Z"
   },
   {
    "duration": 12,
    "start_time": "2024-04-07T16:32:54.599Z"
   },
   {
    "duration": 11,
    "start_time": "2024-04-07T16:32:54.612Z"
   },
   {
    "duration": 27,
    "start_time": "2024-04-07T16:32:54.625Z"
   },
   {
    "duration": 3,
    "start_time": "2024-04-07T16:32:54.654Z"
   },
   {
    "duration": 12,
    "start_time": "2024-04-07T16:32:54.659Z"
   },
   {
    "duration": 567,
    "start_time": "2024-04-07T16:32:54.673Z"
   },
   {
    "duration": 320,
    "start_time": "2024-04-07T16:32:55.242Z"
   },
   {
    "duration": 303,
    "start_time": "2024-04-07T16:32:55.563Z"
   },
   {
    "duration": 472,
    "start_time": "2024-04-07T16:32:55.868Z"
   },
   {
    "duration": 291,
    "start_time": "2024-04-07T16:32:56.341Z"
   },
   {
    "duration": 210,
    "start_time": "2024-04-07T16:32:56.633Z"
   },
   {
    "duration": 0,
    "start_time": "2024-04-07T16:32:56.844Z"
   },
   {
    "duration": 0,
    "start_time": "2024-04-07T16:32:56.846Z"
   },
   {
    "duration": 0,
    "start_time": "2024-04-07T16:32:56.847Z"
   },
   {
    "duration": 0,
    "start_time": "2024-04-07T16:32:56.848Z"
   },
   {
    "duration": 0,
    "start_time": "2024-04-07T16:32:56.850Z"
   },
   {
    "duration": 0,
    "start_time": "2024-04-07T16:32:56.851Z"
   },
   {
    "duration": 0,
    "start_time": "2024-04-07T16:32:56.852Z"
   },
   {
    "duration": 0,
    "start_time": "2024-04-07T16:32:56.853Z"
   },
   {
    "duration": 8,
    "start_time": "2024-04-07T16:35:51.418Z"
   },
   {
    "duration": 195,
    "start_time": "2024-04-07T16:35:52.515Z"
   },
   {
    "duration": 7,
    "start_time": "2024-04-07T16:35:53.561Z"
   },
   {
    "duration": 10,
    "start_time": "2024-04-07T16:35:54.396Z"
   },
   {
    "duration": 9,
    "start_time": "2024-04-07T16:35:55.012Z"
   },
   {
    "duration": 9,
    "start_time": "2024-04-07T16:36:00.878Z"
   },
   {
    "duration": 12,
    "start_time": "2024-04-07T16:36:01.456Z"
   },
   {
    "duration": 1069,
    "start_time": "2024-04-07T16:36:08.040Z"
   },
   {
    "duration": 27,
    "start_time": "2024-04-07T16:36:09.111Z"
   },
   {
    "duration": 26,
    "start_time": "2024-04-07T16:36:09.139Z"
   },
   {
    "duration": 5,
    "start_time": "2024-04-07T16:36:09.167Z"
   },
   {
    "duration": 7,
    "start_time": "2024-04-07T16:36:09.173Z"
   },
   {
    "duration": 7,
    "start_time": "2024-04-07T16:36:09.182Z"
   },
   {
    "duration": 8,
    "start_time": "2024-04-07T16:36:09.190Z"
   },
   {
    "duration": 52,
    "start_time": "2024-04-07T16:36:09.200Z"
   },
   {
    "duration": 21,
    "start_time": "2024-04-07T16:36:09.253Z"
   },
   {
    "duration": 12,
    "start_time": "2024-04-07T16:36:09.276Z"
   },
   {
    "duration": 13,
    "start_time": "2024-04-07T16:36:09.290Z"
   },
   {
    "duration": 27,
    "start_time": "2024-04-07T16:36:09.304Z"
   },
   {
    "duration": 5,
    "start_time": "2024-04-07T16:36:09.332Z"
   },
   {
    "duration": 27,
    "start_time": "2024-04-07T16:36:09.338Z"
   },
   {
    "duration": 552,
    "start_time": "2024-04-07T16:36:09.367Z"
   },
   {
    "duration": 330,
    "start_time": "2024-04-07T16:36:09.921Z"
   },
   {
    "duration": 288,
    "start_time": "2024-04-07T16:36:10.253Z"
   },
   {
    "duration": 439,
    "start_time": "2024-04-07T16:36:10.543Z"
   },
   {
    "duration": 322,
    "start_time": "2024-04-07T16:36:10.984Z"
   },
   {
    "duration": 223,
    "start_time": "2024-04-07T16:36:11.307Z"
   },
   {
    "duration": 0,
    "start_time": "2024-04-07T16:36:11.531Z"
   },
   {
    "duration": 0,
    "start_time": "2024-04-07T16:36:11.533Z"
   },
   {
    "duration": 0,
    "start_time": "2024-04-07T16:36:11.534Z"
   },
   {
    "duration": 0,
    "start_time": "2024-04-07T16:36:11.535Z"
   },
   {
    "duration": 0,
    "start_time": "2024-04-07T16:36:11.536Z"
   },
   {
    "duration": 0,
    "start_time": "2024-04-07T16:36:11.537Z"
   },
   {
    "duration": 0,
    "start_time": "2024-04-07T16:36:11.538Z"
   },
   {
    "duration": 0,
    "start_time": "2024-04-07T16:36:11.539Z"
   },
   {
    "duration": 367,
    "start_time": "2024-04-07T16:58:51.932Z"
   },
   {
    "duration": 1121,
    "start_time": "2024-04-07T16:59:21.105Z"
   },
   {
    "duration": 27,
    "start_time": "2024-04-07T16:59:22.228Z"
   },
   {
    "duration": 28,
    "start_time": "2024-04-07T16:59:22.269Z"
   },
   {
    "duration": 6,
    "start_time": "2024-04-07T16:59:22.299Z"
   },
   {
    "duration": 7,
    "start_time": "2024-04-07T16:59:22.306Z"
   },
   {
    "duration": 6,
    "start_time": "2024-04-07T16:59:22.315Z"
   },
   {
    "duration": 10,
    "start_time": "2024-04-07T16:59:22.322Z"
   },
   {
    "duration": 84,
    "start_time": "2024-04-07T16:59:22.334Z"
   },
   {
    "duration": 21,
    "start_time": "2024-04-07T16:59:22.419Z"
   },
   {
    "duration": 12,
    "start_time": "2024-04-07T16:59:22.442Z"
   },
   {
    "duration": 22,
    "start_time": "2024-04-07T16:59:22.456Z"
   },
   {
    "duration": 18,
    "start_time": "2024-04-07T16:59:22.479Z"
   },
   {
    "duration": 4,
    "start_time": "2024-04-07T16:59:22.499Z"
   },
   {
    "duration": 17,
    "start_time": "2024-04-07T16:59:22.504Z"
   },
   {
    "duration": 689,
    "start_time": "2024-04-07T16:59:22.523Z"
   },
   {
    "duration": 427,
    "start_time": "2024-04-07T16:59:23.214Z"
   },
   {
    "duration": 371,
    "start_time": "2024-04-07T16:59:23.643Z"
   },
   {
    "duration": 554,
    "start_time": "2024-04-07T16:59:24.016Z"
   },
   {
    "duration": 329,
    "start_time": "2024-04-07T16:59:24.572Z"
   },
   {
    "duration": 246,
    "start_time": "2024-04-07T16:59:24.903Z"
   },
   {
    "duration": 0,
    "start_time": "2024-04-07T16:59:25.156Z"
   },
   {
    "duration": 0,
    "start_time": "2024-04-07T16:59:25.157Z"
   },
   {
    "duration": 0,
    "start_time": "2024-04-07T16:59:25.157Z"
   },
   {
    "duration": 0,
    "start_time": "2024-04-07T16:59:25.161Z"
   },
   {
    "duration": 0,
    "start_time": "2024-04-07T16:59:25.163Z"
   },
   {
    "duration": 0,
    "start_time": "2024-04-07T16:59:25.163Z"
   },
   {
    "duration": 0,
    "start_time": "2024-04-07T16:59:25.164Z"
   },
   {
    "duration": 0,
    "start_time": "2024-04-07T16:59:25.165Z"
   },
   {
    "duration": 149,
    "start_time": "2024-04-07T16:59:38.288Z"
   },
   {
    "duration": 144,
    "start_time": "2024-04-07T16:59:48.645Z"
   },
   {
    "duration": 356,
    "start_time": "2024-04-07T16:59:58.215Z"
   },
   {
    "duration": 8,
    "start_time": "2024-04-07T17:01:47.389Z"
   },
   {
    "duration": 189,
    "start_time": "2024-04-07T17:01:48.761Z"
   },
   {
    "duration": 9,
    "start_time": "2024-04-07T17:01:50.386Z"
   },
   {
    "duration": 14,
    "start_time": "2024-04-07T17:01:51.760Z"
   },
   {
    "duration": 1185,
    "start_time": "2024-04-07T17:01:58.528Z"
   },
   {
    "duration": 26,
    "start_time": "2024-04-07T17:01:59.715Z"
   },
   {
    "duration": 30,
    "start_time": "2024-04-07T17:01:59.742Z"
   },
   {
    "duration": 5,
    "start_time": "2024-04-07T17:01:59.774Z"
   },
   {
    "duration": 8,
    "start_time": "2024-04-07T17:01:59.781Z"
   },
   {
    "duration": 5,
    "start_time": "2024-04-07T17:01:59.791Z"
   },
   {
    "duration": 12,
    "start_time": "2024-04-07T17:01:59.797Z"
   },
   {
    "duration": 60,
    "start_time": "2024-04-07T17:01:59.810Z"
   },
   {
    "duration": 21,
    "start_time": "2024-04-07T17:01:59.872Z"
   },
   {
    "duration": 12,
    "start_time": "2024-04-07T17:01:59.894Z"
   },
   {
    "duration": 10,
    "start_time": "2024-04-07T17:01:59.908Z"
   },
   {
    "duration": 22,
    "start_time": "2024-04-07T17:01:59.920Z"
   },
   {
    "duration": 11,
    "start_time": "2024-04-07T17:01:59.955Z"
   },
   {
    "duration": 11,
    "start_time": "2024-04-07T17:01:59.970Z"
   },
   {
    "duration": 633,
    "start_time": "2024-04-07T17:01:59.983Z"
   },
   {
    "duration": 370,
    "start_time": "2024-04-07T17:02:00.618Z"
   },
   {
    "duration": 324,
    "start_time": "2024-04-07T17:02:00.989Z"
   },
   {
    "duration": 511,
    "start_time": "2024-04-07T17:02:01.315Z"
   },
   {
    "duration": 371,
    "start_time": "2024-04-07T17:02:01.828Z"
   },
   {
    "duration": 311,
    "start_time": "2024-04-07T17:02:02.201Z"
   },
   {
    "duration": 6,
    "start_time": "2024-04-07T17:02:02.514Z"
   },
   {
    "duration": 246,
    "start_time": "2024-04-07T17:02:02.521Z"
   },
   {
    "duration": 8,
    "start_time": "2024-04-07T17:02:02.769Z"
   },
   {
    "duration": 146,
    "start_time": "2024-04-07T17:02:02.779Z"
   },
   {
    "duration": 0,
    "start_time": "2024-04-07T17:02:02.926Z"
   },
   {
    "duration": 0,
    "start_time": "2024-04-07T17:02:02.927Z"
   },
   {
    "duration": 0,
    "start_time": "2024-04-07T17:02:02.928Z"
   },
   {
    "duration": 0,
    "start_time": "2024-04-07T17:02:02.930Z"
   },
   {
    "duration": 6,
    "start_time": "2024-04-07T17:02:32.092Z"
   },
   {
    "duration": 7,
    "start_time": "2024-04-07T17:02:41.618Z"
   },
   {
    "duration": 9,
    "start_time": "2024-04-07T17:02:52.547Z"
   },
   {
    "duration": 7,
    "start_time": "2024-04-07T17:02:56.800Z"
   },
   {
    "duration": 7,
    "start_time": "2024-04-07T17:03:07.240Z"
   },
   {
    "duration": 7,
    "start_time": "2024-04-07T17:03:12.801Z"
   },
   {
    "duration": 6,
    "start_time": "2024-04-07T17:03:16.608Z"
   },
   {
    "duration": 7,
    "start_time": "2024-04-07T17:03:33.211Z"
   },
   {
    "duration": 9,
    "start_time": "2024-04-07T17:07:24.474Z"
   },
   {
    "duration": 8,
    "start_time": "2024-04-07T17:07:30.511Z"
   },
   {
    "duration": 6,
    "start_time": "2024-04-07T17:07:51.967Z"
   },
   {
    "duration": 4,
    "start_time": "2024-04-07T17:08:15.946Z"
   },
   {
    "duration": 22,
    "start_time": "2024-04-07T17:09:03.544Z"
   },
   {
    "duration": 10,
    "start_time": "2024-04-07T17:09:34.833Z"
   },
   {
    "duration": 15,
    "start_time": "2024-04-07T17:11:17.498Z"
   },
   {
    "duration": 15,
    "start_time": "2024-04-07T17:11:34.948Z"
   },
   {
    "duration": 17,
    "start_time": "2024-04-07T17:11:46.179Z"
   },
   {
    "duration": 14,
    "start_time": "2024-04-07T17:12:04.396Z"
   },
   {
    "duration": 10,
    "start_time": "2024-04-07T17:12:09.600Z"
   },
   {
    "duration": 8,
    "start_time": "2024-04-07T17:12:32.337Z"
   },
   {
    "duration": 4,
    "start_time": "2024-04-07T17:12:38.850Z"
   },
   {
    "duration": 9,
    "start_time": "2024-04-07T17:14:19.596Z"
   },
   {
    "duration": 10,
    "start_time": "2024-04-07T17:15:22.971Z"
   },
   {
    "duration": 10,
    "start_time": "2024-04-07T17:15:30.599Z"
   },
   {
    "duration": 9,
    "start_time": "2024-04-07T17:21:55.905Z"
   },
   {
    "duration": 8,
    "start_time": "2024-04-07T17:22:08.223Z"
   },
   {
    "duration": 10,
    "start_time": "2024-04-07T17:23:34.133Z"
   },
   {
    "duration": 5,
    "start_time": "2024-04-07T17:24:01.478Z"
   },
   {
    "duration": 9,
    "start_time": "2024-04-07T17:24:51.173Z"
   },
   {
    "duration": 10,
    "start_time": "2024-04-07T17:24:59.129Z"
   },
   {
    "duration": 9,
    "start_time": "2024-04-07T17:25:32.497Z"
   },
   {
    "duration": 9,
    "start_time": "2024-04-07T17:26:00.610Z"
   },
   {
    "duration": 12,
    "start_time": "2024-04-07T17:27:09.877Z"
   },
   {
    "duration": 6,
    "start_time": "2024-04-07T17:29:24.016Z"
   },
   {
    "duration": 6,
    "start_time": "2024-04-07T17:32:16.308Z"
   },
   {
    "duration": 29,
    "start_time": "2024-04-07T17:34:10.180Z"
   },
   {
    "duration": 271,
    "start_time": "2024-04-07T17:34:32.733Z"
   },
   {
    "duration": 274,
    "start_time": "2024-04-07T17:34:39.250Z"
   },
   {
    "duration": 11,
    "start_time": "2024-04-07T17:35:33.065Z"
   },
   {
    "duration": 14,
    "start_time": "2024-04-07T17:35:45.520Z"
   },
   {
    "duration": 25,
    "start_time": "2024-04-07T17:36:51.024Z"
   },
   {
    "duration": 13,
    "start_time": "2024-04-07T17:37:57.797Z"
   },
   {
    "duration": 9,
    "start_time": "2024-04-07T17:38:34.681Z"
   },
   {
    "duration": 9,
    "start_time": "2024-04-07T17:38:39.552Z"
   },
   {
    "duration": 9,
    "start_time": "2024-04-07T17:38:49.013Z"
   },
   {
    "duration": 11,
    "start_time": "2024-04-07T17:39:07.335Z"
   },
   {
    "duration": 10,
    "start_time": "2024-04-07T17:39:24.053Z"
   },
   {
    "duration": 9,
    "start_time": "2024-04-07T17:39:29.646Z"
   },
   {
    "duration": 13,
    "start_time": "2024-04-07T17:41:38.110Z"
   },
   {
    "duration": 8,
    "start_time": "2024-04-07T17:42:11.097Z"
   },
   {
    "duration": 9,
    "start_time": "2024-04-07T17:42:37.097Z"
   },
   {
    "duration": 9,
    "start_time": "2024-04-07T17:43:03.543Z"
   },
   {
    "duration": 10,
    "start_time": "2024-04-07T17:43:17.812Z"
   },
   {
    "duration": 9,
    "start_time": "2024-04-07T17:43:31.344Z"
   },
   {
    "duration": 9,
    "start_time": "2024-04-07T17:44:54.784Z"
   },
   {
    "duration": 23,
    "start_time": "2024-04-07T17:45:24.394Z"
   },
   {
    "duration": 4,
    "start_time": "2024-04-07T17:45:39.790Z"
   },
   {
    "duration": 6,
    "start_time": "2024-04-07T17:45:50.731Z"
   },
   {
    "duration": 5,
    "start_time": "2024-04-07T17:45:57.334Z"
   },
   {
    "duration": 355,
    "start_time": "2024-04-07T17:47:43.130Z"
   },
   {
    "duration": 232,
    "start_time": "2024-04-07T17:47:45.450Z"
   },
   {
    "duration": 380,
    "start_time": "2024-04-07T17:47:50.335Z"
   },
   {
    "duration": 304,
    "start_time": "2024-04-07T17:47:54.505Z"
   },
   {
    "duration": 466,
    "start_time": "2024-04-07T17:47:59.224Z"
   },
   {
    "duration": 342,
    "start_time": "2024-04-07T17:48:03.471Z"
   },
   {
    "duration": 279,
    "start_time": "2024-04-07T17:48:05.616Z"
   },
   {
    "duration": 8,
    "start_time": "2024-04-07T17:48:14.642Z"
   },
   {
    "duration": 287,
    "start_time": "2024-04-07T17:48:20.621Z"
   },
   {
    "duration": 6,
    "start_time": "2024-04-07T17:48:28.743Z"
   },
   {
    "duration": 189,
    "start_time": "2024-04-07T17:48:32.135Z"
   },
   {
    "duration": 7,
    "start_time": "2024-04-07T17:48:36.172Z"
   },
   {
    "duration": 11,
    "start_time": "2024-04-07T17:48:39.845Z"
   },
   {
    "duration": 1496,
    "start_time": "2024-04-07T17:51:15.305Z"
   },
   {
    "duration": 17,
    "start_time": "2024-04-07T17:51:32.246Z"
   },
   {
    "duration": 19,
    "start_time": "2024-04-07T17:51:44.092Z"
   },
   {
    "duration": 1544,
    "start_time": "2024-04-07T17:51:51.795Z"
   },
   {
    "duration": 1602,
    "start_time": "2024-04-07T17:52:04.146Z"
   },
   {
    "duration": 1561,
    "start_time": "2024-04-07T17:58:02.014Z"
   },
   {
    "duration": 1524,
    "start_time": "2024-04-07T17:58:13.981Z"
   },
   {
    "duration": 1580,
    "start_time": "2024-04-07T17:58:28.764Z"
   },
   {
    "duration": 1522,
    "start_time": "2024-04-07T17:58:36.677Z"
   },
   {
    "duration": 1518,
    "start_time": "2024-04-07T17:58:38.578Z"
   },
   {
    "duration": 106,
    "start_time": "2024-04-07T18:01:33.600Z"
   },
   {
    "duration": 104,
    "start_time": "2024-04-07T18:02:19.434Z"
   },
   {
    "duration": 236,
    "start_time": "2024-04-07T18:02:42.280Z"
   },
   {
    "duration": 245,
    "start_time": "2024-04-07T18:03:31.133Z"
   },
   {
    "duration": 329,
    "start_time": "2024-04-07T18:03:55.765Z"
   },
   {
    "duration": 355,
    "start_time": "2024-04-07T18:04:50.134Z"
   },
   {
    "duration": 354,
    "start_time": "2024-04-07T18:05:02.619Z"
   },
   {
    "duration": 28,
    "start_time": "2024-04-07T18:05:57.542Z"
   },
   {
    "duration": 347,
    "start_time": "2024-04-07T18:06:49.565Z"
   },
   {
    "duration": 297,
    "start_time": "2024-04-07T18:09:02.131Z"
   },
   {
    "duration": 237,
    "start_time": "2024-04-07T18:12:15.221Z"
   },
   {
    "duration": 346,
    "start_time": "2024-04-07T18:12:47.464Z"
   },
   {
    "duration": 394,
    "start_time": "2024-04-07T18:12:57.807Z"
   },
   {
    "duration": 9,
    "start_time": "2024-04-07T18:13:47.064Z"
   },
   {
    "duration": 10,
    "start_time": "2024-04-07T18:13:48.024Z"
   },
   {
    "duration": 1415,
    "start_time": "2024-04-07T18:14:01.186Z"
   },
   {
    "duration": 8,
    "start_time": "2024-04-07T18:14:22.216Z"
   },
   {
    "duration": 1395,
    "start_time": "2024-04-07T18:14:39.369Z"
   },
   {
    "duration": 1450,
    "start_time": "2024-04-07T18:14:50.189Z"
   },
   {
    "duration": 8,
    "start_time": "2024-04-07T18:15:06.452Z"
   },
   {
    "duration": 1405,
    "start_time": "2024-04-07T18:15:16.708Z"
   },
   {
    "duration": 1359,
    "start_time": "2024-04-07T18:15:21.308Z"
   },
   {
    "duration": 1411,
    "start_time": "2024-04-07T18:15:33.342Z"
   },
   {
    "duration": 35,
    "start_time": "2024-04-07T18:16:00.777Z"
   },
   {
    "duration": 20,
    "start_time": "2024-04-07T18:17:02.213Z"
   },
   {
    "duration": 92,
    "start_time": "2024-04-07T18:18:12.465Z"
   },
   {
    "duration": 34,
    "start_time": "2024-04-07T18:18:19.345Z"
   },
   {
    "duration": 3,
    "start_time": "2024-04-07T18:19:19.410Z"
   },
   {
    "duration": 363,
    "start_time": "2024-04-07T18:19:49.493Z"
   },
   {
    "duration": 8,
    "start_time": "2024-04-07T18:19:51.436Z"
   },
   {
    "duration": 14,
    "start_time": "2024-04-07T18:19:52.420Z"
   },
   {
    "duration": 38,
    "start_time": "2024-04-07T18:20:00.204Z"
   },
   {
    "duration": 10,
    "start_time": "2024-04-07T18:20:49.187Z"
   },
   {
    "duration": 9,
    "start_time": "2024-04-07T18:20:52.445Z"
   },
   {
    "duration": 12,
    "start_time": "2024-04-07T18:21:08.101Z"
   },
   {
    "duration": 11,
    "start_time": "2024-04-07T18:22:35.377Z"
   },
   {
    "duration": 11,
    "start_time": "2024-04-07T18:22:43.615Z"
   },
   {
    "duration": 1182,
    "start_time": "2024-04-07T18:23:00.850Z"
   },
   {
    "duration": 27,
    "start_time": "2024-04-07T18:23:02.034Z"
   },
   {
    "duration": 50,
    "start_time": "2024-04-07T18:23:02.062Z"
   },
   {
    "duration": 115,
    "start_time": "2024-04-07T18:23:02.114Z"
   },
   {
    "duration": 30,
    "start_time": "2024-04-07T18:23:02.231Z"
   },
   {
    "duration": 27,
    "start_time": "2024-04-07T18:23:02.262Z"
   },
   {
    "duration": 40,
    "start_time": "2024-04-07T18:23:02.291Z"
   },
   {
    "duration": 71,
    "start_time": "2024-04-07T18:23:02.333Z"
   },
   {
    "duration": 21,
    "start_time": "2024-04-07T18:23:02.405Z"
   },
   {
    "duration": 12,
    "start_time": "2024-04-07T18:23:02.429Z"
   },
   {
    "duration": 49,
    "start_time": "2024-04-07T18:23:02.443Z"
   },
   {
    "duration": 38,
    "start_time": "2024-04-07T18:23:02.494Z"
   },
   {
    "duration": 5,
    "start_time": "2024-04-07T18:23:02.533Z"
   },
   {
    "duration": 12,
    "start_time": "2024-04-07T18:23:02.540Z"
   },
   {
    "duration": 8,
    "start_time": "2024-04-07T18:23:02.554Z"
   },
   {
    "duration": 22,
    "start_time": "2024-04-07T18:23:02.563Z"
   },
   {
    "duration": 12,
    "start_time": "2024-04-07T18:23:02.587Z"
   },
   {
    "duration": 6,
    "start_time": "2024-04-07T18:23:02.601Z"
   },
   {
    "duration": 296,
    "start_time": "2024-04-07T18:23:02.608Z"
   },
   {
    "duration": 318,
    "start_time": "2024-04-07T18:23:02.905Z"
   },
   {
    "duration": 371,
    "start_time": "2024-04-07T18:23:03.225Z"
   },
   {
    "duration": 309,
    "start_time": "2024-04-07T18:23:03.598Z"
   },
   {
    "duration": 500,
    "start_time": "2024-04-07T18:23:03.909Z"
   },
   {
    "duration": 360,
    "start_time": "2024-04-07T18:23:04.411Z"
   },
   {
    "duration": 285,
    "start_time": "2024-04-07T18:23:04.772Z"
   },
   {
    "duration": 6,
    "start_time": "2024-04-07T18:23:05.059Z"
   },
   {
    "duration": 216,
    "start_time": "2024-04-07T18:23:05.067Z"
   },
   {
    "duration": 8,
    "start_time": "2024-04-07T18:23:05.286Z"
   },
   {
    "duration": 375,
    "start_time": "2024-04-07T18:23:05.295Z"
   },
   {
    "duration": 8,
    "start_time": "2024-04-07T18:23:05.672Z"
   },
   {
    "duration": 23,
    "start_time": "2024-04-07T18:23:05.682Z"
   },
   {
    "duration": 35,
    "start_time": "2024-04-07T18:23:05.707Z"
   },
   {
    "duration": 27,
    "start_time": "2024-04-07T18:23:05.743Z"
   },
   {
    "duration": 1145,
    "start_time": "2024-04-07T18:23:22.175Z"
   },
   {
    "duration": 27,
    "start_time": "2024-04-07T18:23:23.321Z"
   },
   {
    "duration": 30,
    "start_time": "2024-04-07T18:23:23.349Z"
   },
   {
    "duration": 6,
    "start_time": "2024-04-07T18:23:23.381Z"
   },
   {
    "duration": 10,
    "start_time": "2024-04-07T18:23:23.390Z"
   },
   {
    "duration": 6,
    "start_time": "2024-04-07T18:23:23.402Z"
   },
   {
    "duration": 10,
    "start_time": "2024-04-07T18:23:23.410Z"
   },
   {
    "duration": 53,
    "start_time": "2024-04-07T18:23:23.421Z"
   },
   {
    "duration": 19,
    "start_time": "2024-04-07T18:23:23.476Z"
   },
   {
    "duration": 12,
    "start_time": "2024-04-07T18:23:23.497Z"
   },
   {
    "duration": 13,
    "start_time": "2024-04-07T18:23:23.511Z"
   },
   {
    "duration": 35,
    "start_time": "2024-04-07T18:23:23.526Z"
   },
   {
    "duration": 4,
    "start_time": "2024-04-07T18:23:23.562Z"
   },
   {
    "duration": 11,
    "start_time": "2024-04-07T18:23:23.569Z"
   },
   {
    "duration": 8,
    "start_time": "2024-04-07T18:23:23.582Z"
   },
   {
    "duration": 9,
    "start_time": "2024-04-07T18:23:23.592Z"
   },
   {
    "duration": 9,
    "start_time": "2024-04-07T18:23:23.602Z"
   },
   {
    "duration": 4,
    "start_time": "2024-04-07T18:23:23.612Z"
   },
   {
    "duration": 326,
    "start_time": "2024-04-07T18:23:23.618Z"
   },
   {
    "duration": 332,
    "start_time": "2024-04-07T18:23:23.946Z"
   },
   {
    "duration": 378,
    "start_time": "2024-04-07T18:23:24.279Z"
   },
   {
    "duration": 328,
    "start_time": "2024-04-07T18:23:24.659Z"
   },
   {
    "duration": 508,
    "start_time": "2024-04-07T18:23:24.988Z"
   },
   {
    "duration": 290,
    "start_time": "2024-04-07T18:23:25.497Z"
   },
   {
    "duration": 298,
    "start_time": "2024-04-07T18:23:25.789Z"
   },
   {
    "duration": 6,
    "start_time": "2024-04-07T18:23:26.089Z"
   },
   {
    "duration": 199,
    "start_time": "2024-04-07T18:23:26.097Z"
   },
   {
    "duration": 7,
    "start_time": "2024-04-07T18:23:26.298Z"
   },
   {
    "duration": 400,
    "start_time": "2024-04-07T18:23:26.306Z"
   },
   {
    "duration": 8,
    "start_time": "2024-04-07T18:23:26.708Z"
   },
   {
    "duration": 17,
    "start_time": "2024-04-07T18:23:26.717Z"
   },
   {
    "duration": 45,
    "start_time": "2024-04-07T18:23:26.735Z"
   },
   {
    "duration": 12,
    "start_time": "2024-04-07T18:23:26.782Z"
   },
   {
    "duration": 1309,
    "start_time": "2024-04-08T08:53:46.579Z"
   },
   {
    "duration": 70,
    "start_time": "2024-04-08T08:53:47.890Z"
   },
   {
    "duration": 29,
    "start_time": "2024-04-08T08:53:47.961Z"
   },
   {
    "duration": 5,
    "start_time": "2024-04-08T08:53:47.991Z"
   },
   {
    "duration": 9,
    "start_time": "2024-04-08T08:53:47.998Z"
   },
   {
    "duration": 4,
    "start_time": "2024-04-08T08:53:48.008Z"
   },
   {
    "duration": 15,
    "start_time": "2024-04-08T08:53:48.013Z"
   },
   {
    "duration": 159,
    "start_time": "2024-04-08T08:53:48.029Z"
   },
   {
    "duration": 19,
    "start_time": "2024-04-08T08:53:48.190Z"
   },
   {
    "duration": 12,
    "start_time": "2024-04-08T08:53:48.210Z"
   },
   {
    "duration": 10,
    "start_time": "2024-04-08T08:53:48.224Z"
   },
   {
    "duration": 22,
    "start_time": "2024-04-08T08:53:48.235Z"
   },
   {
    "duration": 4,
    "start_time": "2024-04-08T08:53:48.258Z"
   },
   {
    "duration": 10,
    "start_time": "2024-04-08T08:53:48.264Z"
   },
   {
    "duration": 7,
    "start_time": "2024-04-08T08:53:48.275Z"
   },
   {
    "duration": 33,
    "start_time": "2024-04-08T08:53:48.284Z"
   },
   {
    "duration": 10,
    "start_time": "2024-04-08T08:53:48.318Z"
   },
   {
    "duration": 8,
    "start_time": "2024-04-08T08:53:48.329Z"
   },
   {
    "duration": 299,
    "start_time": "2024-04-08T08:53:48.338Z"
   },
   {
    "duration": 327,
    "start_time": "2024-04-08T08:53:48.639Z"
   },
   {
    "duration": 325,
    "start_time": "2024-04-08T08:53:48.968Z"
   },
   {
    "duration": 375,
    "start_time": "2024-04-08T08:53:49.295Z"
   },
   {
    "duration": 485,
    "start_time": "2024-04-08T08:53:49.672Z"
   },
   {
    "duration": 299,
    "start_time": "2024-04-08T08:53:50.159Z"
   },
   {
    "duration": 339,
    "start_time": "2024-04-08T08:53:50.460Z"
   },
   {
    "duration": 7,
    "start_time": "2024-04-08T08:53:50.800Z"
   },
   {
    "duration": 190,
    "start_time": "2024-04-08T08:53:50.815Z"
   },
   {
    "duration": 14,
    "start_time": "2024-04-08T08:53:51.006Z"
   },
   {
    "duration": 375,
    "start_time": "2024-04-08T08:53:51.021Z"
   },
   {
    "duration": 21,
    "start_time": "2024-04-08T08:53:51.397Z"
   },
   {
    "duration": 35,
    "start_time": "2024-04-08T08:53:51.420Z"
   },
   {
    "duration": 35,
    "start_time": "2024-04-08T08:53:51.457Z"
   },
   {
    "duration": 41,
    "start_time": "2024-04-08T08:53:51.494Z"
   },
   {
    "duration": 70,
    "start_time": "2024-04-08T09:05:19.869Z"
   },
   {
    "duration": 52,
    "start_time": "2024-04-08T17:01:57.043Z"
   },
   {
    "duration": 1404,
    "start_time": "2024-04-08T17:02:04.228Z"
   },
   {
    "duration": 67,
    "start_time": "2024-04-08T17:02:05.635Z"
   },
   {
    "duration": 27,
    "start_time": "2024-04-08T17:02:05.704Z"
   },
   {
    "duration": 20,
    "start_time": "2024-04-08T17:02:05.733Z"
   },
   {
    "duration": 60,
    "start_time": "2024-04-08T17:02:05.755Z"
   },
   {
    "duration": 22,
    "start_time": "2024-04-08T17:02:05.816Z"
   },
   {
    "duration": 14,
    "start_time": "2024-04-08T17:02:05.840Z"
   },
   {
    "duration": 163,
    "start_time": "2024-04-08T17:02:05.856Z"
   },
   {
    "duration": 21,
    "start_time": "2024-04-08T17:02:06.021Z"
   },
   {
    "duration": 14,
    "start_time": "2024-04-08T17:02:06.044Z"
   },
   {
    "duration": 20,
    "start_time": "2024-04-08T17:02:06.060Z"
   },
   {
    "duration": 24,
    "start_time": "2024-04-08T17:02:06.081Z"
   },
   {
    "duration": 4,
    "start_time": "2024-04-08T17:02:06.107Z"
   },
   {
    "duration": 15,
    "start_time": "2024-04-08T17:02:06.128Z"
   },
   {
    "duration": 6,
    "start_time": "2024-04-08T17:02:06.145Z"
   },
   {
    "duration": 10,
    "start_time": "2024-04-08T17:02:06.152Z"
   },
   {
    "duration": 21,
    "start_time": "2024-04-08T17:02:06.163Z"
   },
   {
    "duration": 41,
    "start_time": "2024-04-08T17:02:06.186Z"
   },
   {
    "duration": 322,
    "start_time": "2024-04-08T17:02:06.229Z"
   },
   {
    "duration": 1065,
    "start_time": "2024-04-08T17:02:06.553Z"
   },
   {
    "duration": 0,
    "start_time": "2024-04-08T17:02:07.620Z"
   },
   {
    "duration": 0,
    "start_time": "2024-04-08T17:02:07.622Z"
   },
   {
    "duration": 0,
    "start_time": "2024-04-08T17:02:07.624Z"
   },
   {
    "duration": 0,
    "start_time": "2024-04-08T17:02:07.626Z"
   },
   {
    "duration": 0,
    "start_time": "2024-04-08T17:02:07.627Z"
   },
   {
    "duration": 0,
    "start_time": "2024-04-08T17:02:07.628Z"
   },
   {
    "duration": 0,
    "start_time": "2024-04-08T17:02:07.629Z"
   },
   {
    "duration": 0,
    "start_time": "2024-04-08T17:02:07.631Z"
   },
   {
    "duration": 0,
    "start_time": "2024-04-08T17:02:07.632Z"
   },
   {
    "duration": 0,
    "start_time": "2024-04-08T17:02:07.633Z"
   },
   {
    "duration": 0,
    "start_time": "2024-04-08T17:02:07.634Z"
   },
   {
    "duration": 0,
    "start_time": "2024-04-08T17:02:07.635Z"
   },
   {
    "duration": 0,
    "start_time": "2024-04-08T17:02:07.637Z"
   },
   {
    "duration": 0,
    "start_time": "2024-04-08T17:02:07.638Z"
   },
   {
    "duration": 1130,
    "start_time": "2024-04-08T17:02:39.591Z"
   },
   {
    "duration": 10,
    "start_time": "2024-04-08T17:02:48.505Z"
   },
   {
    "duration": 12,
    "start_time": "2024-04-08T17:03:15.727Z"
   },
   {
    "duration": 5,
    "start_time": "2024-04-08T17:05:22.803Z"
   },
   {
    "duration": 3,
    "start_time": "2024-04-08T17:05:33.577Z"
   },
   {
    "duration": 4,
    "start_time": "2024-04-08T17:05:45.678Z"
   },
   {
    "duration": 15,
    "start_time": "2024-04-08T17:07:39.708Z"
   },
   {
    "duration": 5,
    "start_time": "2024-04-08T17:07:54.272Z"
   },
   {
    "duration": 6,
    "start_time": "2024-04-08T17:08:01.188Z"
   },
   {
    "duration": 320,
    "start_time": "2024-04-08T17:08:33.309Z"
   },
   {
    "duration": 5,
    "start_time": "2024-04-08T17:10:11.516Z"
   },
   {
    "duration": 4,
    "start_time": "2024-04-08T17:10:11.939Z"
   },
   {
    "duration": 6,
    "start_time": "2024-04-08T17:10:12.648Z"
   },
   {
    "duration": 5,
    "start_time": "2024-04-08T17:10:24.698Z"
   },
   {
    "duration": 15,
    "start_time": "2024-04-08T17:12:05.697Z"
   },
   {
    "duration": 1180,
    "start_time": "2024-04-08T17:12:22.935Z"
   },
   {
    "duration": 26,
    "start_time": "2024-04-08T17:12:24.117Z"
   },
   {
    "duration": 29,
    "start_time": "2024-04-08T17:12:24.145Z"
   },
   {
    "duration": 5,
    "start_time": "2024-04-08T17:12:24.176Z"
   },
   {
    "duration": 13,
    "start_time": "2024-04-08T17:12:24.183Z"
   },
   {
    "duration": 28,
    "start_time": "2024-04-08T17:12:24.198Z"
   },
   {
    "duration": 43,
    "start_time": "2024-04-08T17:12:24.228Z"
   },
   {
    "duration": 63,
    "start_time": "2024-04-08T17:12:24.272Z"
   },
   {
    "duration": 23,
    "start_time": "2024-04-08T17:12:24.337Z"
   },
   {
    "duration": 13,
    "start_time": "2024-04-08T17:12:24.362Z"
   },
   {
    "duration": 36,
    "start_time": "2024-04-08T17:12:24.377Z"
   },
   {
    "duration": 51,
    "start_time": "2024-04-08T17:12:24.415Z"
   },
   {
    "duration": 4,
    "start_time": "2024-04-08T17:12:24.468Z"
   },
   {
    "duration": 91,
    "start_time": "2024-04-08T17:12:24.475Z"
   },
   {
    "duration": 13,
    "start_time": "2024-04-08T17:12:24.567Z"
   },
   {
    "duration": 98,
    "start_time": "2024-04-08T17:12:24.581Z"
   },
   {
    "duration": 0,
    "start_time": "2024-04-08T17:12:24.681Z"
   },
   {
    "duration": 0,
    "start_time": "2024-04-08T17:12:24.682Z"
   },
   {
    "duration": 0,
    "start_time": "2024-04-08T17:12:24.683Z"
   },
   {
    "duration": 0,
    "start_time": "2024-04-08T17:12:24.684Z"
   },
   {
    "duration": 0,
    "start_time": "2024-04-08T17:12:24.685Z"
   },
   {
    "duration": 0,
    "start_time": "2024-04-08T17:12:24.686Z"
   },
   {
    "duration": 0,
    "start_time": "2024-04-08T17:12:24.687Z"
   },
   {
    "duration": 0,
    "start_time": "2024-04-08T17:12:24.688Z"
   },
   {
    "duration": 0,
    "start_time": "2024-04-08T17:12:24.689Z"
   },
   {
    "duration": 0,
    "start_time": "2024-04-08T17:12:24.690Z"
   },
   {
    "duration": 0,
    "start_time": "2024-04-08T17:12:24.691Z"
   },
   {
    "duration": 0,
    "start_time": "2024-04-08T17:12:24.692Z"
   },
   {
    "duration": 0,
    "start_time": "2024-04-08T17:12:24.694Z"
   },
   {
    "duration": 0,
    "start_time": "2024-04-08T17:12:24.695Z"
   },
   {
    "duration": 0,
    "start_time": "2024-04-08T17:12:24.695Z"
   },
   {
    "duration": 0,
    "start_time": "2024-04-08T17:12:24.696Z"
   },
   {
    "duration": 0,
    "start_time": "2024-04-08T17:12:24.697Z"
   },
   {
    "duration": 13,
    "start_time": "2024-04-08T17:12:42.124Z"
   },
   {
    "duration": 6,
    "start_time": "2024-04-08T17:15:13.697Z"
   },
   {
    "duration": 7,
    "start_time": "2024-04-08T17:15:55.391Z"
   },
   {
    "duration": 958,
    "start_time": "2024-04-08T17:15:56.339Z"
   },
   {
    "duration": 3,
    "start_time": "2024-04-08T17:16:10.230Z"
   },
   {
    "duration": 3,
    "start_time": "2024-04-08T17:16:23.279Z"
   },
   {
    "duration": 9,
    "start_time": "2024-04-08T17:22:09.517Z"
   },
   {
    "duration": 6,
    "start_time": "2024-04-08T17:22:14.630Z"
   },
   {
    "duration": 11,
    "start_time": "2024-04-08T17:23:33.077Z"
   },
   {
    "duration": 170,
    "start_time": "2024-04-08T17:23:35.178Z"
   },
   {
    "duration": 127,
    "start_time": "2024-04-08T17:23:38.749Z"
   },
   {
    "duration": 6,
    "start_time": "2024-04-08T17:23:40.432Z"
   },
   {
    "duration": 15,
    "start_time": "2024-04-08T17:23:42.633Z"
   },
   {
    "duration": 10,
    "start_time": "2024-04-08T17:24:53.460Z"
   },
   {
    "duration": 6,
    "start_time": "2024-04-08T17:25:09.112Z"
   },
   {
    "duration": 504,
    "start_time": "2024-04-08T17:25:10.694Z"
   },
   {
    "duration": 222,
    "start_time": "2024-04-08T17:26:01.200Z"
   },
   {
    "duration": 6,
    "start_time": "2024-04-08T17:26:51.616Z"
   },
   {
    "duration": 234,
    "start_time": "2024-04-08T17:26:52.057Z"
   },
   {
    "duration": 223,
    "start_time": "2024-04-08T17:27:00.468Z"
   },
   {
    "duration": 14,
    "start_time": "2024-04-08T17:27:23.171Z"
   },
   {
    "duration": 10,
    "start_time": "2024-04-08T17:27:53.270Z"
   },
   {
    "duration": 11,
    "start_time": "2024-04-08T17:27:55.651Z"
   },
   {
    "duration": 168,
    "start_time": "2024-04-08T17:27:56.154Z"
   },
   {
    "duration": 120,
    "start_time": "2024-04-08T17:27:56.774Z"
   },
   {
    "duration": 6,
    "start_time": "2024-04-08T17:27:57.711Z"
   },
   {
    "duration": 217,
    "start_time": "2024-04-08T17:27:59.098Z"
   },
   {
    "duration": 122,
    "start_time": "2024-04-08T17:28:03.246Z"
   },
   {
    "duration": 10,
    "start_time": "2024-04-08T17:29:08.148Z"
   },
   {
    "duration": 179,
    "start_time": "2024-04-08T17:29:11.379Z"
   },
   {
    "duration": 122,
    "start_time": "2024-04-08T17:29:12.465Z"
   },
   {
    "duration": 6,
    "start_time": "2024-04-08T17:29:13.395Z"
   },
   {
    "duration": 236,
    "start_time": "2024-04-08T17:29:15.176Z"
   },
   {
    "duration": 438,
    "start_time": "2024-04-08T17:29:23.618Z"
   },
   {
    "duration": 303,
    "start_time": "2024-04-08T17:29:56.271Z"
   },
   {
    "duration": 217,
    "start_time": "2024-04-08T17:30:20.905Z"
   },
   {
    "duration": 304,
    "start_time": "2024-04-08T17:31:09.737Z"
   },
   {
    "duration": 354,
    "start_time": "2024-04-08T17:31:44.593Z"
   },
   {
    "duration": 8,
    "start_time": "2024-04-08T17:32:07.627Z"
   },
   {
    "duration": 205,
    "start_time": "2024-04-08T17:35:39.395Z"
   },
   {
    "duration": 7,
    "start_time": "2024-04-08T17:35:48.073Z"
   },
   {
    "duration": 15,
    "start_time": "2024-04-08T17:39:09.234Z"
   },
   {
    "duration": 16,
    "start_time": "2024-04-08T17:39:26.014Z"
   },
   {
    "duration": 8,
    "start_time": "2024-04-08T17:39:49.481Z"
   },
   {
    "duration": 10,
    "start_time": "2024-04-08T17:39:59.783Z"
   },
   {
    "duration": 10,
    "start_time": "2024-04-08T17:40:54.858Z"
   },
   {
    "duration": 16,
    "start_time": "2024-04-08T17:51:31.303Z"
   },
   {
    "duration": 7,
    "start_time": "2024-04-08T17:51:33.946Z"
   },
   {
    "duration": 23,
    "start_time": "2024-04-08T17:54:27.238Z"
   },
   {
    "duration": 9,
    "start_time": "2024-04-08T17:54:29.392Z"
   },
   {
    "duration": 12,
    "start_time": "2024-04-08T17:55:43.519Z"
   },
   {
    "duration": 10,
    "start_time": "2024-04-08T17:59:27.971Z"
   },
   {
    "duration": 10,
    "start_time": "2024-04-08T18:01:12.132Z"
   },
   {
    "duration": 11,
    "start_time": "2024-04-08T18:01:19.788Z"
   },
   {
    "duration": 12,
    "start_time": "2024-04-08T18:02:06.958Z"
   },
   {
    "duration": 10,
    "start_time": "2024-04-08T18:06:53.689Z"
   },
   {
    "duration": 8,
    "start_time": "2024-04-08T18:07:02.861Z"
   },
   {
    "duration": 9,
    "start_time": "2024-04-08T18:09:29.688Z"
   },
   {
    "duration": 55,
    "start_time": "2024-04-08T18:11:39.181Z"
   },
   {
    "duration": 4,
    "start_time": "2024-04-08T18:11:43.413Z"
   },
   {
    "duration": 17,
    "start_time": "2024-04-08T18:12:50.666Z"
   },
   {
    "duration": 5,
    "start_time": "2024-04-08T18:13:05.354Z"
   },
   {
    "duration": 13,
    "start_time": "2024-04-08T18:13:05.852Z"
   },
   {
    "duration": 418,
    "start_time": "2024-04-08T18:13:43.985Z"
   },
   {
    "duration": 154,
    "start_time": "2024-04-08T18:14:09.255Z"
   },
   {
    "duration": 5,
    "start_time": "2024-04-08T18:15:25.817Z"
   },
   {
    "duration": 168,
    "start_time": "2024-04-08T18:15:26.261Z"
   },
   {
    "duration": 193,
    "start_time": "2024-04-08T18:15:36.538Z"
   },
   {
    "duration": 159,
    "start_time": "2024-04-08T18:15:45.600Z"
   },
   {
    "duration": 163,
    "start_time": "2024-04-08T18:15:59.745Z"
   },
   {
    "duration": 162,
    "start_time": "2024-04-08T18:17:55.114Z"
   },
   {
    "duration": 172,
    "start_time": "2024-04-08T18:18:35.228Z"
   },
   {
    "duration": 364,
    "start_time": "2024-04-08T18:23:43.485Z"
   },
   {
    "duration": 349,
    "start_time": "2024-04-08T18:23:48.704Z"
   },
   {
    "duration": 346,
    "start_time": "2024-04-08T18:24:02.669Z"
   },
   {
    "duration": 342,
    "start_time": "2024-04-08T18:24:14.296Z"
   },
   {
    "duration": 360,
    "start_time": "2024-04-08T18:24:21.035Z"
   },
   {
    "duration": 29,
    "start_time": "2024-04-08T18:24:53.878Z"
   },
   {
    "duration": 367,
    "start_time": "2024-04-08T18:25:11.390Z"
   },
   {
    "duration": 30,
    "start_time": "2024-04-08T18:25:23.821Z"
   },
   {
    "duration": 29,
    "start_time": "2024-04-08T18:25:56.277Z"
   },
   {
    "duration": 30,
    "start_time": "2024-04-08T18:26:40.772Z"
   },
   {
    "duration": 8,
    "start_time": "2024-04-08T18:26:56.085Z"
   },
   {
    "duration": 14,
    "start_time": "2024-04-08T18:28:07.049Z"
   },
   {
    "duration": 13,
    "start_time": "2024-04-08T18:29:53.825Z"
   },
   {
    "duration": 77,
    "start_time": "2024-04-08T18:30:18.181Z"
   },
   {
    "duration": 19,
    "start_time": "2024-04-08T18:33:40.529Z"
   },
   {
    "duration": 14,
    "start_time": "2024-04-08T18:47:57.403Z"
   },
   {
    "duration": 1216,
    "start_time": "2024-04-08T18:48:04.103Z"
   },
   {
    "duration": 27,
    "start_time": "2024-04-08T18:48:05.321Z"
   },
   {
    "duration": 28,
    "start_time": "2024-04-08T18:48:05.350Z"
   },
   {
    "duration": 5,
    "start_time": "2024-04-08T18:48:05.380Z"
   },
   {
    "duration": 13,
    "start_time": "2024-04-08T18:48:05.387Z"
   },
   {
    "duration": 27,
    "start_time": "2024-04-08T18:48:05.401Z"
   },
   {
    "duration": 16,
    "start_time": "2024-04-08T18:48:05.430Z"
   },
   {
    "duration": 67,
    "start_time": "2024-04-08T18:48:05.447Z"
   },
   {
    "duration": 26,
    "start_time": "2024-04-08T18:48:05.516Z"
   },
   {
    "duration": 13,
    "start_time": "2024-04-08T18:48:05.545Z"
   },
   {
    "duration": 14,
    "start_time": "2024-04-08T18:48:05.559Z"
   },
   {
    "duration": 36,
    "start_time": "2024-04-08T18:48:05.575Z"
   },
   {
    "duration": 19,
    "start_time": "2024-04-08T18:48:05.612Z"
   },
   {
    "duration": 13,
    "start_time": "2024-04-08T18:48:05.633Z"
   },
   {
    "duration": 9,
    "start_time": "2024-04-08T18:48:05.648Z"
   },
   {
    "duration": 14,
    "start_time": "2024-04-08T18:48:05.659Z"
   },
   {
    "duration": 18,
    "start_time": "2024-04-08T18:48:05.674Z"
   },
   {
    "duration": 36,
    "start_time": "2024-04-08T18:48:05.694Z"
   },
   {
    "duration": 176,
    "start_time": "2024-04-08T18:48:05.732Z"
   },
   {
    "duration": 145,
    "start_time": "2024-04-08T18:48:05.910Z"
   },
   {
    "duration": 123,
    "start_time": "2024-04-08T18:48:06.057Z"
   },
   {
    "duration": 0,
    "start_time": "2024-04-08T18:48:06.182Z"
   },
   {
    "duration": 0,
    "start_time": "2024-04-08T18:48:06.183Z"
   },
   {
    "duration": 0,
    "start_time": "2024-04-08T18:48:06.184Z"
   },
   {
    "duration": 0,
    "start_time": "2024-04-08T18:48:06.186Z"
   },
   {
    "duration": 0,
    "start_time": "2024-04-08T18:48:06.187Z"
   },
   {
    "duration": 0,
    "start_time": "2024-04-08T18:48:06.189Z"
   },
   {
    "duration": 0,
    "start_time": "2024-04-08T18:48:06.191Z"
   },
   {
    "duration": 0,
    "start_time": "2024-04-08T18:48:06.192Z"
   },
   {
    "duration": 0,
    "start_time": "2024-04-08T18:48:06.194Z"
   },
   {
    "duration": 0,
    "start_time": "2024-04-08T18:48:06.195Z"
   },
   {
    "duration": 0,
    "start_time": "2024-04-08T18:48:06.197Z"
   },
   {
    "duration": 0,
    "start_time": "2024-04-08T18:48:06.198Z"
   },
   {
    "duration": 0,
    "start_time": "2024-04-08T18:48:06.200Z"
   },
   {
    "duration": 0,
    "start_time": "2024-04-08T18:48:06.201Z"
   },
   {
    "duration": 0,
    "start_time": "2024-04-08T18:48:06.230Z"
   },
   {
    "duration": 1162,
    "start_time": "2024-04-08T18:49:10.533Z"
   },
   {
    "duration": 1010,
    "start_time": "2024-04-08T18:55:30.666Z"
   },
   {
    "duration": 967,
    "start_time": "2024-04-08T18:56:05.690Z"
   },
   {
    "duration": 1013,
    "start_time": "2024-04-08T18:56:29.273Z"
   },
   {
    "duration": 982,
    "start_time": "2024-04-08T18:56:46.343Z"
   },
   {
    "duration": 994,
    "start_time": "2024-04-08T18:57:02.724Z"
   },
   {
    "duration": 1075,
    "start_time": "2024-04-08T18:57:12.809Z"
   },
   {
    "duration": 988,
    "start_time": "2024-04-08T18:58:06.522Z"
   },
   {
    "duration": 111,
    "start_time": "2024-04-08T18:59:48.410Z"
   },
   {
    "duration": 109,
    "start_time": "2024-04-08T19:00:26.376Z"
   },
   {
    "duration": 1413,
    "start_time": "2024-04-08T19:01:11.333Z"
   },
   {
    "duration": 14,
    "start_time": "2024-04-08T19:02:32.211Z"
   },
   {
    "duration": 30,
    "start_time": "2024-04-08T19:02:37.149Z"
   },
   {
    "duration": 29,
    "start_time": "2024-04-08T19:02:50.083Z"
   },
   {
    "duration": 32,
    "start_time": "2024-04-08T19:03:04.749Z"
   },
   {
    "duration": 29,
    "start_time": "2024-04-08T19:03:55.869Z"
   },
   {
    "duration": 16,
    "start_time": "2024-04-08T19:07:44.374Z"
   },
   {
    "duration": 13,
    "start_time": "2024-04-08T19:07:44.912Z"
   },
   {
    "duration": 29,
    "start_time": "2024-04-08T19:07:50.135Z"
   },
   {
    "duration": 8,
    "start_time": "2024-04-08T19:08:20.215Z"
   },
   {
    "duration": 29,
    "start_time": "2024-04-08T19:08:21.673Z"
   },
   {
    "duration": 1121,
    "start_time": "2024-04-08T19:10:17.867Z"
   },
   {
    "duration": 26,
    "start_time": "2024-04-08T19:10:18.990Z"
   },
   {
    "duration": 27,
    "start_time": "2024-04-08T19:10:19.018Z"
   },
   {
    "duration": 4,
    "start_time": "2024-04-08T19:10:19.047Z"
   },
   {
    "duration": 11,
    "start_time": "2024-04-08T19:10:19.053Z"
   },
   {
    "duration": 5,
    "start_time": "2024-04-08T19:10:19.065Z"
   },
   {
    "duration": 21,
    "start_time": "2024-04-08T19:10:19.072Z"
   },
   {
    "duration": 70,
    "start_time": "2024-04-08T19:10:19.094Z"
   },
   {
    "duration": 20,
    "start_time": "2024-04-08T19:10:19.166Z"
   },
   {
    "duration": 14,
    "start_time": "2024-04-08T19:10:19.187Z"
   },
   {
    "duration": 22,
    "start_time": "2024-04-08T19:10:19.203Z"
   },
   {
    "duration": 32,
    "start_time": "2024-04-08T19:10:19.227Z"
   },
   {
    "duration": 27,
    "start_time": "2024-04-08T19:10:19.260Z"
   },
   {
    "duration": 19,
    "start_time": "2024-04-08T19:10:19.291Z"
   },
   {
    "duration": 66,
    "start_time": "2024-04-08T19:10:19.312Z"
   },
   {
    "duration": 39,
    "start_time": "2024-04-08T19:10:19.380Z"
   },
   {
    "duration": 15,
    "start_time": "2024-04-08T19:10:19.420Z"
   },
   {
    "duration": 18,
    "start_time": "2024-04-08T19:10:19.437Z"
   },
   {
    "duration": 188,
    "start_time": "2024-04-08T19:10:19.456Z"
   },
   {
    "duration": 136,
    "start_time": "2024-04-08T19:10:19.646Z"
   },
   {
    "duration": 103,
    "start_time": "2024-04-08T19:10:19.783Z"
   },
   {
    "duration": 0,
    "start_time": "2024-04-08T19:10:19.888Z"
   },
   {
    "duration": 0,
    "start_time": "2024-04-08T19:10:19.889Z"
   },
   {
    "duration": 0,
    "start_time": "2024-04-08T19:10:19.890Z"
   },
   {
    "duration": 0,
    "start_time": "2024-04-08T19:10:19.891Z"
   },
   {
    "duration": 0,
    "start_time": "2024-04-08T19:10:19.892Z"
   },
   {
    "duration": 0,
    "start_time": "2024-04-08T19:10:19.893Z"
   },
   {
    "duration": 0,
    "start_time": "2024-04-08T19:10:19.894Z"
   },
   {
    "duration": 0,
    "start_time": "2024-04-08T19:10:19.895Z"
   },
   {
    "duration": 0,
    "start_time": "2024-04-08T19:10:19.896Z"
   },
   {
    "duration": 0,
    "start_time": "2024-04-08T19:10:19.897Z"
   },
   {
    "duration": 0,
    "start_time": "2024-04-08T19:10:19.898Z"
   },
   {
    "duration": 0,
    "start_time": "2024-04-08T19:10:19.900Z"
   },
   {
    "duration": 0,
    "start_time": "2024-04-08T19:10:19.900Z"
   },
   {
    "duration": 0,
    "start_time": "2024-04-08T19:10:19.901Z"
   },
   {
    "duration": 0,
    "start_time": "2024-04-08T19:10:19.902Z"
   },
   {
    "duration": 9,
    "start_time": "2024-04-08T19:11:35.204Z"
   },
   {
    "duration": 7,
    "start_time": "2024-04-08T19:11:41.886Z"
   },
   {
    "duration": 342,
    "start_time": "2024-04-08T19:11:44.690Z"
   },
   {
    "duration": 382,
    "start_time": "2024-04-08T19:11:50.469Z"
   },
   {
    "duration": 326,
    "start_time": "2024-04-08T19:11:53.911Z"
   },
   {
    "duration": 227,
    "start_time": "2024-04-08T19:11:56.966Z"
   },
   {
    "duration": 319,
    "start_time": "2024-04-08T19:12:02.361Z"
   },
   {
    "duration": 305,
    "start_time": "2024-04-08T19:12:05.015Z"
   },
   {
    "duration": 7,
    "start_time": "2024-04-08T19:12:40.015Z"
   },
   {
    "duration": 201,
    "start_time": "2024-04-08T19:12:45.627Z"
   },
   {
    "duration": 8,
    "start_time": "2024-04-08T19:12:53.194Z"
   },
   {
    "duration": 14,
    "start_time": "2024-04-08T19:13:07.195Z"
   },
   {
    "duration": 11,
    "start_time": "2024-04-08T19:13:07.476Z"
   },
   {
    "duration": 12,
    "start_time": "2024-04-08T19:13:07.671Z"
   },
   {
    "duration": 975,
    "start_time": "2024-04-08T19:14:23.748Z"
   },
   {
    "duration": 13,
    "start_time": "2024-04-08T19:15:10.759Z"
   },
   {
    "duration": 11,
    "start_time": "2024-04-08T19:15:35.004Z"
   },
   {
    "duration": 8,
    "start_time": "2024-04-08T19:26:14.497Z"
   },
   {
    "duration": 1079,
    "start_time": "2024-04-08T19:28:40.336Z"
   },
   {
    "duration": 89,
    "start_time": "2024-04-08T19:30:24.116Z"
   },
   {
    "duration": 1054,
    "start_time": "2024-04-08T19:30:27.107Z"
   },
   {
    "duration": 332,
    "start_time": "2024-04-08T19:33:01.605Z"
   },
   {
    "duration": 88,
    "start_time": "2024-04-08T19:33:03.783Z"
   },
   {
    "duration": 91,
    "start_time": "2024-04-08T19:33:29.416Z"
   },
   {
    "duration": 397,
    "start_time": "2024-04-08T19:33:43.708Z"
   },
   {
    "duration": 34,
    "start_time": "2024-04-08T19:33:44.314Z"
   },
   {
    "duration": 28,
    "start_time": "2024-04-08T19:33:47.986Z"
   },
   {
    "duration": 1165,
    "start_time": "2024-04-08T19:34:13.125Z"
   },
   {
    "duration": 27,
    "start_time": "2024-04-08T19:34:14.291Z"
   },
   {
    "duration": 25,
    "start_time": "2024-04-08T19:34:14.320Z"
   },
   {
    "duration": 5,
    "start_time": "2024-04-08T19:34:14.348Z"
   },
   {
    "duration": 11,
    "start_time": "2024-04-08T19:34:14.354Z"
   },
   {
    "duration": 5,
    "start_time": "2024-04-08T19:34:14.366Z"
   },
   {
    "duration": 11,
    "start_time": "2024-04-08T19:34:14.373Z"
   },
   {
    "duration": 54,
    "start_time": "2024-04-08T19:34:14.386Z"
   },
   {
    "duration": 21,
    "start_time": "2024-04-08T19:34:14.441Z"
   },
   {
    "duration": 11,
    "start_time": "2024-04-08T19:34:14.465Z"
   },
   {
    "duration": 11,
    "start_time": "2024-04-08T19:34:14.478Z"
   },
   {
    "duration": 39,
    "start_time": "2024-04-08T19:34:14.490Z"
   },
   {
    "duration": 5,
    "start_time": "2024-04-08T19:34:14.530Z"
   },
   {
    "duration": 15,
    "start_time": "2024-04-08T19:34:14.536Z"
   },
   {
    "duration": 11,
    "start_time": "2024-04-08T19:34:14.553Z"
   },
   {
    "duration": 6,
    "start_time": "2024-04-08T19:34:14.566Z"
   },
   {
    "duration": 6,
    "start_time": "2024-04-08T19:34:14.574Z"
   },
   {
    "duration": 15,
    "start_time": "2024-04-08T19:34:14.582Z"
   },
   {
    "duration": 183,
    "start_time": "2024-04-08T19:34:14.598Z"
   },
   {
    "duration": 155,
    "start_time": "2024-04-08T19:34:14.783Z"
   },
   {
    "duration": 6,
    "start_time": "2024-04-08T19:34:14.940Z"
   },
   {
    "duration": 320,
    "start_time": "2024-04-08T19:34:14.947Z"
   },
   {
    "duration": 361,
    "start_time": "2024-04-08T19:34:15.269Z"
   },
   {
    "duration": 314,
    "start_time": "2024-04-08T19:34:15.631Z"
   },
   {
    "duration": 224,
    "start_time": "2024-04-08T19:34:15.946Z"
   },
   {
    "duration": 292,
    "start_time": "2024-04-08T19:34:16.171Z"
   },
   {
    "duration": 300,
    "start_time": "2024-04-08T19:34:16.466Z"
   },
   {
    "duration": 7,
    "start_time": "2024-04-08T19:34:16.770Z"
   },
   {
    "duration": 214,
    "start_time": "2024-04-08T19:34:16.778Z"
   },
   {
    "duration": 8,
    "start_time": "2024-04-08T19:34:16.993Z"
   },
   {
    "duration": 30,
    "start_time": "2024-04-08T19:34:17.002Z"
   },
   {
    "duration": 24,
    "start_time": "2024-04-08T19:34:17.034Z"
   },
   {
    "duration": 338,
    "start_time": "2024-04-08T19:34:17.060Z"
   },
   {
    "duration": 36,
    "start_time": "2024-04-08T19:34:17.400Z"
   },
   {
    "duration": 8,
    "start_time": "2024-04-08T19:34:17.438Z"
   },
   {
    "duration": 123,
    "start_time": "2024-04-08T19:34:17.448Z"
   },
   {
    "duration": 0,
    "start_time": "2024-04-08T19:34:17.573Z"
   },
   {
    "duration": 952,
    "start_time": "2024-04-08T19:35:38.204Z"
   },
   {
    "duration": 1031,
    "start_time": "2024-04-08T19:36:05.277Z"
   },
   {
    "duration": 8,
    "start_time": "2024-04-08T19:36:21.672Z"
   },
   {
    "duration": 956,
    "start_time": "2024-04-08T19:36:32.831Z"
   },
   {
    "duration": 7,
    "start_time": "2024-04-08T19:36:49.181Z"
   },
   {
    "duration": 30,
    "start_time": "2024-04-08T19:36:53.060Z"
   },
   {
    "duration": 1190,
    "start_time": "2024-04-08T19:37:04.715Z"
   },
   {
    "duration": 27,
    "start_time": "2024-04-08T19:37:05.907Z"
   },
   {
    "duration": 27,
    "start_time": "2024-04-08T19:37:05.935Z"
   },
   {
    "duration": 11,
    "start_time": "2024-04-08T19:37:05.964Z"
   },
   {
    "duration": 38,
    "start_time": "2024-04-08T19:37:05.976Z"
   },
   {
    "duration": 4,
    "start_time": "2024-04-08T19:37:06.016Z"
   },
   {
    "duration": 11,
    "start_time": "2024-04-08T19:37:06.022Z"
   },
   {
    "duration": 58,
    "start_time": "2024-04-08T19:37:06.035Z"
   },
   {
    "duration": 21,
    "start_time": "2024-04-08T19:37:06.095Z"
   },
   {
    "duration": 11,
    "start_time": "2024-04-08T19:37:06.119Z"
   },
   {
    "duration": 37,
    "start_time": "2024-04-08T19:37:06.132Z"
   },
   {
    "duration": 28,
    "start_time": "2024-04-08T19:37:06.171Z"
   },
   {
    "duration": 5,
    "start_time": "2024-04-08T19:37:06.201Z"
   },
   {
    "duration": 14,
    "start_time": "2024-04-08T19:37:06.208Z"
   },
   {
    "duration": 40,
    "start_time": "2024-04-08T19:37:06.224Z"
   },
   {
    "duration": 14,
    "start_time": "2024-04-08T19:37:06.266Z"
   },
   {
    "duration": 12,
    "start_time": "2024-04-08T19:37:06.281Z"
   },
   {
    "duration": 18,
    "start_time": "2024-04-08T19:37:06.295Z"
   },
   {
    "duration": 171,
    "start_time": "2024-04-08T19:37:06.315Z"
   },
   {
    "duration": 126,
    "start_time": "2024-04-08T19:37:06.488Z"
   },
   {
    "duration": 15,
    "start_time": "2024-04-08T19:37:06.615Z"
   },
   {
    "duration": 317,
    "start_time": "2024-04-08T19:37:06.631Z"
   },
   {
    "duration": 362,
    "start_time": "2024-04-08T19:37:06.950Z"
   },
   {
    "duration": 340,
    "start_time": "2024-04-08T19:37:07.314Z"
   },
   {
    "duration": 231,
    "start_time": "2024-04-08T19:37:07.656Z"
   },
   {
    "duration": 343,
    "start_time": "2024-04-08T19:37:07.889Z"
   },
   {
    "duration": 314,
    "start_time": "2024-04-08T19:37:08.234Z"
   },
   {
    "duration": 8,
    "start_time": "2024-04-08T19:37:08.552Z"
   },
   {
    "duration": 202,
    "start_time": "2024-04-08T19:37:08.562Z"
   },
   {
    "duration": 8,
    "start_time": "2024-04-08T19:37:08.766Z"
   },
   {
    "duration": 16,
    "start_time": "2024-04-08T19:37:08.776Z"
   },
   {
    "duration": 13,
    "start_time": "2024-04-08T19:37:08.794Z"
   },
   {
    "duration": 381,
    "start_time": "2024-04-08T19:37:08.830Z"
   },
   {
    "duration": 40,
    "start_time": "2024-04-08T19:37:09.212Z"
   },
   {
    "duration": 10,
    "start_time": "2024-04-08T19:37:09.253Z"
   },
   {
    "duration": 15,
    "start_time": "2024-04-08T19:37:09.264Z"
   },
   {
    "duration": 31,
    "start_time": "2024-04-08T19:37:09.281Z"
   },
   {
    "duration": 15,
    "start_time": "2024-04-08T19:37:09.328Z"
   },
   {
    "duration": 4,
    "start_time": "2024-04-08T19:44:55.214Z"
   },
   {
    "duration": 26,
    "start_time": "2024-04-08T19:44:55.850Z"
   },
   {
    "duration": 21,
    "start_time": "2024-04-08T19:44:56.223Z"
   },
   {
    "duration": 4,
    "start_time": "2024-04-08T19:44:58.232Z"
   },
   {
    "duration": 9,
    "start_time": "2024-04-08T19:44:58.658Z"
   },
   {
    "duration": 4,
    "start_time": "2024-04-08T19:45:04.098Z"
   },
   {
    "duration": 10,
    "start_time": "2024-04-08T19:45:05.365Z"
   },
   {
    "duration": 57,
    "start_time": "2024-04-08T19:45:08.808Z"
   },
   {
    "duration": 22,
    "start_time": "2024-04-08T19:45:09.359Z"
   },
   {
    "duration": 11,
    "start_time": "2024-04-08T19:45:10.275Z"
   },
   {
    "duration": 12,
    "start_time": "2024-04-08T19:45:10.804Z"
   },
   {
    "duration": 18,
    "start_time": "2024-04-08T19:45:11.810Z"
   },
   {
    "duration": 6,
    "start_time": "2024-04-08T19:45:12.628Z"
   },
   {
    "duration": 11,
    "start_time": "2024-04-08T19:45:13.195Z"
   },
   {
    "duration": 5,
    "start_time": "2024-04-08T19:45:17.705Z"
   },
   {
    "duration": 6,
    "start_time": "2024-04-08T19:45:42.147Z"
   },
   {
    "duration": 4,
    "start_time": "2024-04-08T19:45:44.514Z"
   },
   {
    "duration": 13,
    "start_time": "2024-04-08T19:45:57.792Z"
   },
   {
    "duration": 155,
    "start_time": "2024-04-08T19:45:58.759Z"
   },
   {
    "duration": 131,
    "start_time": "2024-04-08T19:46:01.280Z"
   },
   {
    "duration": 6,
    "start_time": "2024-04-08T19:46:03.387Z"
   },
   {
    "duration": 308,
    "start_time": "2024-04-08T19:46:04.330Z"
   },
   {
    "duration": 344,
    "start_time": "2024-04-08T19:46:11.481Z"
   },
   {
    "duration": 337,
    "start_time": "2024-04-08T19:46:31.420Z"
   },
   {
    "duration": 251,
    "start_time": "2024-04-08T19:46:34.824Z"
   },
   {
    "duration": 297,
    "start_time": "2024-04-08T19:46:38.549Z"
   },
   {
    "duration": 293,
    "start_time": "2024-04-08T19:46:41.088Z"
   },
   {
    "duration": 8,
    "start_time": "2024-04-08T19:46:50.430Z"
   },
   {
    "duration": 8,
    "start_time": "2024-04-08T19:47:06.537Z"
   },
   {
    "duration": 10,
    "start_time": "2024-04-08T19:47:17.665Z"
   },
   {
    "duration": 189,
    "start_time": "2024-04-08T19:47:25.220Z"
   },
   {
    "duration": 11,
    "start_time": "2024-04-08T19:47:33.908Z"
   },
   {
    "duration": 16,
    "start_time": "2024-04-08T19:47:49.491Z"
   },
   {
    "duration": 8,
    "start_time": "2024-04-08T19:47:52.014Z"
   },
   {
    "duration": 329,
    "start_time": "2024-04-08T19:47:52.913Z"
   },
   {
    "duration": 31,
    "start_time": "2024-04-08T19:47:53.466Z"
   },
   {
    "duration": 4,
    "start_time": "2024-04-08T19:49:59.058Z"
   },
   {
    "duration": 25,
    "start_time": "2024-04-08T19:49:59.248Z"
   },
   {
    "duration": 21,
    "start_time": "2024-04-08T19:49:59.686Z"
   },
   {
    "duration": 4,
    "start_time": "2024-04-08T19:50:00.859Z"
   },
   {
    "duration": 10,
    "start_time": "2024-04-08T19:50:01.344Z"
   },
   {
    "duration": 6,
    "start_time": "2024-04-08T19:50:03.596Z"
   },
   {
    "duration": 10,
    "start_time": "2024-04-08T19:50:03.979Z"
   },
   {
    "duration": 58,
    "start_time": "2024-04-08T19:50:06.178Z"
   },
   {
    "duration": 23,
    "start_time": "2024-04-08T19:50:06.523Z"
   },
   {
    "duration": 12,
    "start_time": "2024-04-08T19:50:07.278Z"
   },
   {
    "duration": 10,
    "start_time": "2024-04-08T19:50:08.005Z"
   },
   {
    "duration": 19,
    "start_time": "2024-04-08T19:50:08.576Z"
   },
   {
    "duration": 5,
    "start_time": "2024-04-08T19:50:09.012Z"
   },
   {
    "duration": 11,
    "start_time": "2024-04-08T19:50:09.409Z"
   },
   {
    "duration": 7,
    "start_time": "2024-04-08T19:50:13.346Z"
   },
   {
    "duration": 5,
    "start_time": "2024-04-08T19:50:13.600Z"
   },
   {
    "duration": 11,
    "start_time": "2024-04-08T19:50:15.239Z"
   },
   {
    "duration": 192,
    "start_time": "2024-04-08T19:50:15.432Z"
   },
   {
    "duration": 137,
    "start_time": "2024-04-08T19:50:16.372Z"
   },
   {
    "duration": 8,
    "start_time": "2024-04-08T19:50:16.511Z"
   },
   {
    "duration": 218,
    "start_time": "2024-04-08T19:50:16.808Z"
   },
   {
    "duration": 347,
    "start_time": "2024-04-08T19:50:18.193Z"
   },
   {
    "duration": 289,
    "start_time": "2024-04-08T19:50:19.472Z"
   },
   {
    "duration": 308,
    "start_time": "2024-04-08T19:50:21.666Z"
   },
   {
    "duration": 300,
    "start_time": "2024-04-08T19:50:22.563Z"
   },
   {
    "duration": 326,
    "start_time": "2024-04-08T19:50:24.704Z"
   },
   {
    "duration": 10,
    "start_time": "2024-04-08T19:50:30.000Z"
   },
   {
    "duration": 183,
    "start_time": "2024-04-08T19:50:31.100Z"
   },
   {
    "duration": 12,
    "start_time": "2024-04-08T19:50:31.751Z"
   },
   {
    "duration": 15,
    "start_time": "2024-04-08T19:50:33.214Z"
   },
   {
    "duration": 8,
    "start_time": "2024-04-08T19:50:33.416Z"
   },
   {
    "duration": 347,
    "start_time": "2024-04-08T19:50:33.624Z"
   },
   {
    "duration": 29,
    "start_time": "2024-04-08T19:50:33.973Z"
   },
   {
    "duration": 9,
    "start_time": "2024-04-08T19:50:37.807Z"
   },
   {
    "duration": 9,
    "start_time": "2024-04-08T19:50:45.197Z"
   },
   {
    "duration": 32,
    "start_time": "2024-04-08T19:50:45.811Z"
   },
   {
    "duration": 15,
    "start_time": "2024-04-08T19:50:50.683Z"
   },
   {
    "duration": 1107,
    "start_time": "2024-04-09T06:46:17.825Z"
   },
   {
    "duration": 76,
    "start_time": "2024-04-09T06:46:18.934Z"
   },
   {
    "duration": 25,
    "start_time": "2024-04-09T06:46:19.011Z"
   },
   {
    "duration": 14,
    "start_time": "2024-04-09T06:46:19.037Z"
   },
   {
    "duration": 13,
    "start_time": "2024-04-09T06:46:19.052Z"
   },
   {
    "duration": 14,
    "start_time": "2024-04-09T06:46:19.067Z"
   },
   {
    "duration": 16,
    "start_time": "2024-04-09T06:46:19.082Z"
   },
   {
    "duration": 135,
    "start_time": "2024-04-09T06:46:19.099Z"
   },
   {
    "duration": 18,
    "start_time": "2024-04-09T06:46:19.235Z"
   },
   {
    "duration": 22,
    "start_time": "2024-04-09T06:46:19.255Z"
   },
   {
    "duration": 10,
    "start_time": "2024-04-09T06:46:19.278Z"
   },
   {
    "duration": 21,
    "start_time": "2024-04-09T06:46:19.289Z"
   },
   {
    "duration": 4,
    "start_time": "2024-04-09T06:46:19.312Z"
   },
   {
    "duration": 20,
    "start_time": "2024-04-09T06:46:19.317Z"
   },
   {
    "duration": 7,
    "start_time": "2024-04-09T06:46:19.339Z"
   },
   {
    "duration": 23,
    "start_time": "2024-04-09T06:46:19.347Z"
   },
   {
    "duration": 12,
    "start_time": "2024-04-09T06:46:19.372Z"
   },
   {
    "duration": 189,
    "start_time": "2024-04-09T06:46:19.385Z"
   },
   {
    "duration": 136,
    "start_time": "2024-04-09T06:46:19.575Z"
   },
   {
    "duration": 6,
    "start_time": "2024-04-09T06:46:19.712Z"
   },
   {
    "duration": 324,
    "start_time": "2024-04-09T06:46:19.719Z"
   },
   {
    "duration": 754,
    "start_time": "2024-04-09T06:46:20.045Z"
   },
   {
    "duration": 588,
    "start_time": "2024-04-09T06:46:20.801Z"
   },
   {
    "duration": 512,
    "start_time": "2024-04-09T06:46:21.391Z"
   },
   {
    "duration": 381,
    "start_time": "2024-04-09T06:46:21.905Z"
   },
   {
    "duration": 301,
    "start_time": "2024-04-09T06:46:22.287Z"
   },
   {
    "duration": 8,
    "start_time": "2024-04-09T06:46:22.589Z"
   },
   {
    "duration": 200,
    "start_time": "2024-04-09T06:46:22.599Z"
   },
   {
    "duration": 9,
    "start_time": "2024-04-09T06:46:22.801Z"
   },
   {
    "duration": 13,
    "start_time": "2024-04-09T06:46:22.811Z"
   },
   {
    "duration": 9,
    "start_time": "2024-04-09T06:46:22.825Z"
   },
   {
    "duration": 320,
    "start_time": "2024-04-09T06:46:22.858Z"
   },
   {
    "duration": 27,
    "start_time": "2024-04-09T06:46:23.179Z"
   },
   {
    "duration": 9,
    "start_time": "2024-04-09T06:46:23.208Z"
   },
   {
    "duration": 12,
    "start_time": "2024-04-09T06:46:23.219Z"
   },
   {
    "duration": 57,
    "start_time": "2024-04-09T06:46:23.232Z"
   },
   {
    "duration": 11,
    "start_time": "2024-04-09T06:46:23.290Z"
   },
   {
    "duration": 46,
    "start_time": "2024-04-09T07:17:24.976Z"
   },
   {
    "duration": 1340,
    "start_time": "2024-04-09T07:17:32.340Z"
   },
   {
    "duration": 74,
    "start_time": "2024-04-09T07:17:33.682Z"
   },
   {
    "duration": 25,
    "start_time": "2024-04-09T07:17:33.758Z"
   },
   {
    "duration": 8,
    "start_time": "2024-04-09T07:17:33.785Z"
   },
   {
    "duration": 13,
    "start_time": "2024-04-09T07:17:33.795Z"
   },
   {
    "duration": 12,
    "start_time": "2024-04-09T07:17:33.810Z"
   },
   {
    "duration": 19,
    "start_time": "2024-04-09T07:17:33.823Z"
   },
   {
    "duration": 172,
    "start_time": "2024-04-09T07:17:33.844Z"
   },
   {
    "duration": 20,
    "start_time": "2024-04-09T07:17:34.017Z"
   },
   {
    "duration": 64,
    "start_time": "2024-04-09T07:17:34.040Z"
   },
   {
    "duration": 21,
    "start_time": "2024-04-09T07:17:34.105Z"
   },
   {
    "duration": 20,
    "start_time": "2024-04-09T07:17:34.128Z"
   },
   {
    "duration": 3,
    "start_time": "2024-04-09T07:17:34.150Z"
   },
   {
    "duration": 19,
    "start_time": "2024-04-09T07:17:34.155Z"
   },
   {
    "duration": 58,
    "start_time": "2024-04-09T07:17:34.175Z"
   },
   {
    "duration": 7,
    "start_time": "2024-04-09T07:17:34.234Z"
   },
   {
    "duration": 11,
    "start_time": "2024-04-09T07:17:34.243Z"
   },
   {
    "duration": 170,
    "start_time": "2024-04-09T07:17:34.255Z"
   },
   {
    "duration": 121,
    "start_time": "2024-04-09T07:17:34.427Z"
   },
   {
    "duration": 16,
    "start_time": "2024-04-09T07:17:34.550Z"
   },
   {
    "duration": 331,
    "start_time": "2024-04-09T07:17:34.567Z"
   },
   {
    "duration": 328,
    "start_time": "2024-04-09T07:17:34.900Z"
   },
   {
    "duration": 377,
    "start_time": "2024-04-09T07:17:35.229Z"
   },
   {
    "duration": 212,
    "start_time": "2024-04-09T07:17:35.608Z"
   },
   {
    "duration": 320,
    "start_time": "2024-04-09T07:17:35.822Z"
   },
   {
    "duration": 327,
    "start_time": "2024-04-09T07:17:36.143Z"
   },
   {
    "duration": 9,
    "start_time": "2024-04-09T07:17:36.472Z"
   },
   {
    "duration": 196,
    "start_time": "2024-04-09T07:17:36.484Z"
   },
   {
    "duration": 12,
    "start_time": "2024-04-09T07:17:36.681Z"
   },
   {
    "duration": 18,
    "start_time": "2024-04-09T07:17:36.694Z"
   },
   {
    "duration": 7,
    "start_time": "2024-04-09T07:17:36.714Z"
   },
   {
    "duration": 331,
    "start_time": "2024-04-09T07:17:36.723Z"
   },
   {
    "duration": 31,
    "start_time": "2024-04-09T07:17:37.056Z"
   },
   {
    "duration": 8,
    "start_time": "2024-04-09T07:17:37.089Z"
   },
   {
    "duration": 21,
    "start_time": "2024-04-09T07:17:37.099Z"
   },
   {
    "duration": 49,
    "start_time": "2024-04-09T07:17:37.122Z"
   },
   {
    "duration": 12,
    "start_time": "2024-04-09T07:17:37.173Z"
   },
   {
    "duration": 2780,
    "start_time": "2024-04-09T07:17:37.187Z"
   },
   {
    "duration": 8,
    "start_time": "2024-04-09T07:18:00.722Z"
   },
   {
    "duration": 7,
    "start_time": "2024-04-09T07:18:24.901Z"
   },
   {
    "duration": 1148,
    "start_time": "2024-04-09T12:56:09.622Z"
   },
   {
    "duration": 27,
    "start_time": "2024-04-09T12:56:10.771Z"
   },
   {
    "duration": 26,
    "start_time": "2024-04-09T12:56:10.800Z"
   },
   {
    "duration": 5,
    "start_time": "2024-04-09T12:56:10.828Z"
   },
   {
    "duration": 11,
    "start_time": "2024-04-09T12:56:10.834Z"
   },
   {
    "duration": 7,
    "start_time": "2024-04-09T12:56:10.847Z"
   },
   {
    "duration": 26,
    "start_time": "2024-04-09T12:56:10.855Z"
   },
   {
    "duration": 51,
    "start_time": "2024-04-09T12:56:10.883Z"
   },
   {
    "duration": 23,
    "start_time": "2024-04-09T12:56:10.936Z"
   },
   {
    "duration": 14,
    "start_time": "2024-04-09T12:56:10.962Z"
   },
   {
    "duration": 23,
    "start_time": "2024-04-09T12:56:10.978Z"
   },
   {
    "duration": 33,
    "start_time": "2024-04-09T12:56:11.003Z"
   },
   {
    "duration": 4,
    "start_time": "2024-04-09T12:56:11.038Z"
   },
   {
    "duration": 12,
    "start_time": "2024-04-09T12:56:11.044Z"
   },
   {
    "duration": 24,
    "start_time": "2024-04-09T12:56:11.058Z"
   },
   {
    "duration": 15,
    "start_time": "2024-04-09T12:56:11.083Z"
   },
   {
    "duration": 13,
    "start_time": "2024-04-09T12:56:11.099Z"
   },
   {
    "duration": 186,
    "start_time": "2024-04-09T12:56:11.114Z"
   },
   {
    "duration": 144,
    "start_time": "2024-04-09T12:56:11.302Z"
   },
   {
    "duration": 6,
    "start_time": "2024-04-09T12:56:11.448Z"
   },
   {
    "duration": 353,
    "start_time": "2024-04-09T12:56:11.456Z"
   },
   {
    "duration": 406,
    "start_time": "2024-04-09T12:56:11.811Z"
   },
   {
    "duration": 331,
    "start_time": "2024-04-09T12:56:12.218Z"
   },
   {
    "duration": 240,
    "start_time": "2024-04-09T12:56:12.551Z"
   },
   {
    "duration": 324,
    "start_time": "2024-04-09T12:56:12.793Z"
   },
   {
    "duration": 325,
    "start_time": "2024-04-09T12:56:13.119Z"
   },
   {
    "duration": 9,
    "start_time": "2024-04-09T12:56:13.446Z"
   },
   {
    "duration": 230,
    "start_time": "2024-04-09T12:56:13.459Z"
   },
   {
    "duration": 17,
    "start_time": "2024-04-09T12:56:13.692Z"
   },
   {
    "duration": 16,
    "start_time": "2024-04-09T12:56:13.711Z"
   },
   {
    "duration": 12,
    "start_time": "2024-04-09T12:56:13.729Z"
   },
   {
    "duration": 355,
    "start_time": "2024-04-09T12:56:13.743Z"
   },
   {
    "duration": 39,
    "start_time": "2024-04-09T12:56:14.099Z"
   },
   {
    "duration": 10,
    "start_time": "2024-04-09T12:56:14.139Z"
   },
   {
    "duration": 33,
    "start_time": "2024-04-09T12:56:14.151Z"
   },
   {
    "duration": 38,
    "start_time": "2024-04-09T12:56:14.186Z"
   },
   {
    "duration": 14,
    "start_time": "2024-04-09T12:56:14.226Z"
   }
  ],
  "kernelspec": {
   "display_name": "Python 3 (ipykernel)",
   "language": "python",
   "name": "python3"
  },
  "language_info": {
   "codemirror_mode": {
    "name": "ipython",
    "version": 3
   },
   "file_extension": ".py",
   "mimetype": "text/x-python",
   "name": "python",
   "nbconvert_exporter": "python",
   "pygments_lexer": "ipython3",
   "version": "3.9.19"
  },
  "toc": {
   "base_numbering": 1,
   "nav_menu": {},
   "number_sections": true,
   "sideBar": true,
   "skip_h1_title": true,
   "title_cell": "Table of Contents",
   "title_sidebar": "Contents",
   "toc_cell": false,
   "toc_position": {},
   "toc_section_display": true,
   "toc_window_display": true
  }
 },
 "nbformat": 4,
 "nbformat_minor": 2
}
